{
 "cells": [
  {
   "cell_type": "code",
   "execution_count": 1,
   "metadata": {
    "colab": {},
    "colab_type": "code",
    "id": "4QGwTQwmMkiU"
   },
   "outputs": [],
   "source": [
    "# Import dependencies\n",
    "import pandas as pd\n",
    "import numpy as np\n",
    "%matplotlib inline\n",
    "import matplotlib.pyplot as plt\n",
    "from IPython.display import Markdown, display\n",
    "from stats_helper import *\n",
    "def dis_res(x):\n",
    "    display(Markdown('___\\n##### **Result**: \\n\\n' + x + '\\n___'))"
   ]
  },
  {
   "cell_type": "markdown",
   "metadata": {
    "colab_type": "text",
    "id": "WGGTxB2UMkim"
   },
   "source": [
    "# Estimating the global mass of Rubisco\n",
    "In the notebook  [**```leaf_mass_estimate.ipynb```**](leaf_mass_estimate.ipynb), we estimated the total mass of leaves at ≈10 Gt dry weight. In this notebook we estimate the total mass of Rubisco based on the total mass of leaves and the fraction of Rubisco out of the total mass of leaves.\n",
    "We rely on a recent meta-anaylsis by [Onoda et al.](http://dx.doi.org/10.1111/nph.14496), which measured the leaf nitrogen content per leaf mass (Nmass) as well as the fraction of leaf nitrogen found in Rubisco (Nrub/N), for about a hundred different plant species.\n",
    "Here is a sample of the data:"
   ]
  },
  {
   "cell_type": "code",
   "execution_count": 2,
   "metadata": {
    "colab": {
     "base_uri": "https://localhost:8080/",
     "height": 613
    },
    "colab_type": "code",
    "id": "9WQ3xzQkMkiq",
    "outputId": "e3d9b82e-6208-4693-c5d3-e0ce3adfb09e"
   },
   "outputs": [
    {
     "data": {
      "text/html": [
       "<div>\n",
       "<style scoped>\n",
       "    .dataframe tbody tr th:only-of-type {\n",
       "        vertical-align: middle;\n",
       "    }\n",
       "\n",
       "    .dataframe tbody tr th {\n",
       "        vertical-align: top;\n",
       "    }\n",
       "\n",
       "    .dataframe thead th {\n",
       "        text-align: right;\n",
       "    }\n",
       "</style>\n",
       "<table border=\"1\" class=\"dataframe\">\n",
       "  <thead>\n",
       "    <tr style=\"text-align: right;\">\n",
       "      <th></th>\n",
       "      <th>no</th>\n",
       "      <th>Dataset</th>\n",
       "      <th>Species</th>\n",
       "      <th>Family</th>\n",
       "      <th>Growth condition</th>\n",
       "      <th>Pot/Field</th>\n",
       "      <th>Location/treatment</th>\n",
       "      <th>GF</th>\n",
       "      <th>EveDec</th>\n",
       "      <th>Aarea</th>\n",
       "      <th>...</th>\n",
       "      <th>Rubisco_area</th>\n",
       "      <th>Nrub/N</th>\n",
       "      <th>CWarea</th>\n",
       "      <th>CWmass</th>\n",
       "      <th>Nconc_in_CW</th>\n",
       "      <th>Ncw_area</th>\n",
       "      <th>Ncw/N</th>\n",
       "      <th>CW extraction</th>\n",
       "      <th>CW-N method</th>\n",
       "      <th>Ref</th>\n",
       "    </tr>\n",
       "  </thead>\n",
       "  <tbody>\n",
       "    <tr>\n",
       "      <th>0</th>\n",
       "      <td>1</td>\n",
       "      <td>Feng et al. (2009)</td>\n",
       "      <td>Ageratina adenophora</td>\n",
       "      <td>Asteraceae</td>\n",
       "      <td>Outdoor</td>\n",
       "      <td>Field</td>\n",
       "      <td>Mexico</td>\n",
       "      <td>H</td>\n",
       "      <td>D</td>\n",
       "      <td>12.72</td>\n",
       "      <td>...</td>\n",
       "      <td>NaN</td>\n",
       "      <td>NaN</td>\n",
       "      <td>NaN</td>\n",
       "      <td>NaN</td>\n",
       "      <td>NaN</td>\n",
       "      <td>0.110</td>\n",
       "      <td>0.093</td>\n",
       "      <td>SDS</td>\n",
       "      <td>Ninhidrin?</td>\n",
       "      <td>Feng, Y.L., Lei, Y.B., Wang, R.F., Callaway, R...</td>\n",
       "    </tr>\n",
       "    <tr>\n",
       "      <th>1</th>\n",
       "      <td>2</td>\n",
       "      <td>Feng et al. (2009)</td>\n",
       "      <td>Ageratina adenophora</td>\n",
       "      <td>Asteraceae</td>\n",
       "      <td>Outdoor</td>\n",
       "      <td>Field</td>\n",
       "      <td>China</td>\n",
       "      <td>H</td>\n",
       "      <td>D</td>\n",
       "      <td>14.91</td>\n",
       "      <td>...</td>\n",
       "      <td>NaN</td>\n",
       "      <td>NaN</td>\n",
       "      <td>NaN</td>\n",
       "      <td>NaN</td>\n",
       "      <td>NaN</td>\n",
       "      <td>0.037</td>\n",
       "      <td>0.035</td>\n",
       "      <td>SDS</td>\n",
       "      <td>Ninhidrin?</td>\n",
       "      <td>Feng, Y.L., Lei, Y.B., Wang, R.F., Callaway, R...</td>\n",
       "    </tr>\n",
       "    <tr>\n",
       "      <th>2</th>\n",
       "      <td>3</td>\n",
       "      <td>Feng et al. (2009)</td>\n",
       "      <td>Ageratina adenophora</td>\n",
       "      <td>Asteraceae</td>\n",
       "      <td>Outdoor</td>\n",
       "      <td>Field</td>\n",
       "      <td>India</td>\n",
       "      <td>H</td>\n",
       "      <td>D</td>\n",
       "      <td>16.63</td>\n",
       "      <td>...</td>\n",
       "      <td>NaN</td>\n",
       "      <td>NaN</td>\n",
       "      <td>NaN</td>\n",
       "      <td>NaN</td>\n",
       "      <td>NaN</td>\n",
       "      <td>0.086</td>\n",
       "      <td>0.064</td>\n",
       "      <td>SDS</td>\n",
       "      <td>Ninhidrin?</td>\n",
       "      <td>Feng, Y.L., Lei, Y.B., Wang, R.F., Callaway, R...</td>\n",
       "    </tr>\n",
       "    <tr>\n",
       "      <th>3</th>\n",
       "      <td>4</td>\n",
       "      <td>Funk et al (2013)</td>\n",
       "      <td>Acacia koa</td>\n",
       "      <td>Fabaceae</td>\n",
       "      <td>Outdoor</td>\n",
       "      <td>Field</td>\n",
       "      <td>Hawaii (native)</td>\n",
       "      <td>W</td>\n",
       "      <td>E</td>\n",
       "      <td>14.30</td>\n",
       "      <td>...</td>\n",
       "      <td>NaN</td>\n",
       "      <td>NaN</td>\n",
       "      <td>NaN</td>\n",
       "      <td>NaN</td>\n",
       "      <td>NaN</td>\n",
       "      <td>0.086</td>\n",
       "      <td>0.036</td>\n",
       "      <td>SDS</td>\n",
       "      <td>Ninhidrin</td>\n",
       "      <td>Funk, J.L., Glenwinkel, L.A. &amp; Sack, L. (2013)...</td>\n",
       "    </tr>\n",
       "    <tr>\n",
       "      <th>4</th>\n",
       "      <td>5</td>\n",
       "      <td>Funk et al (2013)</td>\n",
       "      <td>Dodonaea viscosa</td>\n",
       "      <td>Sapindaceae</td>\n",
       "      <td>Outdoor</td>\n",
       "      <td>Field</td>\n",
       "      <td>Hawaii (native)</td>\n",
       "      <td>W</td>\n",
       "      <td>E</td>\n",
       "      <td>10.90</td>\n",
       "      <td>...</td>\n",
       "      <td>NaN</td>\n",
       "      <td>NaN</td>\n",
       "      <td>NaN</td>\n",
       "      <td>NaN</td>\n",
       "      <td>NaN</td>\n",
       "      <td>0.232</td>\n",
       "      <td>0.100</td>\n",
       "      <td>SDS</td>\n",
       "      <td>Ninhidrin</td>\n",
       "      <td>Funk, J.L., Glenwinkel, L.A. &amp; Sack, L. (2013)...</td>\n",
       "    </tr>\n",
       "  </tbody>\n",
       "</table>\n",
       "<p>5 rows × 31 columns</p>\n",
       "</div>"
      ],
      "text/plain": [
       "   no             Dataset               Species       Family Growth condition  \\\n",
       "0   1  Feng et al. (2009)  Ageratina adenophora   Asteraceae          Outdoor   \n",
       "1   2  Feng et al. (2009)  Ageratina adenophora   Asteraceae          Outdoor   \n",
       "2   3  Feng et al. (2009)  Ageratina adenophora   Asteraceae          Outdoor   \n",
       "3   4   Funk et al (2013)            Acacia koa     Fabaceae          Outdoor   \n",
       "4   5   Funk et al (2013)      Dodonaea viscosa  Sapindaceae          Outdoor   \n",
       "\n",
       "  Pot/Field Location/treatment GF EveDec  Aarea  \\\n",
       "0     Field             Mexico  H      D  12.72   \n",
       "1     Field              China  H      D  14.91   \n",
       "2     Field              India  H      D  16.63   \n",
       "3     Field    Hawaii (native)  W      E  14.30   \n",
       "4     Field    Hawaii (native)  W      E  10.90   \n",
       "\n",
       "                         ...                          Rubisco_area  Nrub/N  \\\n",
       "0                        ...                                   NaN     NaN   \n",
       "1                        ...                                   NaN     NaN   \n",
       "2                        ...                                   NaN     NaN   \n",
       "3                        ...                                   NaN     NaN   \n",
       "4                        ...                                   NaN     NaN   \n",
       "\n",
       "   CWarea  CWmass  Nconc_in_CW  Ncw_area  Ncw/N  CW extraction  CW-N method  \\\n",
       "0     NaN     NaN          NaN     0.110  0.093            SDS   Ninhidrin?   \n",
       "1     NaN     NaN          NaN     0.037  0.035            SDS   Ninhidrin?   \n",
       "2     NaN     NaN          NaN     0.086  0.064            SDS   Ninhidrin?   \n",
       "3     NaN     NaN          NaN     0.086  0.036            SDS    Ninhidrin   \n",
       "4     NaN     NaN          NaN     0.232  0.100            SDS    Ninhidrin   \n",
       "\n",
       "                                                 Ref  \n",
       "0  Feng, Y.L., Lei, Y.B., Wang, R.F., Callaway, R...  \n",
       "1  Feng, Y.L., Lei, Y.B., Wang, R.F., Callaway, R...  \n",
       "2  Feng, Y.L., Lei, Y.B., Wang, R.F., Callaway, R...  \n",
       "3  Funk, J.L., Glenwinkel, L.A. & Sack, L. (2013)...  \n",
       "4  Funk, J.L., Glenwinkel, L.A. & Sack, L. (2013)...  \n",
       "\n",
       "[5 rows x 31 columns]"
      ]
     },
     "execution_count": 2,
     "metadata": {},
     "output_type": "execute_result"
    }
   ],
   "source": [
    "onoda = pd.read_excel('../data/literature_data.xlsx','Onoda')\n",
    "onoda.head()"
   ]
  },
  {
   "cell_type": "markdown",
   "metadata": {
    "colab_type": "text",
    "id": "DGpdLHCcMki7"
   },
   "source": [
    "The dataset contains information of species from three different growth forms: woody, and herbaceous plants. For each one of these groups, we calculate mass fraction of rubisco out of the total leaf mass by multiplying the nitrogen content per leaf mass by the fraction of leaf nitrogen in Rubisco. This gives us the total amount of rubisco nitrogen per leaf mass. To convert this result into the mass fraction of rubisco per leaf mass, we use the fact that nitrogen accounts for about a sixth of the mass of rubisco. We plot below the distribution of the mass fraction of rubisco per leaf mass for each growth form:"
   ]
  },
  {
   "cell_type": "code",
   "execution_count": 24,
   "metadata": {
    "colab": {
     "base_uri": "https://localhost:8080/",
     "height": 300
    },
    "colab_type": "code",
    "id": "bwg52h5ORmf6",
    "outputId": "bb62ae2a-f235-44be-f2a2-efcfa2a2c6eb"
   },
   "outputs": [
    {
     "data": {
      "image/png": "[encoded data removed]",
      "text/plain": [
       "<Figure size 432x288 with 1 Axes>"
      ]
     },
     "metadata": {},
     "output_type": "display_data"
    }
   ],
   "source": [
    "# Drop data with no Nrub/N and Nmass data\n",
    "filt_onoda = onoda.loc[onoda[['Nrub/N','Nmass']].dropna().index]\n",
    "\n",
    "# Calculate the mass fraction of rubisco per leaf mass\n",
    "filt_onoda['Rub_frac'] = filt_onoda['Nmass']/100*filt_onoda['Nrub/N']*6\n",
    "\n",
    "# Convert mass fraction to log scale for plotting histograms\n",
    "filt_onoda['log_rub_frac'] = np.log10(filt_onoda['Rub_frac'])\n",
    "\n",
    "filt_onoda.loc[filt_onoda['GF'] == 'G','GF'] = 'H'\n",
    "\n",
    "rub_frac = pd.DataFrame(filt_onoda.loc[filt_onoda['GF'] == 'W','log_rub_frac'].values)\n",
    "rub_frac.columns = ['Woody']\n",
    "rub_frac['Herbaceous'] = pd.DataFrame(filt_onoda.loc[filt_onoda['GF'] == 'H','log_rub_frac'].values)\n",
    "\n",
    "rub_frac.plot.hist(stacked=True,bins=np.log10([1e-100,0.0025,0.005,0.01,0.02,0.04,0.08,0.16,1e100]),color=['#234d20','#c9df8a'])\n",
    "\n",
    "plt.legend(fontsize=11,bbox_to_anchor=(0.35,1))\n",
    "plt.xlabel('% mass of rubisco out of leaf mass')\n",
    "plt.ylabel('Number of species')\n",
    "plt.ylim([0,30])\n",
    "plt.xlim(np.log10([0.002,0.2]))\n",
    "\n",
    "ax = plt.gca()\n",
    "plt.grid()\n",
    "plt.vlines(np.log10(np.average(filt_onoda.groupby('GF')['Rub_frac'].apply(lambda x: gmean(x)), weights=[0.3,0.7])),0,30,color='k',linestyles='dashed')\n",
    "ticks = [0.25,0.5,1,2,4,8,16]\n",
    "ax.set_xticks(np.log10([0.0025,0.005,0.01,0.02,0.04,0.08,0.16]))\n",
    "ax.set_xticklabels(ticks)\n",
    "plt.savefig('../figures/figure1_20180924.png',dpi=600)"
   ]
  },
  {
   "cell_type": "markdown",
   "metadata": {
    "colab_type": "text",
    "id": "cBPpwPlNfeXp"
   },
   "source": [
    "To estimate the mean fraction of Rubisco out of the dry leaf mass, we calculate the geometric mean of the Rubisco per dry leaf mass for woody plants and for herbs separately. In the notebook [**```02_leaf_mass_estimate.ipynb```**](02_leaf_mass_estimate.ipynb)  we estimated that leaves of woody plants account for about 30% of the total leaf mass. Therefore, our best estimate for the fraction of Rubisco out of the dry leaf mass we use the weighted average of the values for woody plants and for herbs."
   ]
  },
  {
   "cell_type": "code",
   "execution_count": 17,
   "metadata": {
    "colab": {},
    "colab_type": "code",
    "id": "yCkTBBTJgE1U"
   },
   "outputs": [
    {
     "data": {
      "text/plain": [
       "0.02525384504771469"
      ]
     },
     "execution_count": 17,
     "metadata": {},
     "output_type": "execute_result"
    }
   ],
   "source": [
    "# Calculate the geometric mean fraction of Rubisco in each growth form\n",
    "rub_frac_GF_mean = filt_onoda.groupby('GF')['Rub_frac'].apply(lambda x: gmean(x))\n",
    "\n",
    "# Calculate the average fraction of Rubisco between woody plants and herbs\n",
    "best_rub_frac = np.average(rub_frac_GF_mean, weights=[0.3,0.7])\n",
    "best_rub_frac"
   ]
  },
  {
   "cell_type": "markdown",
   "metadata": {
    "colab_type": "text",
    "id": "0OfX8IqfMkjG"
   },
   "source": [
    "We now use this mean fraction to estimate the total mass of rubisco:"
   ]
  },
  {
   "cell_type": "code",
   "execution_count": 15,
   "metadata": {
    "colab": {
     "base_uri": "https://localhost:8080/",
     "height": 34
    },
    "colab_type": "code",
    "id": "UdhrU5RbMkjI",
    "outputId": "0df21fef-3b70-489a-aa22-561d795af1ff"
   },
   "outputs": [
    {
     "data": {
      "text/markdown": [
       "___\n",
       "##### **Result**: \n",
       "\n",
       "Our best estimate for the total mass of rubisco is ≈0.8 Gt\n",
       "___"
      ],
      "text/plain": [
       "<IPython.core.display.Markdown object>"
      ]
     },
     "metadata": {},
     "output_type": "display_data"
    }
   ],
   "source": [
    "# Our best estimate for the total leaf mass is ≈32 Gt\n",
    "best_leaf_mass = 32e15\n",
    "\n",
    "# Calculate the total mass of rubisco\n",
    "tot_rub_mass = best_rub_frac*best_leaf_mass\n",
    "\n",
    "dis_res('Our best estimate for the total mass of rubisco is ≈%.1f Gt' %(tot_rub_mass/1e15))"
   ]
  },
  {
   "cell_type": "markdown",
   "metadata": {
    "colab_type": "text",
    "id": "-ucfCowWMkjS"
   },
   "source": [
    "## Estimating the total mass of marine rubisco\n",
    "To estimate the total mass of Rubisco proteins in the marine environment, we rely on the estimate made in [Bar-On et al.](https://dx.doi.org/10.1073/pnas.1711842115) for the total mass of marine producers. Bar-On et al. estimate the total mass of marine producers at ≈1 Gt C. We assume carbon accounts for ≈50% of the dry weight of marine producers, and that proteins also account for ≈50% of the dry weight of marine producers, so we estimate the total mass of proteins in marine producers at ≈1 Gt. To estimate the mass of Rubisco out of the total mass of proteins in marine producers, we use data from several different sources on the fraction of Rubisco out of the total proteome of several different marine producer species. Here is a sample of the data:"
   ]
  },
  {
   "cell_type": "code",
   "execution_count": null,
   "metadata": {
    "colab": {},
    "colab_type": "code",
    "id": "XqkOPUdaMkjT",
    "outputId": "ce36a484-b126-4817-87aa-1151a681a5a4"
   },
   "outputs": [
    {
     "data": {
      "text/html": [
       "<div>\n",
       "<style scoped>\n",
       "    .dataframe tbody tr th:only-of-type {\n",
       "        vertical-align: middle;\n",
       "    }\n",
       "\n",
       "    .dataframe tbody tr th {\n",
       "        vertical-align: top;\n",
       "    }\n",
       "\n",
       "    .dataframe thead th {\n",
       "        text-align: right;\n",
       "    }\n",
       "</style>\n",
       "<table border=\"1\" class=\"dataframe\">\n",
       "  <thead>\n",
       "    <tr style=\"text-align: right;\">\n",
       "      <th></th>\n",
       "      <th>Species</th>\n",
       "      <th>Exponential</th>\n",
       "      <th>Stationary</th>\n",
       "      <th>Mean fraction of rubisco out of the proteome (%)</th>\n",
       "      <th>Reference</th>\n",
       "      <th>Remarks</th>\n",
       "    </tr>\n",
       "  </thead>\n",
       "  <tbody>\n",
       "    <tr>\n",
       "      <th>0</th>\n",
       "      <td>Thalassiosira weissflogii</td>\n",
       "      <td>2.5</td>\n",
       "      <td>1.2</td>\n",
       "      <td>1.85</td>\n",
       "      <td>https://doi.org/10.1111/nph.12143</td>\n",
       "      <td>Table 1</td>\n",
       "    </tr>\n",
       "    <tr>\n",
       "      <th>1</th>\n",
       "      <td>Thalassiosira oceanica</td>\n",
       "      <td>2.0</td>\n",
       "      <td>0.6</td>\n",
       "      <td>1.30</td>\n",
       "      <td>https://doi.org/10.1111/nph.12143</td>\n",
       "      <td>Table 1</td>\n",
       "    </tr>\n",
       "    <tr>\n",
       "      <th>2</th>\n",
       "      <td>Skeletonema costatum</td>\n",
       "      <td>1.4</td>\n",
       "      <td>0.8</td>\n",
       "      <td>1.10</td>\n",
       "      <td>https://doi.org/10.1111/nph.12143</td>\n",
       "      <td>Table 1</td>\n",
       "    </tr>\n",
       "    <tr>\n",
       "      <th>3</th>\n",
       "      <td>Chaetocerosmuelleri</td>\n",
       "      <td>3.7</td>\n",
       "      <td>0.5</td>\n",
       "      <td>2.10</td>\n",
       "      <td>https://doi.org/10.1111/nph.12143</td>\n",
       "      <td>Table 1</td>\n",
       "    </tr>\n",
       "    <tr>\n",
       "      <th>4</th>\n",
       "      <td>Phaeodactylum tricornutum</td>\n",
       "      <td>3.2</td>\n",
       "      <td>1.6</td>\n",
       "      <td>2.40</td>\n",
       "      <td>https://doi.org/10.1111/nph.12143</td>\n",
       "      <td>Table 1</td>\n",
       "    </tr>\n",
       "  </tbody>\n",
       "</table>\n",
       "</div>"
      ],
      "text/plain": [
       "                      Species  Exponential  Stationary  \\\n",
       "0   Thalassiosira weissflogii          2.5         1.2   \n",
       "1      Thalassiosira oceanica          2.0         0.6   \n",
       "2        Skeletonema costatum          1.4         0.8   \n",
       "3        Chaetocerosmuelleri           3.7         0.5   \n",
       "4  Phaeodactylum tricornutum           3.2         1.6   \n",
       "\n",
       "   Mean fraction of rubisco out of the proteome (%)  \\\n",
       "0                                              1.85   \n",
       "1                                              1.30   \n",
       "2                                              1.10   \n",
       "3                                              2.10   \n",
       "4                                              2.40   \n",
       "\n",
       "                           Reference  Remarks  \n",
       "0  https://doi.org/10.1111/nph.12143  Table 1  \n",
       "1  https://doi.org/10.1111/nph.12143  Table 1  \n",
       "2  https://doi.org/10.1111/nph.12143  Table 1  \n",
       "3  https://doi.org/10.1111/nph.12143  Table 1  \n",
       "4  https://doi.org/10.1111/nph.12143  Table 1  "
      ]
     },
     "execution_count": 5,
     "metadata": {
      "tags": []
     },
     "output_type": "execute_result"
    }
   ],
   "source": [
    "marine_proteome_mass = 1e15 #Our estimate for the total mass of proteins in marine producers is 1 Gt\n",
    "\n",
    "marine_rubisco_frac = pd.read_excel('../data/literature_data.xlsx','marine_rubisco_content')\n",
    "marine_rubisco_frac.head()"
   ]
  },
  {
   "cell_type": "markdown",
   "metadata": {
    "colab_type": "text",
    "id": "OHCTuH2IMkjb"
   },
   "source": [
    "We calculate the mean fraction of Rubisco for each species, and them use the median fraction between species as our best estimate for the characteristic fraction of Rubisco out of the proteome of marine producers:"
   ]
  },
  {
   "cell_type": "code",
   "execution_count": null,
   "metadata": {
    "colab": {},
    "colab_type": "code",
    "id": "XU8llOCcMkje",
    "outputId": "2ddfbe69-0db6-43a3-b2e6-4b0e07a1b54a"
   },
   "outputs": [
    {
     "data": {
      "text/markdown": [
       "___\n",
       "##### **Result**: \n",
       "\n",
       "Our best estimate for the fraction of Rubisco out of the proteome of marine producers is 3%\n",
       "___"
      ],
      "text/plain": [
       "<IPython.core.display.Markdown object>"
      ]
     },
     "metadata": {
      "tags": []
     },
     "output_type": "display_data"
    }
   ],
   "source": [
    "best_marine_rubisco_frac = gmean(marine_rubisco_frac.groupby('Species').mean()['Mean fraction of rubisco out of the proteome (%)'])\n",
    "dis_res('Our best estimate for the fraction of Rubisco out of the proteome of marine producers is %.0f' %best_marine_rubisco_frac + '%')"
   ]
  },
  {
   "cell_type": "markdown",
   "metadata": {
    "colab_type": "text",
    "id": "MuSVdsfRMkjn"
   },
   "source": [
    "We multiply the total mass of proteins in marine producers by the characteristic fraction of Rubisco out of the total mass of proteins to estimate the total mass of marine Rubisco"
   ]
  },
  {
   "cell_type": "code",
   "execution_count": null,
   "metadata": {
    "colab": {},
    "colab_type": "code",
    "id": "1eQ_3rA9Mkjp",
    "outputId": "c3b97d14-ec88-4826-86f9-cb9868be496d"
   },
   "outputs": [
    {
     "data": {
      "text/markdown": [
       "___\n",
       "##### **Result**: \n",
       "\n",
       "Our best estimate for the total mass of marine Rubisco proteins is ≈0.03 Gt\n",
       "___"
      ],
      "text/plain": [
       "<IPython.core.display.Markdown object>"
      ]
     },
     "metadata": {
      "tags": []
     },
     "output_type": "display_data"
    }
   ],
   "source": [
    "tot_marine_rub_mass = marine_proteome_mass*best_marine_rubisco_frac/100\n",
    "dis_res('Our best estimate for the total mass of marine Rubisco proteins is ≈%.2f Gt' %(tot_marine_rub_mass/1e15))"
   ]
  },
  {
   "cell_type": "markdown",
   "metadata": {
    "colab_type": "text",
    "id": "kFDyEex0Mkjy"
   },
   "source": [
    "# Uncertainty analysis\n",
    "## Terrestrial Rubisco\n",
    "First, we project the uncertainty associated with our estimate of the total mass fraction of Rubisco out of the total leaf dry mass. Then we combine this uncertainty with our uncertainty associated with our estimate of the total mass of leaves to arrive at our best projection of the uncertainty associated with our estimate of the total mass of Rubisco"
   ]
  },
  {
   "cell_type": "code",
   "execution_count": 6,
   "metadata": {
    "colab": {
     "base_uri": "https://localhost:8080/",
     "height": 34
    },
    "colab_type": "code",
    "id": "GrT93_FzMkj0",
    "outputId": "cce157fd-db2c-4012-cf37-28dec0916b9d"
   },
   "outputs": [
    {
     "data": {
      "text/markdown": [
       "___\n",
       "##### **Result**: \n",
       "\n",
       "Our projection for the uncertainty associated with our estimate for the mass fraction of Rubisco out of the total leaf dry weight is ≈2.5-fold\n",
       "___"
      ],
      "text/plain": [
       "<IPython.core.display.Markdown object>"
      ]
     },
     "metadata": {},
     "output_type": "display_data"
    },
    {
     "data": {
      "text/plain": [
       "1.9146840183524922"
      ]
     },
     "execution_count": 6,
     "metadata": {},
     "output_type": "execute_result"
    }
   ],
   "source": [
    "rub_frac_CI = mul_CI(filt_onoda['Rub_frac'])\n",
    "dis_res('Our projection for the uncertainty associated with our estimate for the mass fraction of Rubisco out of the total leaf dry weight is ≈%.1f-fold' %rub_frac_CI)"
   ]
  },
  {
   "cell_type": "markdown",
   "metadata": {
    "colab_type": "text",
    "id": "psQ_7MSMMkj9"
   },
   "source": [
    "In the notebook [**```02_leaf_mass_estimate.ipynb```**](02_leaf_mass_estimate.ipynb) we project an uncertainty of ≈2-fold associated with our estimate for the total mass of leaves. We combine this uncertainty with the uncertainty associated with our estimate of the fraction of Rubisco out of the dry mass of leaves:"
   ]
  },
  {
   "cell_type": "code",
   "execution_count": 80,
   "metadata": {
    "colab": {
     "base_uri": "https://localhost:8080/",
     "height": 34
    },
    "colab_type": "code",
    "id": "_-qp3dw8Mkj-",
    "outputId": "56db62a5-557e-4295-cc05-24f11aff01c5"
   },
   "outputs": [
    {
     "data": {
      "text/markdown": [
       "___\n",
       "##### **Result**: \n",
       "\n",
       "Our projection for the uncertainty associated with our estimate for the total mass of terrestrial Rubisco is ≈3.4-fold\n",
       "___"
      ],
      "text/plain": [
       "<IPython.core.display.Markdown object>"
      ]
     },
     "metadata": {
      "tags": []
     },
     "output_type": "display_data"
    }
   ],
   "source": [
    "rub_mass_CI = CI_prod_prop([rub_frac_CI,2.2])\n",
    "dis_res('Our projection for the uncertainty associated with our estimate for the total mass of terrestrial Rubisco is ≈%.1f-fold' %rub_mass_CI)"
   ]
  },
  {
   "cell_type": "markdown",
   "metadata": {
    "colab_type": "text",
    "id": "zea2BcFNMkkF"
   },
   "source": [
    "## Marine Rubisco\n",
    "To project the uncertainty associated with our estimate of the total mass of marine Rubisco, we combine the uncertainties associated with the estimates of the total protein mass of marine autotrophs and the proteome fraction of Rubisco. \n",
    "[Bar-On et al.](https://dx.doi.org/10.1073/pnas.1711842115) Estimated a total of about 1.3 Gt C of marine autotrophs. This values was compared against estimates based on remote sensing from [Antonine et al.](http://dx.doi.org/10.1029/95GB02832) and [Behrenfeld & Falkowski.](http://dx.doi.org/10.4319/lo.1997.42.1.0001), who estimate ≈0.3-0.75 Gt C of phytoplankton. We use these three estimates to derive our uncertainty projection for the protein mass of marine autotrophs. The uncertainty of the conversion between carbon mass and protein mass is expected to be lower than the uncertainty associated with the estimate of the biomass of marine autotrophs and therefore we neglect it. "
   ]
  },
  {
   "cell_type": "code",
   "execution_count": null,
   "metadata": {
    "colab": {},
    "colab_type": "code",
    "id": "ZLPea7Q-MkkH",
    "outputId": "d6308d36-b631-40e1-818b-7eed1f650c18"
   },
   "outputs": [
    {
     "data": {
      "text/markdown": [
       "___\n",
       "##### **Result**: \n",
       "\n",
       "Our projection for the uncertainty associated with our estimate for the total biomass of marine autotrophs is ≈2.5-fold\n",
       "___"
      ],
      "text/plain": [
       "<IPython.core.display.Markdown object>"
      ]
     },
     "metadata": {
      "tags": []
     },
     "output_type": "display_data"
    }
   ],
   "source": [
    "marine_prot_CI = mul_CI([1.3,0.3,0.75])\n",
    "dis_res('Our projection for the uncertainty associated with our estimate for the total biomass of marine autotrophs is ≈%.1f-fold' %marine_prot_CI)"
   ]
  },
  {
   "cell_type": "markdown",
   "metadata": {
    "colab_type": "text",
    "id": "T1-xOjbxMkkO"
   },
   "source": [
    "To project the uncertainty associated with our estimate of the proteome fraction of Rubisco in marine autotrophs, we rely on the variability between the values based on which we calculate the mean proteome fraction: "
   ]
  },
  {
   "cell_type": "code",
   "execution_count": null,
   "metadata": {
    "colab": {},
    "colab_type": "code",
    "id": "qbu1yXbAMkkP",
    "outputId": "c13555e0-ea00-4b83-b4ff-e1396ff5ced4"
   },
   "outputs": [
    {
     "data": {
      "text/markdown": [
       "___\n",
       "##### **Result**: \n",
       "\n",
       "Our projection for the uncertainty associated with our estimate for the proteome fraction of Rubisco in marine autotrophs is ≈4.5-fold\n",
       "___"
      ],
      "text/plain": [
       "<IPython.core.display.Markdown object>"
      ]
     },
     "metadata": {
      "tags": []
     },
     "output_type": "display_data"
    }
   ],
   "source": [
    "marine_proteome_frac_CI = mul_CI(marine_rubisco_frac.groupby('Species').mean()['Mean fraction of rubisco out of the proteome (%)'])\n",
    "dis_res('Our projection for the uncertainty associated with our estimate for the proteome fraction of Rubisco in marine autotrophs is ≈%.1f-fold' % marine_proteome_frac_CI)"
   ]
  },
  {
   "cell_type": "markdown",
   "metadata": {
    "colab_type": "text",
    "id": "G174MYAfMkkX"
   },
   "source": [
    "We combine the two uncertainties to generate our projection for the uncertainty associated with our estimate of the total mass of marine Rubisco:"
   ]
  },
  {
   "cell_type": "code",
   "execution_count": null,
   "metadata": {
    "colab": {},
    "colab_type": "code",
    "id": "q6Zf1yiHMkka",
    "outputId": "0f6e0692-350e-4a0d-cc6f-1366256c961d"
   },
   "outputs": [
    {
     "data": {
      "text/markdown": [
       "___\n",
       "##### **Result**: \n",
       "\n",
       "Our projection for the uncertainty associated with our estimate for the total mass of marine Rubisco is ≈5.9-fold\n",
       "___"
      ],
      "text/plain": [
       "<IPython.core.display.Markdown object>"
      ]
     },
     "metadata": {
      "tags": []
     },
     "output_type": "display_data"
    }
   ],
   "source": [
    "marine_mass_CI = CI_prod_prop([marine_prot_CI,marine_proteome_frac_CI])\n",
    "dis_res('Our projection for the uncertainty associated with our estimate for the total mass of marine Rubisco is ≈%.1f-fold' % marine_mass_CI)"
   ]
  }
 ],
 "metadata": {
  "colab": {
   "name": "03_rubisco_mass_estimate.ipynb",
   "provenance": [],
   "version": "0.3.2"
  },
  "kernelspec": {
   "display_name": "Python 3",
   "language": "python",
   "name": "python3"
  },
  "language_info": {
   "codemirror_mode": {
    "name": "ipython",
    "version": 3
   },
   "file_extension": ".py",
   "mimetype": "text/x-python",
   "name": "python",
   "nbconvert_exporter": "python",
   "pygments_lexer": "ipython3",
   "version": "3.6.6"
  }
 },
 "nbformat": 4,
 "nbformat_minor": 2
}
