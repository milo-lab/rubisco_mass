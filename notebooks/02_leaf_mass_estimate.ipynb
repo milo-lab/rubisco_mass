{
 "cells": [
  {
   "cell_type": "code",
   "execution_count": 1,
   "metadata": {
    "colab": {},
    "colab_type": "code",
    "id": "fDtODe6TKqAy"
   },
   "outputs": [],
   "source": [
    "# Import dependencies\n",
    "import pandas as pd\n",
    "import numpy as np\n",
    "%matplotlib inline\n",
    "import matplotlib.pyplot as plt\n",
    "from IPython.display import Markdown, display\n",
    "from  stats_helper import *\n",
    "def dis_res(x):\n",
    "    display(Markdown('___\\n##### **Result**: \\n\\n' + x + '\\n___'))"
   ]
  },
  {
   "cell_type": "markdown",
   "metadata": {
    "colab_type": "text",
    "id": "obEev7JeKqA4"
   },
   "source": [
    "# Estimating the gobal mass of leaves\n",
    "\n",
    "As part of our procedure for estimating the total number of Rubisco enzymes in the world, we first estimate the total mass of leaves globally.\n",
    "\n",
    "To achieve a global estimate of leaf mass we rely on two independent methodologies. The first is based on measurement of the total plant biomass and the mass fraction of leaves out of the total leaf biomass, and the second is based on estimating the total leaf area and converting the total leaf area into leaf mass.\n",
    "\n",
    "## Method 1 - leaf mass fraction\n",
    "\n",
    "\n",
    "To estimate the total leaf mass based on mass frations, we combine estimates from Erb et al. on plant biomass in each biome, along with estimates of the average leaf mass fraction in each biome. Our estimates of the average leaf mass fraction in each biome are based a recent meta-analysis which collected data on the lead, shoot and root mass fractions in several different biomes [(Poorter et al. (2012))](http://dx.doi.org/10.1111/j.1469-8137.2011.03952.x). Here is the data:"
   ]
  },
  {
   "cell_type": "code",
   "execution_count": 2,
   "metadata": {
    "colab": {
     "base_uri": "https://localhost:8080/",
     "height": 326
    },
    "colab_type": "code",
    "id": "dEKV8pHhKqA9",
    "outputId": "c8a82502-1718-4435-e7c3-2b2c67e84db0"
   },
   "outputs": [
    {
     "data": {
      "text/html": [
       "<div>\n",
       "<style scoped>\n",
       "    .dataframe tbody tr th:only-of-type {\n",
       "        vertical-align: middle;\n",
       "    }\n",
       "\n",
       "    .dataframe tbody tr th {\n",
       "        vertical-align: top;\n",
       "    }\n",
       "\n",
       "    .dataframe thead th {\n",
       "        text-align: right;\n",
       "    }\n",
       "</style>\n",
       "<table border=\"1\" class=\"dataframe\">\n",
       "  <thead>\n",
       "    <tr style=\"text-align: right;\">\n",
       "      <th></th>\n",
       "      <th>LMF</th>\n",
       "      <th>0.05</th>\n",
       "      <th>median</th>\n",
       "      <th>95</th>\n",
       "      <th>lower-fold</th>\n",
       "      <th>upper-fold</th>\n",
       "      <th>95% Std</th>\n",
       "      <th>N</th>\n",
       "      <th>95% SEM</th>\n",
       "    </tr>\n",
       "    <tr>\n",
       "      <th>Biome</th>\n",
       "      <th></th>\n",
       "      <th></th>\n",
       "      <th></th>\n",
       "      <th></th>\n",
       "      <th></th>\n",
       "      <th></th>\n",
       "      <th></th>\n",
       "      <th></th>\n",
       "      <th></th>\n",
       "    </tr>\n",
       "  </thead>\n",
       "  <tbody>\n",
       "    <tr>\n",
       "      <th>Tundra</th>\n",
       "      <td>0.09</td>\n",
       "      <td>0.005698</td>\n",
       "      <td>0.031339</td>\n",
       "      <td>0.248575</td>\n",
       "      <td>5.500000</td>\n",
       "      <td>7.931818</td>\n",
       "      <td>6.604922</td>\n",
       "      <td>15</td>\n",
       "      <td>1.628129</td>\n",
       "    </tr>\n",
       "    <tr>\n",
       "      <th>Grassland</th>\n",
       "      <td>0.17</td>\n",
       "      <td>0.009972</td>\n",
       "      <td>0.070513</td>\n",
       "      <td>0.509259</td>\n",
       "      <td>7.071429</td>\n",
       "      <td>7.222222</td>\n",
       "      <td>7.146428</td>\n",
       "      <td>10</td>\n",
       "      <td>1.862459</td>\n",
       "    </tr>\n",
       "    <tr>\n",
       "      <th>Boreal forest</th>\n",
       "      <td>0.04</td>\n",
       "      <td>0.006410</td>\n",
       "      <td>0.023504</td>\n",
       "      <td>0.095442</td>\n",
       "      <td>3.666667</td>\n",
       "      <td>4.060606</td>\n",
       "      <td>3.858612</td>\n",
       "      <td>40</td>\n",
       "      <td>1.238006</td>\n",
       "    </tr>\n",
       "    <tr>\n",
       "      <th>Temperate forest</th>\n",
       "      <td>0.03</td>\n",
       "      <td>0.006410</td>\n",
       "      <td>0.019231</td>\n",
       "      <td>0.049145</td>\n",
       "      <td>3.000000</td>\n",
       "      <td>2.555556</td>\n",
       "      <td>2.768875</td>\n",
       "      <td>70</td>\n",
       "      <td>1.129446</td>\n",
       "    </tr>\n",
       "    <tr>\n",
       "      <th>Tropical forest</th>\n",
       "      <td>0.02</td>\n",
       "      <td>0.006410</td>\n",
       "      <td>0.019231</td>\n",
       "      <td>0.029915</td>\n",
       "      <td>3.000000</td>\n",
       "      <td>1.555556</td>\n",
       "      <td>2.160247</td>\n",
       "      <td>40</td>\n",
       "      <td>1.129509</td>\n",
       "    </tr>\n",
       "    <tr>\n",
       "      <th>Woodland</th>\n",
       "      <td>0.06</td>\n",
       "      <td>0.033476</td>\n",
       "      <td>0.048433</td>\n",
       "      <td>0.101140</td>\n",
       "      <td>1.446809</td>\n",
       "      <td>2.088235</td>\n",
       "      <td>1.738182</td>\n",
       "      <td>15</td>\n",
       "      <td>1.153433</td>\n",
       "    </tr>\n",
       "    <tr>\n",
       "      <th>Shrubland</th>\n",
       "      <td>0.09</td>\n",
       "      <td>0.032051</td>\n",
       "      <td>0.096154</td>\n",
       "      <td>0.140313</td>\n",
       "      <td>3.000000</td>\n",
       "      <td>1.459259</td>\n",
       "      <td>2.092314</td>\n",
       "      <td>15</td>\n",
       "      <td>1.210000</td>\n",
       "    </tr>\n",
       "    <tr>\n",
       "      <th>Desert</th>\n",
       "      <td>0.09</td>\n",
       "      <td>0.023504</td>\n",
       "      <td>0.043447</td>\n",
       "      <td>0.262821</td>\n",
       "      <td>1.848485</td>\n",
       "      <td>6.049180</td>\n",
       "      <td>3.343923</td>\n",
       "      <td>10</td>\n",
       "      <td>1.464820</td>\n",
       "    </tr>\n",
       "  </tbody>\n",
       "</table>\n",
       "</div>"
      ],
      "text/plain": [
       "                   LMF      0.05    median        95  lower-fold  upper-fold  \\\n",
       "Biome                                                                          \n",
       "Tundra            0.09  0.005698  0.031339  0.248575    5.500000    7.931818   \n",
       "Grassland         0.17  0.009972  0.070513  0.509259    7.071429    7.222222   \n",
       "Boreal forest     0.04  0.006410  0.023504  0.095442    3.666667    4.060606   \n",
       "Temperate forest  0.03  0.006410  0.019231  0.049145    3.000000    2.555556   \n",
       "Tropical forest   0.02  0.006410  0.019231  0.029915    3.000000    1.555556   \n",
       "Woodland          0.06  0.033476  0.048433  0.101140    1.446809    2.088235   \n",
       "Shrubland         0.09  0.032051  0.096154  0.140313    3.000000    1.459259   \n",
       "Desert            0.09  0.023504  0.043447  0.262821    1.848485    6.049180   \n",
       "\n",
       "                   95% Std   N   95% SEM  \n",
       "Biome                                     \n",
       "Tundra            6.604922  15  1.628129  \n",
       "Grassland         7.146428  10  1.862459  \n",
       "Boreal forest     3.858612  40  1.238006  \n",
       "Temperate forest  2.768875  70  1.129446  \n",
       "Tropical forest   2.160247  40  1.129509  \n",
       "Woodland          1.738182  15  1.153433  \n",
       "Shrubland         2.092314  15  1.210000  \n",
       "Desert            3.343923  10  1.464820  "
      ]
     },
     "execution_count": 2,
     "metadata": {},
     "output_type": "execute_result"
    }
   ],
   "source": [
    "# Load data from Poorter et al.\n",
    "fractions = pd.read_excel('../data/literature_data.xlsx','Poorter',skiprows=1,index_col=0)\n",
    "fractions"
   ]
  },
  {
   "cell_type": "markdown",
   "metadata": {
    "colab_type": "text",
    "id": "z2D42zfrKqBM"
   },
   "source": [
    "The data in Poorter et al. does not include values for croplands. To estimate the mean leaf mass fraction in crops, we use a recent dataset published by the same authors ([Poorter et al. (2015)](https://doi.org/10.1111/nph.13571)). We calculate the geometric mean of the leaf mass fraction across the top 20 largest crops based on FAO data."
   ]
  },
  {
   "cell_type": "code",
   "execution_count": 3,
   "metadata": {
    "colab": {},
    "colab_type": "code",
    "id": "SbcpmF7SKqBO"
   },
   "outputs": [],
   "source": [
    "# Define crop species\n",
    "crop_species = ['Saccharum officinarum','Zea mays','Triticum aestivum','Triticum compactum','Triticum dicoccoides','Triticum dicoccoides x A. squarrosa','Triticum durum','Triticum monococcum','Triticum spelta','Triticum timopheevii','Triticum turgidum','Oryza sativa','Solanum tuberosum','Glycine max','Elaeis guineensis','Beta vulgaris','Manihot esculenta','Solanum lycopersicum','Hordeum vulgare','Musa spec.','Malus domestica','Cucumis sativus','Vitis vinifera']\n",
    "\n",
    "# Load data from Poorter et al.\n",
    "LMF_species = pd.read_excel('../data/literature_data.xlsx','Poorter2015')\n",
    "\n",
    "# Lookup crop species in Poorter et al.\n",
    "crop_LMF = LMF_species[LMF_species.Species.isin(crop_species)]\n",
    "\n",
    "# Calculate the geometric mean of the leaf mass fraction and use it as the fraction for crops\n",
    "fractions.loc['Cropland','LMF'] = gmean(crop_LMF.groupby('Species')['LMF'].mean())"
   ]
  },
  {
   "cell_type": "markdown",
   "metadata": {
    "colab_type": "text",
    "id": "Rkzbx2OnKqBZ"
   },
   "source": [
    "We calculate weighted mean of leaf mass fraction. We use the fraction of total plant biomass in each biome as our weights from [Erb et al.](https://doi.org/10.1038/nature25138) for the weighted mean. Here is the data from Erb et al.:"
   ]
  },
  {
   "cell_type": "code",
   "execution_count": 4,
   "metadata": {
    "colab": {
     "base_uri": "https://localhost:8080/",
     "height": 326
    },
    "colab_type": "code",
    "id": "NisuJYeDKqBb",
    "outputId": "01d526cc-e983-4d23-e937-4c43f701e7c8"
   },
   "outputs": [
    {
     "data": {
      "text/html": [
       "<div>\n",
       "<style scoped>\n",
       "    .dataframe tbody tr th:only-of-type {\n",
       "        vertical-align: middle;\n",
       "    }\n",
       "\n",
       "    .dataframe tbody tr th {\n",
       "        vertical-align: top;\n",
       "    }\n",
       "\n",
       "    .dataframe thead th {\n",
       "        text-align: right;\n",
       "    }\n",
       "</style>\n",
       "<table border=\"1\" class=\"dataframe\">\n",
       "  <thead>\n",
       "    <tr style=\"text-align: right;\">\n",
       "      <th></th>\n",
       "      <th>Total biomass [Gt C]</th>\n",
       "      <th>Categories included in Poorter</th>\n",
       "      <th>Remarks</th>\n",
       "    </tr>\n",
       "    <tr>\n",
       "      <th>Biome</th>\n",
       "      <th></th>\n",
       "      <th></th>\n",
       "      <th></th>\n",
       "    </tr>\n",
       "  </thead>\n",
       "  <tbody>\n",
       "    <tr>\n",
       "      <th>Tropical forests</th>\n",
       "      <td>257.063700</td>\n",
       "      <td>Tropical forest</td>\n",
       "      <td>Includes tropical forests under managements an...</td>\n",
       "    </tr>\n",
       "    <tr>\n",
       "      <th>Temperate forests</th>\n",
       "      <td>39.458988</td>\n",
       "      <td>Temperate forest</td>\n",
       "      <td>Includes tropical forests under managements an...</td>\n",
       "    </tr>\n",
       "    <tr>\n",
       "      <th>Boreal forests</th>\n",
       "      <td>35.977312</td>\n",
       "      <td>Boreal forest</td>\n",
       "      <td>Includes tropical forests under managements an...</td>\n",
       "    </tr>\n",
       "    <tr>\n",
       "      <th>Cropland</th>\n",
       "      <td>10.000000</td>\n",
       "      <td>Cropland</td>\n",
       "      <td>NaN</td>\n",
       "    </tr>\n",
       "    <tr>\n",
       "      <th>Other wooded land</th>\n",
       "      <td>57.000000</td>\n",
       "      <td>Shrubland</td>\n",
       "      <td>NaN</td>\n",
       "    </tr>\n",
       "    <tr>\n",
       "      <th>Natural grasslands</th>\n",
       "      <td>19.000000</td>\n",
       "      <td>Grassland</td>\n",
       "      <td>NaN</td>\n",
       "    </tr>\n",
       "    <tr>\n",
       "      <th>Artifitial grasslands</th>\n",
       "      <td>7.000000</td>\n",
       "      <td>Grassland</td>\n",
       "      <td>NaN</td>\n",
       "    </tr>\n",
       "    <tr>\n",
       "      <th>Unused non-forest</th>\n",
       "      <td>16.500000</td>\n",
       "      <td>Tundra</td>\n",
       "      <td>Includes the category \"Wilderness, productive,...</td>\n",
       "    </tr>\n",
       "  </tbody>\n",
       "</table>\n",
       "</div>"
      ],
      "text/plain": [
       "                       Total biomass [Gt C] Categories included in Poorter  \\\n",
       "Biome                                                                        \n",
       "Tropical forests                 257.063700                Tropical forest   \n",
       "Temperate forests                 39.458988               Temperate forest   \n",
       "Boreal forests                    35.977312                  Boreal forest   \n",
       "Cropland                          10.000000                       Cropland   \n",
       "Other wooded land                 57.000000                      Shrubland   \n",
       "Natural grasslands                19.000000                      Grassland   \n",
       "Artifitial grasslands              7.000000                      Grassland   \n",
       "Unused non-forest                 16.500000                         Tundra   \n",
       "\n",
       "                                                                 Remarks  \n",
       "Biome                                                                     \n",
       "Tropical forests       Includes tropical forests under managements an...  \n",
       "Temperate forests      Includes tropical forests under managements an...  \n",
       "Boreal forests         Includes tropical forests under managements an...  \n",
       "Cropland                                                             NaN  \n",
       "Other wooded land                                                    NaN  \n",
       "Natural grasslands                                                   NaN  \n",
       "Artifitial grasslands                                                NaN  \n",
       "Unused non-forest      Includes the category \"Wilderness, productive,...  "
      ]
     },
     "execution_count": 4,
     "metadata": {},
     "output_type": "execute_result"
    }
   ],
   "source": [
    "# Load data on the total plant biomass in each biome from Erb et al.\n",
    "biomes = pd.read_excel('../data/literature_data.xlsx','Erb',skiprows=1,index_col=0)\n",
    "biomes"
   ]
  },
  {
   "cell_type": "markdown",
   "metadata": {
    "colab_type": "text",
    "id": "3IxlhtsPKqBm"
   },
   "source": [
    "The specific biomes in Erb et al. are not fully matching the biomes in Poorter et al., and thus we traslate between the biomes in the two studies, and then merge the data. After we merge the data, we calculate the weighted average of the leaf mass fraction using the biomass of each biome as the weights:"
   ]
  },
  {
   "cell_type": "code",
   "execution_count": 5,
   "metadata": {
    "colab": {},
    "colab_type": "code",
    "id": "To3DqDWeaET6"
   },
   "outputs": [],
   "source": [
    "# Merge LMF data with the biomass of each biome\n",
    "biome_LMF = biomes.merge(fractions,left_on='Categories included in Poorter',right_index=True)\n",
    "\n",
    "# Calculate the weighted average of the LMF\n",
    "mean_LMF = np.average(biome_LMF['LMF'],weights=biome_LMF['Total biomass [Gt C]'])"
   ]
  },
  {
   "cell_type": "markdown",
   "metadata": {
    "colab_type": "text",
    "id": "24DF0UDDeZna"
   },
   "source": [
    "We also use the data in [Poorter et al. (2015)](https://doi.org/10.1111/nph.13571) to calculate the leaf mass fraction over all the grasses family except our crop species, to generate an additional estimate of the leaf mass fraction in grasslands:"
   ]
  },
  {
   "cell_type": "code",
   "execution_count": 6,
   "metadata": {
    "colab": {},
    "colab_type": "code",
    "id": "O7h6DDmJeYuo"
   },
   "outputs": [],
   "source": [
    "# Create a copy of the leaf mass fraction dataframe\n",
    "biome_LMF2 = biome_LMF.copy()\n",
    "\n",
    "# Take from Poorter et al. (2015) only grass species which are not crops\n",
    "grassland_species = LMF_species.loc[~(LMF_species.Species.isin(crop_species)) & (LMF_species.Family == 'Poaceae')]\n",
    "\n",
    "# Calculate the geometric mean of the LMF of the grass species and use it as the leaf mass fractions for grasslands\n",
    "biome_LMF2.loc[biome_LMF2['Categories included in Poorter'] == 'Grassland','LMF'] = gmean(grassland_species.LMF)\n",
    "\n",
    "# Calculate the weighted average of the LMF\n",
    "mean_LMF2 = np.average(biome_LMF2['LMF'],weights=biome_LMF2['Total biomass [Gt C]'])"
   ]
  },
  {
   "cell_type": "markdown",
   "metadata": {
    "colab_type": "text",
    "id": "BmTNKxaQlVaW"
   },
   "source": [
    "As our best estimate of the leaf mass fraction, we use the geometric mean of our estimate with the grassland values based on Poorter et al. (2012) or Poorter et al. (2015):"
   ]
  },
  {
   "cell_type": "code",
   "execution_count": 7,
   "metadata": {
    "colab": {
     "base_uri": "https://localhost:8080/",
     "height": 34
    },
    "colab_type": "code",
    "id": "g5B1nSIzsRL4",
    "outputId": "f8989662-632a-446c-c0b9-d120d2143062"
   },
   "outputs": [
    {
     "data": {
      "text/markdown": [
       "___\n",
       "##### **Result**: \n",
       "\n",
       "Our global average for the leaf mass fraction is ≈6 percent\n",
       "___"
      ],
      "text/plain": [
       "<IPython.core.display.Markdown object>"
      ]
     },
     "metadata": {},
     "output_type": "display_data"
    }
   ],
   "source": [
    "best_leaf_frac = gmean([mean_LMF2,mean_LMF])\n",
    "dis_res('Our global average for the leaf mass fraction is ≈%.0f percent' %(best_leaf_frac*100))"
   ]
  },
  {
   "cell_type": "markdown",
   "metadata": {
    "colab_type": "text",
    "id": "HJ9rpbdyKqBu"
   },
   "source": [
    "To estimate the total mass of leaves, we rely on our estimate of the total plant biomass ([Bar-On et al.](https://doi.org/10.1073/pnas.1711842115)) of ≈450 Gt C, and we assume carbon is about 50% of the dry weight of plants. We thus estimate ≈900 Gt plant dry weight. We multiply the global leaf mass fraction by the total dry mass of plants to get an estimate for the total mass of leaves."
   ]
  },
  {
   "cell_type": "code",
   "execution_count": 8,
   "metadata": {
    "colab": {
     "base_uri": "https://localhost:8080/",
     "height": 34
    },
    "colab_type": "code",
    "id": "yMTut-faKqBy",
    "outputId": "ca2014d5-b046-4b44-b08b-170c3005c445"
   },
   "outputs": [
    {
     "data": {
      "text/markdown": [
       "___\n",
       "##### **Result**: \n",
       "\n",
       "Our estimate for the global leaf mass based on leaf mass fraction measurements is ≈52 Gt\n",
       "___"
      ],
      "text/plain": [
       "<IPython.core.display.Markdown object>"
      ]
     },
     "metadata": {},
     "output_type": "display_data"
    }
   ],
   "source": [
    "global_plant_mass =900e15\n",
    "global_leaf_mass = global_plant_mass*best_leaf_frac\n",
    "dis_res('Our estimate for the global leaf mass based on leaf mass fraction measurements is ≈%.0f Gt' %(global_leaf_mass/1e15))"
   ]
  },
  {
   "cell_type": "markdown",
   "metadata": {
    "colab_type": "text",
    "id": "MOzE1Kc2Kn39"
   },
   "source": [
    "## Estimating the fraction of leaf mass in herbaceous plants\n",
    "For our calculations in the next section (estimating the mass fraction of Rubisco out of leaf mass), we also calculate here the fraction of leaf mass that is woody or herbaceous:"
   ]
  },
  {
   "cell_type": "code",
   "execution_count": 9,
   "metadata": {
    "colab": {
     "base_uri": "https://localhost:8080/",
     "height": 34
    },
    "colab_type": "code",
    "id": "dwEp560fK4eS",
    "outputId": "5acd65dc-567d-44ba-bc2a-9db19071a4e1"
   },
   "outputs": [
    {
     "data": {
      "text/markdown": [
       "___\n",
       "##### **Result**: \n",
       "\n",
       "Our best estimate is that leaves of herbaceous plants account for 49 percent out of the total leaf mass based on leaf mass fraction\n",
       "___"
      ],
      "text/plain": [
       "<IPython.core.display.Markdown object>"
      ]
     },
     "metadata": {},
     "output_type": "display_data"
    }
   ],
   "source": [
    "# Calculate the total mass of leaves in each biome (once for each value of the leaf mass fraction of grasslands)\n",
    "biome_LMF['Total leaf mass [Gt]'] = biome_LMF['Total biomass [Gt C]']*biome_LMF['LMF']*2\n",
    "biome_LMF2['Total leaf mass [Gt]'] = biome_LMF2['Total biomass [Gt C]']*biome_LMF2['LMF']*2\n",
    "\n",
    "woody = ['Tropical forests','Temperate forests','Boreal forests','Other wooded land']\n",
    "\n",
    "woody_frac = biome_LMF.loc[woody,'Total leaf mass [Gt]'].sum()/biome_LMF['Total leaf mass [Gt]'].sum()\n",
    "woody_frac2 = biome_LMF2.loc[woody,'Total leaf mass [Gt]'].sum()/biome_LMF2['Total leaf mass [Gt]'].sum()\n",
    "best_woody_frac = gmean([woody_frac,woody_frac2])\n",
    "dis_res('Our best estimate is that leaves of herbaceous plants account for %.0f percent out of the total leaf mass based on leaf mass fraction' %((1-best_woody_frac)*100))"
   ]
  },
  {
   "cell_type": "markdown",
   "metadata": {},
   "source": [
    "We combine this estimate with our estimate of the fraction of leaf mass in herbaceous plants based on leaf area estimates, which we derive in the notebook [**```01_remote_sensing_based_leaf_mass.ipynb```**](01_remote_sensing_based_leaf_mass.ipynb) to be ≈20%. We use the geometric mean of the estimate based on leaf mass fraction and the estimate based on leaf are as our best estimate of the fraction of leaf mass that is herbabeous:"
   ]
  },
  {
   "cell_type": "code",
   "execution_count": 10,
   "metadata": {},
   "outputs": [
    {
     "data": {
      "text/markdown": [
       "___\n",
       "##### **Result**: \n",
       "\n",
       "Our best estimate is that leaves of herbaceous plants account for 34 percent out of the total leaf mass\n",
       "___"
      ],
      "text/plain": [
       "<IPython.core.display.Markdown object>"
      ]
     },
     "metadata": {},
     "output_type": "display_data"
    }
   ],
   "source": [
    "best_herb_frac = gmean([1-best_woody_frac,0.23])\n",
    "dis_res('Our best estimate is that leaves of herbaceous plants account for %.0f percent out of the total leaf mass' %(best_herb_frac*100))"
   ]
  },
  {
   "cell_type": "markdown",
   "metadata": {},
   "source": [
    "In the notebook [**```01_remote_sensing_based_leaf_mass.ipynb```**](01_remote_sensing_based_leaf_mass.ipynb) we also estimate that C4 plant leaves account for ≈25% of the total hebaceous plant leaf mass. We apply this fraction here to arrive at our best estimate for the fraction of C4 leaf mass and C3 leaf mass out of the total leaf mass. This means C3 herbacoues plants account for ≈25% of the total leaf mass and C4 plants account for ≈9% of the total leaf mass."
   ]
  },
  {
   "cell_type": "markdown",
   "metadata": {
    "colab_type": "text",
    "id": "xlmgjr7qKqB-"
   },
   "source": [
    "## Method 2 - Remote sensing based leaf mass\n",
    "\n",
    "In the notebook [**```remote_sensing_based_leaf_mass.ipynb```**](01_remote_sensing_based_leaf_mass.ipynb) we estimate that the total mass of leaves is ≈20 Gt.\n",
    "\n",
    "As our best estimate for the total mass of leaves, we use the geometric mean of the two methods:"
   ]
  },
  {
   "cell_type": "code",
   "execution_count": 11,
   "metadata": {
    "colab": {
     "base_uri": "https://localhost:8080/",
     "height": 34
    },
    "colab_type": "code",
    "id": "HGeSppHtKqB_",
    "outputId": "973f0b67-bc93-4a6e-b130-40748cbf2f6d"
   },
   "outputs": [
    {
     "data": {
      "text/markdown": [
       "___\n",
       "##### **Result**: \n",
       "\n",
       "Our best estimate for the global leaf mass is ≈32 Gt\n",
       "___"
      ],
      "text/plain": [
       "<IPython.core.display.Markdown object>"
      ]
     },
     "metadata": {},
     "output_type": "display_data"
    }
   ],
   "source": [
    "best_leaf_mass = gmean([global_leaf_mass,20e15])\n",
    "dis_res('Our best estimate for the global leaf mass is ≈%.0f Gt' %(best_leaf_mass/1e15))"
   ]
  },
  {
   "cell_type": "markdown",
   "metadata": {
    "colab_type": "text",
    "id": "IAJv-4kGKqCI"
   },
   "source": [
    "# Uncertainty analysis\n",
    "To project the uncertainty associated with the estimate of the total mass of leaves, we first calculate the uncertainty around our estimate of the total mass of leaves based on the leaf mass fraction in each biome. We had to different estimates for the mass of leaves based on leaf mass fraction per biome - each one with a different value for the leaf mass fraction in grasslands. For each of those estimates we calculate the uncertainty associated with it. In addition, as our best estimate for the leaf mass fraction based of biome leaf mass fractions was calculated as the geometric mean of the two estimates, we use the differnce between the two estimates as a measure of the uncertainty associated with our final estimate. We use the highest uncertainty among these three uncertainties (one for each estimate and one based on the difference between the estimates) as our best projection for the uncertainty associated with our estimate of the total leaf mass based on biome leaf mass fractions."
   ]
  },
  {
   "cell_type": "code",
   "execution_count": 12,
   "metadata": {
    "colab": {
     "base_uri": "https://localhost:8080/",
     "height": 34
    },
    "colab_type": "code",
    "id": "s2s6EIsuKqCJ",
    "outputId": "ae843c13-e9c1-422a-9845-653b0e10908b"
   },
   "outputs": [
    {
     "data": {
      "text/markdown": [
       "___\n",
       "##### **Result**: \n",
       "\n",
       "Our projection for the uncertainty associated with our estimate of the mass fraction of leaves is ≈1.3-fold\n",
       "___"
      ],
      "text/plain": [
       "<IPython.core.display.Markdown object>"
      ]
     },
     "metadata": {},
     "output_type": "display_data"
    }
   ],
   "source": [
    "# Calculate the multiplicative uncertainty of the leaf mass in each biome (once for each value of the leaf mass fraction of grasslands)\n",
    "# We use the geometric mean of the standard deviation and standard error as our best projection of the uncertainty\n",
    "biome_LMF['mul_CI'] = [gmean([x,y]) for x,y in zip(biome_LMF['95% Std'],biome_LMF['95% SEM'])]\n",
    "biome_LMF2['mul_CI'] = [gmean([x,y]) for x,y in zip(biome_LMF2['95% Std'],biome_LMF2['95% SEM'])]\n",
    "\n",
    "# For crops calculate the uncertainty based on the data in Poorter et al. (2015)\n",
    "biome_LMF.loc['Cropland','mul_CI'] = mul_CI(crop_LMF.groupby('Species')['LMF'].mean())\n",
    "biome_LMF2.loc['Cropland','mul_CI'] = mul_CI(crop_LMF.groupby('Species')['LMF'].mean())\n",
    "\n",
    "# For the second estiamte in which grassland values are based on Poorter et al. (2015), calculate the uncertainty \n",
    "# based on the values in Poorter et al. (2015)\n",
    "biome_LMF2.loc[biome_LMF2['Categories included in Poorter'] == 'Grassland','mul_CI'] = mul_CI(grassland_species.LMF)\n",
    "\n",
    "# Propagate the uncertainties to the final estimates\n",
    "leaf_mass_frac_CI = CI_sum_prop(biome_LMF['Total leaf mass [Gt]'],biome_LMF['mul_CI'])\n",
    "leaf_mass_frac_CI2 = CI_sum_prop(biome_LMF2['Total leaf mass [Gt]'],biome_LMF2['mul_CI'])\n",
    "\n",
    "# Calculate uncertainty based on the difference between the estiamtes\n",
    "inter_method_leaf_mass_fraction_CI = mul_CI([mean_LMF,mean_LMF2])\n",
    "\n",
    "# Use the highest uncertainty as our best projection\n",
    "best_leaf_mass_frac_CI = np.max([leaf_mass_frac_CI2,leaf_mass_frac_CI,inter_method_leaf_mass_fraction_CI])\n",
    "dis_res('Our projection for the uncertainty associated with our estimate of the mass fraction of leaves is ≈%.1f-fold' %best_leaf_mass_frac_CI)\n"
   ]
  },
  {
   "cell_type": "markdown",
   "metadata": {
    "colab_type": "text",
    "id": "ngmBJDKsKqCP"
   },
   "source": [
    "As for the total mass of plants, [Bar-On et al.](https://dx.doi.org/10.1073/pnas.1711842115) projected an uncertainty of ≈1.2-fold associated with the total mass of plants. We combine the uncertainty associated with our estimate of the leaf mass fraction with the uncertainty associated with the total mass of plants:"
   ]
  },
  {
   "cell_type": "code",
   "execution_count": 13,
   "metadata": {
    "colab": {
     "base_uri": "https://localhost:8080/",
     "height": 34
    },
    "colab_type": "code",
    "id": "Q65gDb1RKqCS",
    "outputId": "d166bd32-b985-467d-f54d-02f13cce998a"
   },
   "outputs": [
    {
     "data": {
      "text/markdown": [
       "___\n",
       "##### **Result**: \n",
       "\n",
       "Our projection for the uncertainty associated with our estimate of the total mass of leaves based on leaf mass fraction is ≈1.4-fold\n",
       "___"
      ],
      "text/plain": [
       "<IPython.core.display.Markdown object>"
      ]
     },
     "metadata": {},
     "output_type": "display_data"
    }
   ],
   "source": [
    "tot_leaf_mass_frac_CI = CI_prod_prop([best_leaf_mass_frac_CI,1.2])\n",
    "dis_res('Our projection for the uncertainty associated with our estimate of the total mass of leaves based on leaf mass fraction is ≈%.1f-fold' %tot_leaf_mass_frac_CI)"
   ]
  },
  {
   "cell_type": "markdown",
   "metadata": {
    "colab_type": "text",
    "id": "Pqpt6b9XKqCa"
   },
   "source": [
    "In the notebook [**```remote_sensing_based_leaf_mass.ipynb```**](01_remote_sensing_based_leaf_mass.ipynb) we estimate that the uncertainty associated with the estimate of the total mass of leaves based on remote sensing is ≈2-fold. We can calculate the uncertainty based on the difference of the estimates based on the two different methodologies (leaf mass based and remote sensing based):\n"
   ]
  },
  {
   "cell_type": "code",
   "execution_count": 14,
   "metadata": {
    "colab": {
     "base_uri": "https://localhost:8080/",
     "height": 34
    },
    "colab_type": "code",
    "id": "Q4JUL9V2KqCd",
    "outputId": "93f4139f-b472-4230-987d-28147476995c"
   },
   "outputs": [
    {
     "data": {
      "text/markdown": [
       "___\n",
       "##### **Result**: \n",
       "\n",
       "Our projection for the uncertainty associated with our estimate of the total mass of leaves based on the difference between our two independent methodologies is ≈2.2-fold\n",
       "___"
      ],
      "text/plain": [
       "<IPython.core.display.Markdown object>"
      ]
     },
     "metadata": {},
     "output_type": "display_data"
    }
   ],
   "source": [
    "inter_method_CI = mul_CI([global_leaf_mass,20e15])\n",
    "dis_res('Our projection for the uncertainty associated with our estimate of the total mass of leaves based on the difference between our two independent methodologies is ≈%.1f-fold' %inter_method_CI)"
   ]
  },
  {
   "cell_type": "markdown",
   "metadata": {
    "colab_type": "text",
    "id": "5wxJxyvwKqCv"
   },
   "source": [
    "Overall, we use the highest uncertainty out of the uncertainties reported for each estimate and the uncertainty based on the difference between the different methodologies, which is ≈2.2-fold."
   ]
  }
 ],
 "metadata": {
  "colab": {
   "name": "02_leaf_mass_estimate.ipynb",
   "provenance": [],
   "version": "0.3.2"
  },
  "kernelspec": {
   "display_name": "Python 3",
   "language": "python",
   "name": "python3"
  },
  "language_info": {
   "codemirror_mode": {
    "name": "ipython",
    "version": 3
   },
   "file_extension": ".py",
   "mimetype": "text/x-python",
   "name": "python",
   "nbconvert_exporter": "python",
   "pygments_lexer": "ipython3",
   "version": "3.6.7"
  }
 },
 "nbformat": 4,
 "nbformat_minor": 2
}
