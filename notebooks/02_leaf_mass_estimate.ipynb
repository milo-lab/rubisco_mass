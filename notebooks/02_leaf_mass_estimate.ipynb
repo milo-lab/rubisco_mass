{
 "cells": [
  {
   "cell_type": "code",
   "execution_count": 1,
   "metadata": {},
   "outputs": [],
   "source": [
    "# Import dependencies\n",
    "import pandas as pd\n",
    "import numpy as np\n",
    "%matplotlib inline\n",
    "import matplotlib.pyplot as plt\n",
    "from IPython.display import Markdown, display\n",
    "def dis_res(x):\n",
    "    display(Markdown('___\\n##### **Result**: \\n\\n' + x + '\\n___'))"
   ]
  },
  {
   "cell_type": "markdown",
   "metadata": {},
   "source": [
    "# Estimating the gobal mass of leaves\n",
    "\n",
    "As part of our procedure for estimating the total number of Rubisco enzymes in the world, we first estimate the total mass of leaves globally.\n",
    "\n",
    "To achieve a global estimate of leaf mass we rely on two independent methodologies. The first is based on measurement of the total plant biomass and the mass fraction of leaves out of the total leaf biomass, and the second is based on estimating the total leaf area and converting the total leaf area into leaf mass.\n",
    "\n",
    "## Method 1 - leaf mass fraction\n",
    "\n",
    "\n",
    "In order to estimate the average effective rate of Rubisco globally, we need to first estimate the total amount of Rubisco enzymes on Earth. To do that we rely on a recent meta-analysis which collected data on the lead, shoot and root mass fractions in several different biomes [(Poorter et al.)](http://dx.doi.org/10.1111/j.1469-8137.2011.03952.x). Here are the mean leaf, shoot, and root mass fractions in each biome:"
   ]
  },
  {
   "cell_type": "code",
   "execution_count": 2,
   "metadata": {},
   "outputs": [
    {
     "data": {
      "text/html": [
       "<div>\n",
       "<style scoped>\n",
       "    .dataframe tbody tr th:only-of-type {\n",
       "        vertical-align: middle;\n",
       "    }\n",
       "\n",
       "    .dataframe tbody tr th {\n",
       "        vertical-align: top;\n",
       "    }\n",
       "\n",
       "    .dataframe thead th {\n",
       "        text-align: right;\n",
       "    }\n",
       "</style>\n",
       "<table border=\"1\" class=\"dataframe\">\n",
       "  <thead>\n",
       "    <tr style=\"text-align: right;\">\n",
       "      <th></th>\n",
       "      <th>LMF</th>\n",
       "      <th>SMF</th>\n",
       "      <th>RMF</th>\n",
       "    </tr>\n",
       "    <tr>\n",
       "      <th>Biome</th>\n",
       "      <th></th>\n",
       "      <th></th>\n",
       "      <th></th>\n",
       "    </tr>\n",
       "  </thead>\n",
       "  <tbody>\n",
       "    <tr>\n",
       "      <th>Tundra</th>\n",
       "      <td>0.09</td>\n",
       "      <td>0.37</td>\n",
       "      <td>0.69</td>\n",
       "    </tr>\n",
       "    <tr>\n",
       "      <th>Grassland</th>\n",
       "      <td>0.17</td>\n",
       "      <td>0.27</td>\n",
       "      <td>0.77</td>\n",
       "    </tr>\n",
       "    <tr>\n",
       "      <th>Boreal forest</th>\n",
       "      <td>0.04</td>\n",
       "      <td>0.75</td>\n",
       "      <td>0.21</td>\n",
       "    </tr>\n",
       "    <tr>\n",
       "      <th>Temperate forest</th>\n",
       "      <td>0.03</td>\n",
       "      <td>0.76</td>\n",
       "      <td>0.21</td>\n",
       "    </tr>\n",
       "    <tr>\n",
       "      <th>Tropical forest</th>\n",
       "      <td>0.02</td>\n",
       "      <td>0.82</td>\n",
       "      <td>0.16</td>\n",
       "    </tr>\n",
       "    <tr>\n",
       "      <th>Woodland</th>\n",
       "      <td>0.06</td>\n",
       "      <td>0.57</td>\n",
       "      <td>0.36</td>\n",
       "    </tr>\n",
       "    <tr>\n",
       "      <th>Shrubland</th>\n",
       "      <td>0.09</td>\n",
       "      <td>0.49</td>\n",
       "      <td>0.47</td>\n",
       "    </tr>\n",
       "    <tr>\n",
       "      <th>Desert</th>\n",
       "      <td>0.09</td>\n",
       "      <td>0.28</td>\n",
       "      <td>0.56</td>\n",
       "    </tr>\n",
       "  </tbody>\n",
       "</table>\n",
       "</div>"
      ],
      "text/plain": [
       "                   LMF   SMF   RMF\n",
       "Biome                             \n",
       "Tundra            0.09  0.37  0.69\n",
       "Grassland         0.17  0.27  0.77\n",
       "Boreal forest     0.04  0.75  0.21\n",
       "Temperate forest  0.03  0.76  0.21\n",
       "Tropical forest   0.02  0.82  0.16\n",
       "Woodland          0.06  0.57  0.36\n",
       "Shrubland         0.09  0.49  0.47\n",
       "Desert            0.09  0.28  0.56"
      ]
     },
     "execution_count": 2,
     "metadata": {},
     "output_type": "execute_result"
    }
   ],
   "source": [
    "# Load data from Poorter et al.\n",
    "fractions = pd.read_excel('../data/non_wood_biomass_data.xlsx','Poorter',skiprows=1,index_col=0)\n",
    "fractions"
   ]
  },
  {
   "cell_type": "markdown",
   "metadata": {},
   "source": [
    "We calculate weighted mean of leaf and root mass fractions. We use the fraction of total plant biomass in each biome as our weights from [Erb et al.](http://dx.doi.org/10.1038/ngeo2782) for the weighted mean. Here is the data from Erb et al.:"
   ]
  },
  {
   "cell_type": "code",
   "execution_count": 3,
   "metadata": {},
   "outputs": [
    {
     "data": {
      "text/html": [
       "<div>\n",
       "<style scoped>\n",
       "    .dataframe tbody tr th:only-of-type {\n",
       "        vertical-align: middle;\n",
       "    }\n",
       "\n",
       "    .dataframe tbody tr th {\n",
       "        vertical-align: top;\n",
       "    }\n",
       "\n",
       "    .dataframe thead th {\n",
       "        text-align: right;\n",
       "    }\n",
       "</style>\n",
       "<table border=\"1\" class=\"dataframe\">\n",
       "  <thead>\n",
       "    <tr style=\"text-align: right;\">\n",
       "      <th></th>\n",
       "      <th>Biome</th>\n",
       "      <th>Total biomass [Gt C]</th>\n",
       "      <th>Categories included in Poorter</th>\n",
       "    </tr>\n",
       "  </thead>\n",
       "  <tbody>\n",
       "    <tr>\n",
       "      <th>0</th>\n",
       "      <td>(Sub)tropical humid-moist forest</td>\n",
       "      <td>205</td>\n",
       "      <td>Tropical forest</td>\n",
       "    </tr>\n",
       "    <tr>\n",
       "      <th>1</th>\n",
       "      <td>(Sub)tropical dry forest</td>\n",
       "      <td>25</td>\n",
       "      <td>Tropical forest</td>\n",
       "    </tr>\n",
       "    <tr>\n",
       "      <th>2</th>\n",
       "      <td>(Sub)Tropical shrubland, desert, mountain</td>\n",
       "      <td>62</td>\n",
       "      <td>Shrubland</td>\n",
       "    </tr>\n",
       "    <tr>\n",
       "      <th>3</th>\n",
       "      <td>Temperate forest</td>\n",
       "      <td>22</td>\n",
       "      <td>Temperate forest</td>\n",
       "    </tr>\n",
       "    <tr>\n",
       "      <th>4</th>\n",
       "      <td>Temperate steppe, desert, mountain</td>\n",
       "      <td>27</td>\n",
       "      <td>Grassland, shrubland</td>\n",
       "    </tr>\n",
       "    <tr>\n",
       "      <th>5</th>\n",
       "      <td>Boreal forest</td>\n",
       "      <td>28</td>\n",
       "      <td>Boreal forest</td>\n",
       "    </tr>\n",
       "    <tr>\n",
       "      <th>6</th>\n",
       "      <td>Boreal tundra, mountain, other</td>\n",
       "      <td>33</td>\n",
       "      <td>Tundra</td>\n",
       "    </tr>\n",
       "  </tbody>\n",
       "</table>\n",
       "</div>"
      ],
      "text/plain": [
       "                                       Biome  Total biomass [Gt C]  \\\n",
       "0           (Sub)tropical humid-moist forest                   205   \n",
       "1                   (Sub)tropical dry forest                    25   \n",
       "2  (Sub)Tropical shrubland, desert, mountain                    62   \n",
       "3                           Temperate forest                    22   \n",
       "4         Temperate steppe, desert, mountain                    27   \n",
       "5                             Boreal forest                     28   \n",
       "6             Boreal tundra, mountain, other                    33   \n",
       "\n",
       "  Categories included in Poorter  \n",
       "0                Tropical forest  \n",
       "1                Tropical forest  \n",
       "2                      Shrubland  \n",
       "3               Temperate forest  \n",
       "4           Grassland, shrubland  \n",
       "5                  Boreal forest  \n",
       "6                         Tundra  "
      ]
     },
     "execution_count": 3,
     "metadata": {},
     "output_type": "execute_result"
    }
   ],
   "source": [
    "# Load data on the total plant biomass in each biome from Erb et al.\n",
    "biomes = pd.read_excel('../data/non_wood_biomass_data.xlsx','Erb',skiprows=1)\n",
    "biomes"
   ]
  },
  {
   "cell_type": "markdown",
   "metadata": {},
   "source": [
    "The specific biomes in Erb et al. are not fully matching the biomes in Poorter et al., and thus we traslate between the biomes in the two studies:"
   ]
  },
  {
   "cell_type": "code",
   "execution_count": 4,
   "metadata": {},
   "outputs": [
    {
     "data": {
      "text/markdown": [
       "___\n",
       "##### **Result**: \n",
       "\n",
       "Our global average for the leaf mass fraction is ≈4 percent\n",
       "___"
      ],
      "text/plain": [
       "<IPython.core.display.Markdown object>"
      ]
     },
     "metadata": {},
     "output_type": "display_data"
    }
   ],
   "source": [
    "# Calculate the sum of the mass fractions of leaves and roots\n",
    "leaf_frac = fractions['LMF']/fractions.sum(axis=1)\n",
    "\n",
    "# Calculate the total biomass of each biome by the biomes reported in Poorter et al.\n",
    "tot_biomass = biomes.groupby('Categories included in Poorter').sum()\n",
    "\n",
    "# For the temperate steppe, desert and mountain, we use the mean values from grassland and shrubland in Poorter et al.\n",
    "leaf_frac.loc['Grassland, shrubland'] = (np.array([leaf_frac.loc['Grassland'],leaf_frac.loc['Shrubland']])).mean()\n",
    "\n",
    "# Set the non-woody fraction as a column in the biome data\n",
    "tot_biomass['Leaf fraction'] = leaf_frac\n",
    "\n",
    "# Calculate the weighed average of the non-woody biomass fraction\n",
    "mean_leaf_frac = np.average(tot_biomass['Leaf fraction'], weights= tot_biomass['Total biomass [Gt C]'])\n",
    "dis_res('Our global average for the leaf mass fraction is ≈%.0f percent' %(mean_leaf_frac*100))"
   ]
  },
  {
   "cell_type": "markdown",
   "metadata": {},
   "source": [
    "To estimate the total mass of leaves, we rely on our estimate of the total plant biomass ([Bar-On et al.](https://doi.org/10.1073/pnas.1711842115)) of ≈450 Gt C, and we assume carbon is about 50% of the dry weight of plants. We thus estimate ≈900 Gt plant dry weight. We multiply the global leaf mass fraction by the total dry mass of plants to get an estimate for the total mass of leaves."
   ]
  },
  {
   "cell_type": "code",
   "execution_count": 5,
   "metadata": {},
   "outputs": [
    {
     "data": {
      "text/markdown": [
       "___\n",
       "##### **Result**: \n",
       "\n",
       "Our estimate for the global leaf mass based on leaf mass fraction measurements is ≈39 Gt\n",
       "___"
      ],
      "text/plain": [
       "<IPython.core.display.Markdown object>"
      ]
     },
     "metadata": {},
     "output_type": "display_data"
    }
   ],
   "source": [
    "global_plant_mass =900e15\n",
    "global_leaf_mass = global_plant_mass*mean_leaf_frac\n",
    "dis_res('Our estimate for the global leaf mass based on leaf mass fraction measurements is ≈%.0f Gt' %(global_leaf_mass/1e15))"
   ]
  },
  {
   "cell_type": "markdown",
   "metadata": {},
   "source": [
    "## Method 2 - Remote sensing based leaf mass\n",
    "\n",
    "In the notebook [**```remote_sensing_based_leaf_mass.ipynb```**](remote_sensing_based_leaf_mass.ipynb) we estimate that the total mass of leaves is ≈20 Gt.\n",
    "\n",
    "As our best estimate for the total mass of leaves, we use the geometric mean of the two methods:"
   ]
  },
  {
   "cell_type": "code",
   "execution_count": 6,
   "metadata": {},
   "outputs": [
    {
     "data": {
      "text/markdown": [
       "___\n",
       "##### **Result**: \n",
       "\n",
       "Our best estimate for the global leaf mass is ≈28 Gt\n",
       "___"
      ],
      "text/plain": [
       "<IPython.core.display.Markdown object>"
      ]
     },
     "metadata": {},
     "output_type": "display_data"
    }
   ],
   "source": [
    "best_leaf_mass = np.sqrt(global_leaf_mass*20e15)\n",
    "dis_res('Our best estimate for the global leaf mass is ≈%.0f Gt' %(best_leaf_mass/1e15))"
   ]
  }
 ],
 "metadata": {
  "kernelspec": {
   "display_name": "Python 3",
   "language": "python",
   "name": "python3"
  },
  "language_info": {
   "codemirror_mode": {
    "name": "ipython",
    "version": 3
   },
   "file_extension": ".py",
   "mimetype": "text/x-python",
   "name": "python",
   "nbconvert_exporter": "python",
   "pygments_lexer": "ipython3",
   "version": "3.6.5"
  }
 },
 "nbformat": 4,
 "nbformat_minor": 2
}
