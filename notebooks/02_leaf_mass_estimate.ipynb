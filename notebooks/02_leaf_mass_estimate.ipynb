{
 "cells": [
  {
   "cell_type": "code",
   "execution_count": 1,
   "metadata": {},
   "outputs": [],
   "source": [
    "# Import dependencies\n",
    "import pandas as pd\n",
    "import numpy as np\n",
    "%matplotlib inline\n",
    "import matplotlib.pyplot as plt\n",
    "from IPython.display import Markdown, display\n",
    "from  stats_helper import *\n",
    "def dis_res(x):\n",
    "    display(Markdown('___\\n##### **Result**: \\n\\n' + x + '\\n___'))"
   ]
  },
  {
   "cell_type": "markdown",
   "metadata": {},
   "source": [
    "# Estimating the gobal mass of leaves\n",
    "\n",
    "As part of our procedure for estimating the total number of Rubisco enzymes in the world, we first estimate the total mass of leaves globally.\n",
    "\n",
    "To achieve a global estimate of leaf mass we rely on two independent methodologies. The first is based on measurement of the total plant biomass and the mass fraction of leaves out of the total leaf biomass, and the second is based on estimating the total leaf area and converting the total leaf area into leaf mass.\n",
    "\n",
    "## Method 1 - leaf mass fraction\n",
    "\n",
    "\n",
    "In order to estimate the average effective rate of Rubisco globally, we need to first estimate the total amount of Rubisco enzymes on Earth. To do that we rely on a recent meta-analysis which collected data on the lead, shoot and root mass fractions in several different biomes [(Poorter et al.)](http://dx.doi.org/10.1111/j.1469-8137.2011.03952.x). Here are the mean leaf, shoot, and root mass fractions in each biome:"
   ]
  },
  {
   "cell_type": "code",
   "execution_count": 2,
   "metadata": {},
   "outputs": [
    {
     "data": {
      "text/html": [
       "<div>\n",
       "<style scoped>\n",
       "    .dataframe tbody tr th:only-of-type {\n",
       "        vertical-align: middle;\n",
       "    }\n",
       "\n",
       "    .dataframe tbody tr th {\n",
       "        vertical-align: top;\n",
       "    }\n",
       "\n",
       "    .dataframe thead th {\n",
       "        text-align: right;\n",
       "    }\n",
       "</style>\n",
       "<table border=\"1\" class=\"dataframe\">\n",
       "  <thead>\n",
       "    <tr style=\"text-align: right;\">\n",
       "      <th></th>\n",
       "      <th>LMF</th>\n",
       "      <th>0.05</th>\n",
       "      <th>median</th>\n",
       "      <th>95</th>\n",
       "      <th>lower-fold</th>\n",
       "      <th>upper-fold</th>\n",
       "      <th>95% CI</th>\n",
       "    </tr>\n",
       "    <tr>\n",
       "      <th>Biome</th>\n",
       "      <th></th>\n",
       "      <th></th>\n",
       "      <th></th>\n",
       "      <th></th>\n",
       "      <th></th>\n",
       "      <th></th>\n",
       "      <th></th>\n",
       "    </tr>\n",
       "  </thead>\n",
       "  <tbody>\n",
       "    <tr>\n",
       "      <th>Tundra</th>\n",
       "      <td>0.09</td>\n",
       "      <td>0.005698</td>\n",
       "      <td>0.031339</td>\n",
       "      <td>0.248575</td>\n",
       "      <td>5.500000</td>\n",
       "      <td>7.931818</td>\n",
       "      <td>6.604922</td>\n",
       "    </tr>\n",
       "    <tr>\n",
       "      <th>Grassland</th>\n",
       "      <td>0.17</td>\n",
       "      <td>0.009972</td>\n",
       "      <td>0.070513</td>\n",
       "      <td>0.509259</td>\n",
       "      <td>7.071429</td>\n",
       "      <td>7.222222</td>\n",
       "      <td>7.146428</td>\n",
       "    </tr>\n",
       "    <tr>\n",
       "      <th>Boreal forest</th>\n",
       "      <td>0.04</td>\n",
       "      <td>0.006410</td>\n",
       "      <td>0.023504</td>\n",
       "      <td>0.095442</td>\n",
       "      <td>3.666667</td>\n",
       "      <td>4.060606</td>\n",
       "      <td>3.858612</td>\n",
       "    </tr>\n",
       "    <tr>\n",
       "      <th>Temperate forest</th>\n",
       "      <td>0.03</td>\n",
       "      <td>0.006410</td>\n",
       "      <td>0.019231</td>\n",
       "      <td>0.049145</td>\n",
       "      <td>3.000000</td>\n",
       "      <td>2.555556</td>\n",
       "      <td>2.768875</td>\n",
       "    </tr>\n",
       "    <tr>\n",
       "      <th>Tropical forest</th>\n",
       "      <td>0.02</td>\n",
       "      <td>0.006410</td>\n",
       "      <td>0.019231</td>\n",
       "      <td>0.029915</td>\n",
       "      <td>3.000000</td>\n",
       "      <td>1.555556</td>\n",
       "      <td>2.160247</td>\n",
       "    </tr>\n",
       "    <tr>\n",
       "      <th>Woodland</th>\n",
       "      <td>0.06</td>\n",
       "      <td>0.033476</td>\n",
       "      <td>0.048433</td>\n",
       "      <td>0.101140</td>\n",
       "      <td>1.446809</td>\n",
       "      <td>2.088235</td>\n",
       "      <td>1.738182</td>\n",
       "    </tr>\n",
       "    <tr>\n",
       "      <th>Shrubland</th>\n",
       "      <td>0.09</td>\n",
       "      <td>0.032051</td>\n",
       "      <td>0.096154</td>\n",
       "      <td>0.140313</td>\n",
       "      <td>3.000000</td>\n",
       "      <td>1.459259</td>\n",
       "      <td>2.092314</td>\n",
       "    </tr>\n",
       "    <tr>\n",
       "      <th>Desert</th>\n",
       "      <td>0.09</td>\n",
       "      <td>0.023504</td>\n",
       "      <td>0.043447</td>\n",
       "      <td>0.262821</td>\n",
       "      <td>1.848485</td>\n",
       "      <td>6.049180</td>\n",
       "      <td>3.343923</td>\n",
       "    </tr>\n",
       "  </tbody>\n",
       "</table>\n",
       "</div>"
      ],
      "text/plain": [
       "                   LMF      0.05    median        95  lower-fold  upper-fold  \\\n",
       "Biome                                                                          \n",
       "Tundra            0.09  0.005698  0.031339  0.248575    5.500000    7.931818   \n",
       "Grassland         0.17  0.009972  0.070513  0.509259    7.071429    7.222222   \n",
       "Boreal forest     0.04  0.006410  0.023504  0.095442    3.666667    4.060606   \n",
       "Temperate forest  0.03  0.006410  0.019231  0.049145    3.000000    2.555556   \n",
       "Tropical forest   0.02  0.006410  0.019231  0.029915    3.000000    1.555556   \n",
       "Woodland          0.06  0.033476  0.048433  0.101140    1.446809    2.088235   \n",
       "Shrubland         0.09  0.032051  0.096154  0.140313    3.000000    1.459259   \n",
       "Desert            0.09  0.023504  0.043447  0.262821    1.848485    6.049180   \n",
       "\n",
       "                    95% CI  \n",
       "Biome                       \n",
       "Tundra            6.604922  \n",
       "Grassland         7.146428  \n",
       "Boreal forest     3.858612  \n",
       "Temperate forest  2.768875  \n",
       "Tropical forest   2.160247  \n",
       "Woodland          1.738182  \n",
       "Shrubland         2.092314  \n",
       "Desert            3.343923  "
      ]
     },
     "execution_count": 2,
     "metadata": {},
     "output_type": "execute_result"
    }
   ],
   "source": [
    "# Load data from Poorter et al.\n",
    "fractions = pd.read_excel('../data/literature_data.xlsx','Poorter',skiprows=1,index_col=0)\n",
    "fractions"
   ]
  },
  {
   "cell_type": "markdown",
   "metadata": {},
   "source": [
    "We calculate weighted mean of leaf and root mass fractions. We use the fraction of total plant biomass in each biome as our weights from [Erb et al.](http://dx.doi.org/10.1038/ngeo2782) for the weighted mean. Here is the data from Erb et al.:"
   ]
  },
  {
   "cell_type": "code",
   "execution_count": 3,
   "metadata": {},
   "outputs": [
    {
     "data": {
      "text/html": [
       "<div>\n",
       "<style scoped>\n",
       "    .dataframe tbody tr th:only-of-type {\n",
       "        vertical-align: middle;\n",
       "    }\n",
       "\n",
       "    .dataframe tbody tr th {\n",
       "        vertical-align: top;\n",
       "    }\n",
       "\n",
       "    .dataframe thead th {\n",
       "        text-align: right;\n",
       "    }\n",
       "</style>\n",
       "<table border=\"1\" class=\"dataframe\">\n",
       "  <thead>\n",
       "    <tr style=\"text-align: right;\">\n",
       "      <th></th>\n",
       "      <th>Biome</th>\n",
       "      <th>Total biomass [Gt C]</th>\n",
       "      <th>Categories included in Poorter</th>\n",
       "    </tr>\n",
       "  </thead>\n",
       "  <tbody>\n",
       "    <tr>\n",
       "      <th>0</th>\n",
       "      <td>(Sub)tropical humid-moist forest</td>\n",
       "      <td>205</td>\n",
       "      <td>Tropical forest</td>\n",
       "    </tr>\n",
       "    <tr>\n",
       "      <th>1</th>\n",
       "      <td>(Sub)tropical dry forest</td>\n",
       "      <td>25</td>\n",
       "      <td>Tropical forest</td>\n",
       "    </tr>\n",
       "    <tr>\n",
       "      <th>2</th>\n",
       "      <td>(Sub)Tropical shrubland, desert, mountain</td>\n",
       "      <td>62</td>\n",
       "      <td>Shrubland</td>\n",
       "    </tr>\n",
       "    <tr>\n",
       "      <th>3</th>\n",
       "      <td>Temperate forest</td>\n",
       "      <td>22</td>\n",
       "      <td>Temperate forest</td>\n",
       "    </tr>\n",
       "    <tr>\n",
       "      <th>4</th>\n",
       "      <td>Temperate steppe, desert, mountain</td>\n",
       "      <td>27</td>\n",
       "      <td>Grassland, shrubland</td>\n",
       "    </tr>\n",
       "    <tr>\n",
       "      <th>5</th>\n",
       "      <td>Boreal forest</td>\n",
       "      <td>28</td>\n",
       "      <td>Boreal forest</td>\n",
       "    </tr>\n",
       "    <tr>\n",
       "      <th>6</th>\n",
       "      <td>Boreal tundra, mountain, other</td>\n",
       "      <td>33</td>\n",
       "      <td>Tundra</td>\n",
       "    </tr>\n",
       "  </tbody>\n",
       "</table>\n",
       "</div>"
      ],
      "text/plain": [
       "                                       Biome  Total biomass [Gt C]  \\\n",
       "0           (Sub)tropical humid-moist forest                   205   \n",
       "1                   (Sub)tropical dry forest                    25   \n",
       "2  (Sub)Tropical shrubland, desert, mountain                    62   \n",
       "3                           Temperate forest                    22   \n",
       "4         Temperate steppe, desert, mountain                    27   \n",
       "5                             Boreal forest                     28   \n",
       "6             Boreal tundra, mountain, other                    33   \n",
       "\n",
       "  Categories included in Poorter  \n",
       "0                Tropical forest  \n",
       "1                Tropical forest  \n",
       "2                      Shrubland  \n",
       "3               Temperate forest  \n",
       "4           Grassland, shrubland  \n",
       "5                  Boreal forest  \n",
       "6                         Tundra  "
      ]
     },
     "execution_count": 3,
     "metadata": {},
     "output_type": "execute_result"
    }
   ],
   "source": [
    "# Load data on the total plant biomass in each biome from Erb et al.\n",
    "biomes = pd.read_excel('../data/non_wood_biomass_data.xlsx','Erb',skiprows=1)\n",
    "biomes"
   ]
  },
  {
   "cell_type": "markdown",
   "metadata": {},
   "source": [
    "The specific biomes in Erb et al. are not fully matching the biomes in Poorter et al., and thus we traslate between the biomes in the two studies:"
   ]
  },
  {
   "cell_type": "code",
   "execution_count": 4,
   "metadata": {},
   "outputs": [
    {
     "name": "stderr",
     "output_type": "stream",
     "text": [
      "/usr/local/lib/python3.6/dist-packages/ipykernel_launcher.py:8: SettingWithCopyWarning: \n",
      "A value is trying to be set on a copy of a slice from a DataFrame\n",
      "\n",
      "See the caveats in the documentation: http://pandas.pydata.org/pandas-docs/stable/indexing.html#indexing-view-versus-copy\n",
      "  \n"
     ]
    },
    {
     "data": {
      "text/markdown": [
       "___\n",
       "##### **Result**: \n",
       "\n",
       "Our global average for the leaf mass fraction is ≈5 percent\n",
       "___"
      ],
      "text/plain": [
       "<IPython.core.display.Markdown object>"
      ]
     },
     "metadata": {},
     "output_type": "display_data"
    }
   ],
   "source": [
    "# Calculate the sum of the mass fractions of leaves and roots\n",
    "leaf_frac = fractions[['LMF','95% CI']]\n",
    "\n",
    "# Calculate the total biomass of each biome by the biomes reported in Poorter et al.\n",
    "tot_biomass = biomes.groupby('Categories included in Poorter').sum()\n",
    "\n",
    "# For the temperate steppe, desert and mountain, we use the mean values from grassland and shrubland in Poorter et al.\n",
    "leaf_frac.loc['Grassland, shrubland'] = (np.array([leaf_frac.loc['Grassland'],leaf_frac.loc['Shrubland']])).mean(0)\n",
    "\n",
    "# Set the non-woody fraction as a column in the biome data\n",
    "tot_biomass['Leaf fraction'] = leaf_frac['LMF']\n",
    "tot_biomass['95% CI'] = leaf_frac['95% CI']\n",
    "\n",
    "# Calculate the weighed average of the non-woody biomass fraction\n",
    "mean_leaf_frac = np.average(tot_biomass['Leaf fraction'], weights= tot_biomass['Total biomass [Gt C]'])\n",
    "dis_res('Our global average for the leaf mass fraction is ≈%.0f percent' %(mean_leaf_frac*100))"
   ]
  },
  {
   "cell_type": "markdown",
   "metadata": {},
   "source": [
    "To estimate the total mass of leaves, we rely on our estimate of the total plant biomass ([Bar-On et al.](https://doi.org/10.1073/pnas.1711842115)) of ≈450 Gt C, and we assume carbon is about 50% of the dry weight of plants. We thus estimate ≈900 Gt plant dry weight. We multiply the global leaf mass fraction by the total dry mass of plants to get an estimate for the total mass of leaves."
   ]
  },
  {
   "cell_type": "code",
   "execution_count": 5,
   "metadata": {},
   "outputs": [
    {
     "data": {
      "text/markdown": [
       "___\n",
       "##### **Result**: \n",
       "\n",
       "Our estimate for the global leaf mass based on leaf mass fraction measurements is ≈41 Gt\n",
       "___"
      ],
      "text/plain": [
       "<IPython.core.display.Markdown object>"
      ]
     },
     "metadata": {},
     "output_type": "display_data"
    }
   ],
   "source": [
    "global_plant_mass =900e15\n",
    "global_leaf_mass = global_plant_mass*mean_leaf_frac\n",
    "dis_res('Our estimate for the global leaf mass based on leaf mass fraction measurements is ≈%.0f Gt' %(global_leaf_mass/1e15))"
   ]
  },
  {
   "cell_type": "markdown",
   "metadata": {},
   "source": [
    "## Method 2 - Remote sensing based leaf mass\n",
    "\n",
    "In the notebook [**```remote_sensing_based_leaf_mass.ipynb```**](01_remote_sensing_based_leaf_mass.ipynb) we estimate that the total mass of leaves is ≈20 Gt.\n",
    "\n",
    "As our best estimate for the total mass of leaves, we use the geometric mean of the two methods:"
   ]
  },
  {
   "cell_type": "code",
   "execution_count": 6,
   "metadata": {},
   "outputs": [
    {
     "data": {
      "text/markdown": [
       "___\n",
       "##### **Result**: \n",
       "\n",
       "Our best estimate for the global leaf mass is ≈29 Gt\n",
       "___"
      ],
      "text/plain": [
       "<IPython.core.display.Markdown object>"
      ]
     },
     "metadata": {},
     "output_type": "display_data"
    }
   ],
   "source": [
    "best_leaf_mass = np.sqrt(global_leaf_mass*20e15)\n",
    "dis_res('Our best estimate for the global leaf mass is ≈%.0f Gt' %(best_leaf_mass/1e15))"
   ]
  },
  {
   "cell_type": "markdown",
   "metadata": {},
   "source": [
    "# Uncertainty analysis\n",
    "To project the uncertainty associated with the estimate of the total mass of leaves, we first calculate the uncertainty around our estimate of the total mass of leaves based on the leaf mass fraction in each biome:"
   ]
  },
  {
   "cell_type": "code",
   "execution_count": 7,
   "metadata": {},
   "outputs": [
    {
     "data": {
      "text/markdown": [
       "___\n",
       "##### **Result**: \n",
       "\n",
       "Our projection for the uncertainty associated with our estimate of the mass fraction of leaves is ≈2-fold\n",
       "___"
      ],
      "text/plain": [
       "<IPython.core.display.Markdown object>"
      ]
     },
     "metadata": {},
     "output_type": "display_data"
    }
   ],
   "source": [
    "leaf_mass_per_biome = tot_biomass['Total biomass [Gt C]']*tot_biomass['Leaf fraction']\n",
    "mul_CIs = tot_biomass['95% CI']\n",
    "leaf_mass_frac_CI = CI_sum_prop(leaf_mass_per_biome,mul_CIs)\n",
    "dis_res('Our projection for the uncertainty associated with our estimate of the mass fraction of leaves is ≈%.0f-fold' %leaf_mass_frac_CI)"
   ]
  },
  {
   "cell_type": "markdown",
   "metadata": {},
   "source": [
    "As for the total mass of plants, [Bar-On et al.](https://dx.doi.org/10.1073/pnas.1711842115) projected an uncertainty of ≈1.2-fold associated with the total mass of plants. We combine the uncertainty associated with our estimate of the leaf mass fraction with the uncertainty associated with the total mass of plants:"
   ]
  },
  {
   "cell_type": "code",
   "execution_count": 14,
   "metadata": {},
   "outputs": [
    {
     "data": {
      "text/markdown": [
       "___\n",
       "##### **Result**: \n",
       "\n",
       "Our projection for the uncertainty associated with our estimate of the total mass of leaves based on leaf mass fraction is ≈2-fold\n",
       "___"
      ],
      "text/plain": [
       "<IPython.core.display.Markdown object>"
      ]
     },
     "metadata": {},
     "output_type": "display_data"
    }
   ],
   "source": [
    "tot_leaf_mass_frac_CI = CI_prod_prop([leaf_mass_frac_CI,1.2])\n",
    "dis_res('Our projection for the uncertainty associated with our estimate of the total mass of leaves based on leaf mass fraction is ≈%.0f-fold' %tot_leaf_mass_frac_CI)"
   ]
  },
  {
   "cell_type": "markdown",
   "metadata": {},
   "source": [
    "In the notebook [**```remote_sensing_based_leaf_mass.ipynb```**](01_remote_sensing_based_leaf_mass.ipynb) we estimate that the uncertainty associated with the estimate of the total mass of leaves based on remote sensing is ≈2-fold. We can calculate the uncertainty based on the difference of the estimates based on the two different methodologies (leaf mass based and remote sensing based):\n"
   ]
  },
  {
   "cell_type": "code",
   "execution_count": 9,
   "metadata": {},
   "outputs": [
    {
     "data": {
      "text/plain": [
       "1.8334987463289107"
      ]
     },
     "execution_count": 9,
     "metadata": {},
     "output_type": "execute_result"
    }
   ],
   "source": [
    "mul_CI([global_leaf_mass,20e15])"
   ]
  },
  {
   "cell_type": "markdown",
   "metadata": {},
   "source": [
    "Overall, we use the highest uncertainty out of the uncertainties reported for each estimate and the uncertainty based on the difference between the different methodologies, which is ≈2-fold."
   ]
  },
  {
   "cell_type": "code",
   "execution_count": 10,
   "metadata": {},
   "outputs": [
    {
     "name": "stdout",
     "output_type": "stream",
     "text": [
      "0.953\n"
     ]
    }
   ],
   "source": [
    "true_mean = 1\n",
    "true_std = 10\n",
    "sample_size = 1000\n",
    "\n",
    "results = []\n",
    "for i in range(1000):\n",
    "    dist = np.random.lognormal(np.log(true_mean),true_std,sample_size)\n",
    "    log_dist = np.log(dist)\n",
    "    mul_CI = np.exp(log_dist.std()/np.sqrt(1000)*1.96)\n",
    "    gmean = np.exp(log_dist.mean())\n",
    "    results.append((true_mean > gmean/mul_CI) and (true_mean < gmean*mul_CI))\n",
    "\n",
    "results = np.stack(results)\n",
    "\n",
    "print(results.sum()/1000)"
   ]
  },
  {
   "cell_type": "code",
   "execution_count": 11,
   "metadata": {},
   "outputs": [
    {
     "name": "stdout",
     "output_type": "stream",
     "text": [
      "0.945\n"
     ]
    }
   ],
   "source": [
    "true_mean = 1\n",
    "true_std = 10\n",
    "sample_size = 1000\n",
    "\n",
    "results = []\n",
    "values = []\n",
    "for i in range(1000):\n",
    "    dist = np.random.lognormal(np.log(true_mean),true_std,sample_size)\n",
    "    log_dist = np.log(dist)\n",
    "    mul_CI = np.exp(log_dist.std()*1.96)\n",
    "    gmean = np.exp(np.random.choice(log_dist))\n",
    "    values.append(gmean)\n",
    "    results.append((true_mean > gmean/mul_CI) and (true_mean < gmean*mul_CI))\n",
    "\n",
    "results = np.stack(results)\n",
    "values = np.stack(values)\n",
    "print(results.sum()/1000)"
   ]
  },
  {
   "cell_type": "code",
   "execution_count": 12,
   "metadata": {},
   "outputs": [
    {
     "data": {
      "text/plain": [
       "(array([ 999.,    0.,    0.,    0.,    0.,    0.,    0.,    0.,    0.,    1.]),\n",
       " array([  6.04718851e-15,   1.97883927e+16,   3.95767855e+16,\n",
       "          5.93651782e+16,   7.91535709e+16,   9.89419637e+16,\n",
       "          1.18730356e+17,   1.38518749e+17,   1.58307142e+17,\n",
       "          1.78095535e+17,   1.97883927e+17]),\n",
       " <a list of 10 Patch objects>)"
      ]
     },
     "execution_count": 12,
     "metadata": {},
     "output_type": "execute_result"
    },
    {
     "data": {
      "image/png": "[encoded data removed]",
      "text/plain": [
       "<Figure size 432x288 with 1 Axes>"
      ]
     },
     "metadata": {},
     "output_type": "display_data"
    }
   ],
   "source": [
    "plt.hist(values)"
   ]
  }
 ],
 "metadata": {
  "kernelspec": {
   "display_name": "Python 3",
   "language": "python",
   "name": "python3"
  },
  "language_info": {
   "codemirror_mode": {
    "name": "ipython",
    "version": 3
   },
   "file_extension": ".py",
   "mimetype": "text/x-python",
   "name": "python",
   "nbconvert_exporter": "python",
   "pygments_lexer": "ipython3",
   "version": "3.6.5"
  }
 },
 "nbformat": 4,
 "nbformat_minor": 2
}
