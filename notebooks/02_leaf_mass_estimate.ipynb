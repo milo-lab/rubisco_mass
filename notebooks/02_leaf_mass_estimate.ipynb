{
  "nbformat": 4,
  "nbformat_minor": 0,
  "metadata": {
    "colab": {
      "name": "02_leaf_mass_estimate.ipynb",
      "version": "0.3.2",
      "provenance": []
    },
    "kernelspec": {
      "display_name": "Python 3",
      "language": "python",
      "name": "python3"
    }
  },
  "cells": [
    {
      "metadata": {
        "id": "fDtODe6TKqAy",
        "colab_type": "code",
        "colab": {}
      },
      "cell_type": "code",
      "source": [
        "# Import dependencies\n",
        "import pandas as pd\n",
        "import numpy as np\n",
        "%matplotlib inline\n",
        "import matplotlib.pyplot as plt\n",
        "from IPython.display import Markdown, display\n",
        "from  stats_helper import *\n",
        "def dis_res(x):\n",
        "    display(Markdown('___\\n##### **Result**: \\n\\n' + x + '\\n___'))"
      ],
      "execution_count": 0,
      "outputs": []
    },
    {
      "metadata": {
        "id": "obEev7JeKqA4",
        "colab_type": "text"
      },
      "cell_type": "markdown",
      "source": [
        "# Estimating the gobal mass of leaves\n",
        "\n",
        "As part of our procedure for estimating the total number of Rubisco enzymes in the world, we first estimate the total mass of leaves globally.\n",
        "\n",
        "To achieve a global estimate of leaf mass we rely on two independent methodologies. The first is based on measurement of the total plant biomass and the mass fraction of leaves out of the total leaf biomass, and the second is based on estimating the total leaf area and converting the total leaf area into leaf mass.\n",
        "\n",
        "## Method 1 - leaf mass fraction\n",
        "\n",
        "\n",
        "To estimate the total leaf mass based on mass frations, we combine estimates from Erb et al. on plant biomass in each biome, along with estimates of the average leaf mass fraction in each biome. Our estimates of the average leaf mass fraction in each biome are based a recent meta-analysis which collected data on the lead, shoot and root mass fractions in several different biomes [(Poorter et al.)](http://dx.doi.org/10.1111/j.1469-8137.2011.03952.x). Here is the data:"
      ]
    },
    {
      "metadata": {
        "id": "dEKV8pHhKqA9",
        "colab_type": "code",
        "colab": {
          "base_uri": "https://localhost:8080/",
          "height": 326
        },
        "outputId": "d18ebb9d-1d00-4c08-f9c5-3a7cf427dc45"
      },
      "cell_type": "code",
      "source": [
        "# Load data from Poorter et al.\n",
        "fractions = pd.read_excel('../data/literature_data.xlsx','Poorter',skiprows=1,index_col=0)\n",
        "fractions"
      ],
      "execution_count": 9,
      "outputs": [
        {
          "output_type": "execute_result",
          "data": {
            "text/html": [
              "<div>\n",
              "<style scoped>\n",
              "    .dataframe tbody tr th:only-of-type {\n",
              "        vertical-align: middle;\n",
              "    }\n",
              "\n",
              "    .dataframe tbody tr th {\n",
              "        vertical-align: top;\n",
              "    }\n",
              "\n",
              "    .dataframe thead th {\n",
              "        text-align: right;\n",
              "    }\n",
              "</style>\n",
              "<table border=\"1\" class=\"dataframe\">\n",
              "  <thead>\n",
              "    <tr style=\"text-align: right;\">\n",
              "      <th></th>\n",
              "      <th>LMF</th>\n",
              "      <th>0.05</th>\n",
              "      <th>median</th>\n",
              "      <th>95</th>\n",
              "      <th>lower-fold</th>\n",
              "      <th>upper-fold</th>\n",
              "      <th>95% CI</th>\n",
              "    </tr>\n",
              "    <tr>\n",
              "      <th>Biome</th>\n",
              "      <th></th>\n",
              "      <th></th>\n",
              "      <th></th>\n",
              "      <th></th>\n",
              "      <th></th>\n",
              "      <th></th>\n",
              "      <th></th>\n",
              "    </tr>\n",
              "  </thead>\n",
              "  <tbody>\n",
              "    <tr>\n",
              "      <th>Tundra</th>\n",
              "      <td>0.09</td>\n",
              "      <td>0.005698</td>\n",
              "      <td>0.031339</td>\n",
              "      <td>0.248575</td>\n",
              "      <td>5.500000</td>\n",
              "      <td>7.931818</td>\n",
              "      <td>6.604922</td>\n",
              "    </tr>\n",
              "    <tr>\n",
              "      <th>Grassland</th>\n",
              "      <td>0.17</td>\n",
              "      <td>0.009972</td>\n",
              "      <td>0.070513</td>\n",
              "      <td>0.509259</td>\n",
              "      <td>7.071429</td>\n",
              "      <td>7.222222</td>\n",
              "      <td>7.146428</td>\n",
              "    </tr>\n",
              "    <tr>\n",
              "      <th>Boreal forest</th>\n",
              "      <td>0.04</td>\n",
              "      <td>0.006410</td>\n",
              "      <td>0.023504</td>\n",
              "      <td>0.095442</td>\n",
              "      <td>3.666667</td>\n",
              "      <td>4.060606</td>\n",
              "      <td>3.858612</td>\n",
              "    </tr>\n",
              "    <tr>\n",
              "      <th>Temperate forest</th>\n",
              "      <td>0.03</td>\n",
              "      <td>0.006410</td>\n",
              "      <td>0.019231</td>\n",
              "      <td>0.049145</td>\n",
              "      <td>3.000000</td>\n",
              "      <td>2.555556</td>\n",
              "      <td>2.768875</td>\n",
              "    </tr>\n",
              "    <tr>\n",
              "      <th>Tropical forest</th>\n",
              "      <td>0.02</td>\n",
              "      <td>0.006410</td>\n",
              "      <td>0.019231</td>\n",
              "      <td>0.029915</td>\n",
              "      <td>3.000000</td>\n",
              "      <td>1.555556</td>\n",
              "      <td>2.160247</td>\n",
              "    </tr>\n",
              "    <tr>\n",
              "      <th>Woodland</th>\n",
              "      <td>0.06</td>\n",
              "      <td>0.033476</td>\n",
              "      <td>0.048433</td>\n",
              "      <td>0.101140</td>\n",
              "      <td>1.446809</td>\n",
              "      <td>2.088235</td>\n",
              "      <td>1.738182</td>\n",
              "    </tr>\n",
              "    <tr>\n",
              "      <th>Shrubland</th>\n",
              "      <td>0.09</td>\n",
              "      <td>0.032051</td>\n",
              "      <td>0.096154</td>\n",
              "      <td>0.140313</td>\n",
              "      <td>3.000000</td>\n",
              "      <td>1.459259</td>\n",
              "      <td>2.092314</td>\n",
              "    </tr>\n",
              "    <tr>\n",
              "      <th>Desert</th>\n",
              "      <td>0.09</td>\n",
              "      <td>0.023504</td>\n",
              "      <td>0.043447</td>\n",
              "      <td>0.262821</td>\n",
              "      <td>1.848485</td>\n",
              "      <td>6.049180</td>\n",
              "      <td>3.343923</td>\n",
              "    </tr>\n",
              "  </tbody>\n",
              "</table>\n",
              "</div>"
            ],
            "text/plain": [
              "                   LMF      0.05    median        95  lower-fold  upper-fold  \\\n",
              "Biome                                                                          \n",
              "Tundra            0.09  0.005698  0.031339  0.248575    5.500000    7.931818   \n",
              "Grassland         0.17  0.009972  0.070513  0.509259    7.071429    7.222222   \n",
              "Boreal forest     0.04  0.006410  0.023504  0.095442    3.666667    4.060606   \n",
              "Temperate forest  0.03  0.006410  0.019231  0.049145    3.000000    2.555556   \n",
              "Tropical forest   0.02  0.006410  0.019231  0.029915    3.000000    1.555556   \n",
              "Woodland          0.06  0.033476  0.048433  0.101140    1.446809    2.088235   \n",
              "Shrubland         0.09  0.032051  0.096154  0.140313    3.000000    1.459259   \n",
              "Desert            0.09  0.023504  0.043447  0.262821    1.848485    6.049180   \n",
              "\n",
              "                    95% CI  \n",
              "Biome                       \n",
              "Tundra            6.604922  \n",
              "Grassland         7.146428  \n",
              "Boreal forest     3.858612  \n",
              "Temperate forest  2.768875  \n",
              "Tropical forest   2.160247  \n",
              "Woodland          1.738182  \n",
              "Shrubland         2.092314  \n",
              "Desert            3.343923  "
            ]
          },
          "metadata": {
            "tags": []
          },
          "execution_count": 9
        }
      ]
    },
    {
      "metadata": {
        "id": "z2D42zfrKqBM",
        "colab_type": "text"
      },
      "cell_type": "markdown",
      "source": [
        "The data in Poorter et al. does not include values for croplands. To estimate the mean leaf mass fraction in crops, we use a recent dataset published by the same authors ([Poorter et al.](https://doi.org/10.1111/nph.13571)). We calculate the same "
      ]
    },
    {
      "metadata": {
        "id": "SbcpmF7SKqBO",
        "colab_type": "code",
        "colab": {}
      },
      "cell_type": "code",
      "source": [
        ""
      ],
      "execution_count": 0,
      "outputs": []
    },
    {
      "metadata": {
        "id": "Rkzbx2OnKqBZ",
        "colab_type": "text"
      },
      "cell_type": "markdown",
      "source": [
        "We calculate weighted mean of leaf and root mass fractions. We use the fraction of total plant biomass in each biome as our weights from [Erb et al.](http://dx.doi.org/10.1038/ngeo2782) for the weighted mean. Here is the data from Erb et al.:"
      ]
    },
    {
      "metadata": {
        "id": "NisuJYeDKqBb",
        "colab_type": "code",
        "colab": {
          "base_uri": "https://localhost:8080/",
          "height": 295
        },
        "outputId": "305c6a85-5d90-4da7-f49d-c7cdf6c77459"
      },
      "cell_type": "code",
      "source": [
        "# Load data on the total plant biomass in each biome from Erb et al.\n",
        "biomes = pd.read_excel('../data/literature_data.xlsx','Erb',skiprows=1)\n",
        "biomes"
      ],
      "execution_count": 11,
      "outputs": [
        {
          "output_type": "execute_result",
          "data": {
            "text/html": [
              "<div>\n",
              "<style scoped>\n",
              "    .dataframe tbody tr th:only-of-type {\n",
              "        vertical-align: middle;\n",
              "    }\n",
              "\n",
              "    .dataframe tbody tr th {\n",
              "        vertical-align: top;\n",
              "    }\n",
              "\n",
              "    .dataframe thead th {\n",
              "        text-align: right;\n",
              "    }\n",
              "</style>\n",
              "<table border=\"1\" class=\"dataframe\">\n",
              "  <thead>\n",
              "    <tr style=\"text-align: right;\">\n",
              "      <th></th>\n",
              "      <th>Biome</th>\n",
              "      <th>Total biomass [Gt C]</th>\n",
              "      <th>Categories included in Poorter</th>\n",
              "      <th>Remarks</th>\n",
              "    </tr>\n",
              "  </thead>\n",
              "  <tbody>\n",
              "    <tr>\n",
              "      <th>0</th>\n",
              "      <td>Tropical forests</td>\n",
              "      <td>257.063700</td>\n",
              "      <td>Tropical forest</td>\n",
              "      <td>Includes tropical forests under managements an...</td>\n",
              "    </tr>\n",
              "    <tr>\n",
              "      <th>1</th>\n",
              "      <td>Temperate forests</td>\n",
              "      <td>39.458988</td>\n",
              "      <td>Temperate forest</td>\n",
              "      <td>Includes tropical forests under managements an...</td>\n",
              "    </tr>\n",
              "    <tr>\n",
              "      <th>2</th>\n",
              "      <td>Boreal forests</td>\n",
              "      <td>35.977312</td>\n",
              "      <td>Boreal forest</td>\n",
              "      <td>Includes tropical forests under managements an...</td>\n",
              "    </tr>\n",
              "    <tr>\n",
              "      <th>3</th>\n",
              "      <td>Cropland</td>\n",
              "      <td>10.000000</td>\n",
              "      <td>Poaceae</td>\n",
              "      <td>NaN</td>\n",
              "    </tr>\n",
              "    <tr>\n",
              "      <th>4</th>\n",
              "      <td>Other wooded land</td>\n",
              "      <td>57.000000</td>\n",
              "      <td>Shrubland</td>\n",
              "      <td>NaN</td>\n",
              "    </tr>\n",
              "    <tr>\n",
              "      <th>5</th>\n",
              "      <td>Natural grasslands</td>\n",
              "      <td>19.000000</td>\n",
              "      <td>Grassland</td>\n",
              "      <td>NaN</td>\n",
              "    </tr>\n",
              "    <tr>\n",
              "      <th>6</th>\n",
              "      <td>Artifitial grasslands</td>\n",
              "      <td>7.000000</td>\n",
              "      <td>Grassland</td>\n",
              "      <td>NaN</td>\n",
              "    </tr>\n",
              "    <tr>\n",
              "      <th>7</th>\n",
              "      <td>Unused non-forest</td>\n",
              "      <td>16.500000</td>\n",
              "      <td>Tundra</td>\n",
              "      <td>Includes the category \"Wilderness, productive,...</td>\n",
              "    </tr>\n",
              "  </tbody>\n",
              "</table>\n",
              "</div>"
            ],
            "text/plain": [
              "                   Biome  Total biomass [Gt C] Categories included in Poorter  \\\n",
              "0       Tropical forests            257.063700                Tropical forest   \n",
              "1      Temperate forests             39.458988               Temperate forest   \n",
              "2         Boreal forests             35.977312                  Boreal forest   \n",
              "3               Cropland             10.000000                        Poaceae   \n",
              "4      Other wooded land             57.000000                      Shrubland   \n",
              "5     Natural grasslands             19.000000                      Grassland   \n",
              "6  Artifitial grasslands              7.000000                      Grassland   \n",
              "7      Unused non-forest             16.500000                         Tundra   \n",
              "\n",
              "                                             Remarks  \n",
              "0  Includes tropical forests under managements an...  \n",
              "1  Includes tropical forests under managements an...  \n",
              "2  Includes tropical forests under managements an...  \n",
              "3                                                NaN  \n",
              "4                                                NaN  \n",
              "5                                                NaN  \n",
              "6                                                NaN  \n",
              "7  Includes the category \"Wilderness, productive,...  "
            ]
          },
          "metadata": {
            "tags": []
          },
          "execution_count": 11
        }
      ]
    },
    {
      "metadata": {
        "id": "3IxlhtsPKqBm",
        "colab_type": "text"
      },
      "cell_type": "markdown",
      "source": [
        "The specific biomes in Erb et al. are not fully matching the biomes in Poorter et al., and thus we traslate between the biomes in the two studies:"
      ]
    },
    {
      "metadata": {
        "id": "7pt19gkWKqBo",
        "colab_type": "code",
        "colab": {},
        "outputId": "058c1474-62d3-412e-ee66-da6932fe3424"
      },
      "cell_type": "code",
      "source": [
        "# Calculate the sum of the mass fractions of leaves and roots\n",
        "leaf_frac = fractions[['LMF','95% CI']]\n",
        "\n",
        "# Calculate the total biomass of each biome by the biomes reported in Poorter et al.\n",
        "tot_biomass = biomes.groupby('Categories included in Poorter').sum()\n",
        "\n",
        "# For the temperate steppe, desert and mountain, we use the mean values from grassland and shrubland in Poorter et al.\n",
        "leaf_frac.loc['Grassland, shrubland'] = (np.array([leaf_frac.loc['Grassland'],leaf_frac.loc['Shrubland']])).mean(0)\n",
        "\n",
        "# Set the non-woody fraction as a column in the biome data\n",
        "tot_biomass['Leaf fraction'] = leaf_frac['LMF']\n",
        "tot_biomass['95% CI'] = leaf_frac['95% CI']\n",
        "\n",
        "# Calculate the weighed average of the non-woody biomass fraction\n",
        "mean_leaf_frac = np.average(tot_biomass['Leaf fraction'], weights= tot_biomass['Total biomass [Gt C]'])\n",
        "dis_res('Our global average for the leaf mass fraction is ≈%.0f percent' %(mean_leaf_frac*100))"
      ],
      "execution_count": 0,
      "outputs": [
        {
          "output_type": "stream",
          "text": [
            "/usr/local/lib/python3.6/dist-packages/ipykernel_launcher.py:8: SettingWithCopyWarning: \n",
            "A value is trying to be set on a copy of a slice from a DataFrame\n",
            "\n",
            "See the caveats in the documentation: http://pandas.pydata.org/pandas-docs/stable/indexing.html#indexing-view-versus-copy\n",
            "  \n"
          ],
          "name": "stderr"
        },
        {
          "output_type": "display_data",
          "data": {
            "text/markdown": "___\n##### **Result**: \n\nOur global average for the leaf mass fraction is ≈5 percent\n___",
            "text/plain": [
              "<IPython.core.display.Markdown object>"
            ]
          },
          "metadata": {
            "tags": []
          }
        }
      ]
    },
    {
      "metadata": {
        "id": "HJ9rpbdyKqBu",
        "colab_type": "text"
      },
      "cell_type": "markdown",
      "source": [
        "To estimate the total mass of leaves, we rely on our estimate of the total plant biomass ([Bar-On et al.](https://doi.org/10.1073/pnas.1711842115)) of ≈450 Gt C, and we assume carbon is about 50% of the dry weight of plants. We thus estimate ≈900 Gt plant dry weight. We multiply the global leaf mass fraction by the total dry mass of plants to get an estimate for the total mass of leaves."
      ]
    },
    {
      "metadata": {
        "id": "yMTut-faKqBy",
        "colab_type": "code",
        "colab": {},
        "outputId": "c4565b4b-2b2e-4f98-bd52-888f35095b51"
      },
      "cell_type": "code",
      "source": [
        "global_plant_mass =900e15\n",
        "global_leaf_mass = global_plant_mass*mean_leaf_frac\n",
        "dis_res('Our estimate for the global leaf mass based on leaf mass fraction measurements is ≈%.0f Gt' %(global_leaf_mass/1e15))"
      ],
      "execution_count": 0,
      "outputs": [
        {
          "output_type": "display_data",
          "data": {
            "text/markdown": "___\n##### **Result**: \n\nOur estimate for the global leaf mass based on leaf mass fraction measurements is ≈41 Gt\n___",
            "text/plain": [
              "<IPython.core.display.Markdown object>"
            ]
          },
          "metadata": {
            "tags": []
          }
        }
      ]
    },
    {
      "metadata": {
        "id": "xlmgjr7qKqB-",
        "colab_type": "text"
      },
      "cell_type": "markdown",
      "source": [
        "## Method 2 - Remote sensing based leaf mass\n",
        "\n",
        "In the notebook [**```remote_sensing_based_leaf_mass.ipynb```**](01_remote_sensing_based_leaf_mass.ipynb) we estimate that the total mass of leaves is ≈20 Gt.\n",
        "\n",
        "As our best estimate for the total mass of leaves, we use the geometric mean of the two methods:"
      ]
    },
    {
      "metadata": {
        "id": "HGeSppHtKqB_",
        "colab_type": "code",
        "colab": {},
        "outputId": "5577f5d4-ba4b-4186-9369-27349f4f070a"
      },
      "cell_type": "code",
      "source": [
        "best_leaf_mass = np.sqrt(global_leaf_mass*20e15)\n",
        "dis_res('Our best estimate for the global leaf mass is ≈%.0f Gt' %(best_leaf_mass/1e15))"
      ],
      "execution_count": 0,
      "outputs": [
        {
          "output_type": "display_data",
          "data": {
            "text/markdown": "___\n##### **Result**: \n\nOur best estimate for the global leaf mass is ≈29 Gt\n___",
            "text/plain": [
              "<IPython.core.display.Markdown object>"
            ]
          },
          "metadata": {
            "tags": []
          }
        }
      ]
    },
    {
      "metadata": {
        "id": "IAJv-4kGKqCI",
        "colab_type": "text"
      },
      "cell_type": "markdown",
      "source": [
        "# Uncertainty analysis\n",
        "To project the uncertainty associated with the estimate of the total mass of leaves, we first calculate the uncertainty around our estimate of the total mass of leaves based on the leaf mass fraction in each biome:"
      ]
    },
    {
      "metadata": {
        "id": "s2s6EIsuKqCJ",
        "colab_type": "code",
        "colab": {},
        "outputId": "7bd32b4c-78b6-445a-99b8-60c37f35720d"
      },
      "cell_type": "code",
      "source": [
        "leaf_mass_per_biome = tot_biomass['Total biomass [Gt C]']*tot_biomass['Leaf fraction']\n",
        "mul_CIs = tot_biomass['95% CI']\n",
        "leaf_mass_frac_CI = CI_sum_prop(leaf_mass_per_biome,mul_CIs)\n",
        "dis_res('Our projection for the uncertainty associated with our estimate of the mass fraction of leaves is ≈%.0f-fold' %leaf_mass_frac_CI)"
      ],
      "execution_count": 0,
      "outputs": [
        {
          "output_type": "display_data",
          "data": {
            "text/markdown": "___\n##### **Result**: \n\nOur projection for the uncertainty associated with our estimate of the mass fraction of leaves is ≈2-fold\n___",
            "text/plain": [
              "<IPython.core.display.Markdown object>"
            ]
          },
          "metadata": {
            "tags": []
          }
        }
      ]
    },
    {
      "metadata": {
        "id": "ngmBJDKsKqCP",
        "colab_type": "text"
      },
      "cell_type": "markdown",
      "source": [
        "As for the total mass of plants, [Bar-On et al.](https://dx.doi.org/10.1073/pnas.1711842115) projected an uncertainty of ≈1.2-fold associated with the total mass of plants. We combine the uncertainty associated with our estimate of the leaf mass fraction with the uncertainty associated with the total mass of plants:"
      ]
    },
    {
      "metadata": {
        "id": "Q65gDb1RKqCS",
        "colab_type": "code",
        "colab": {},
        "outputId": "b6482d98-8a50-444c-dcdf-419d4d699903"
      },
      "cell_type": "code",
      "source": [
        "tot_leaf_mass_frac_CI = CI_prod_prop([leaf_mass_frac_CI,1.2])\n",
        "dis_res('Our projection for the uncertainty associated with our estimate of the total mass of leaves based on leaf mass fraction is ≈%.0f-fold' %tot_leaf_mass_frac_CI)"
      ],
      "execution_count": 0,
      "outputs": [
        {
          "output_type": "display_data",
          "data": {
            "text/markdown": "___\n##### **Result**: \n\nOur projection for the uncertainty associated with our estimate of the total mass of leaves based on leaf mass fraction is ≈2-fold\n___",
            "text/plain": [
              "<IPython.core.display.Markdown object>"
            ]
          },
          "metadata": {
            "tags": []
          }
        }
      ]
    },
    {
      "metadata": {
        "id": "Pqpt6b9XKqCa",
        "colab_type": "text"
      },
      "cell_type": "markdown",
      "source": [
        "In the notebook [**```remote_sensing_based_leaf_mass.ipynb```**](01_remote_sensing_based_leaf_mass.ipynb) we estimate that the uncertainty associated with the estimate of the total mass of leaves based on remote sensing is ≈2-fold. We can calculate the uncertainty based on the difference of the estimates based on the two different methodologies (leaf mass based and remote sensing based):\n"
      ]
    },
    {
      "metadata": {
        "id": "Q4JUL9V2KqCd",
        "colab_type": "code",
        "colab": {},
        "outputId": "8a5d6336-4c2a-4e38-af1b-07dd889a376d"
      },
      "cell_type": "code",
      "source": [
        "mul_CI([global_leaf_mass,20e15])"
      ],
      "execution_count": 0,
      "outputs": [
        {
          "output_type": "execute_result",
          "data": {
            "text/plain": [
              "1.8334987463289107"
            ]
          },
          "metadata": {
            "tags": []
          },
          "execution_count": 9
        }
      ]
    },
    {
      "metadata": {
        "id": "5wxJxyvwKqCv",
        "colab_type": "text"
      },
      "cell_type": "markdown",
      "source": [
        "Overall, we use the highest uncertainty out of the uncertainties reported for each estimate and the uncertainty based on the difference between the different methodologies, which is ≈2-fold."
      ]
    },
    {
      "metadata": {
        "id": "6CB6YeCWKqCw",
        "colab_type": "code",
        "colab": {},
        "outputId": "4e8530c2-31bb-451c-a21f-63a19e321af4"
      },
      "cell_type": "code",
      "source": [
        "true_mean = 1\n",
        "true_std = 10\n",
        "sample_size = 1000\n",
        "\n",
        "results = []\n",
        "for i in range(1000):\n",
        "    dist = np.random.lognormal(np.log(true_mean),true_std,sample_size)\n",
        "    log_dist = np.log(dist)\n",
        "    mul_CI = np.exp(log_dist.std()/np.sqrt(1000)*1.96)\n",
        "    gmean = np.exp(log_dist.mean())\n",
        "    results.append((true_mean > gmean/mul_CI) and (true_mean < gmean*mul_CI))\n",
        "\n",
        "results = np.stack(results)\n",
        "\n",
        "print(results.sum()/1000)"
      ],
      "execution_count": 0,
      "outputs": [
        {
          "output_type": "stream",
          "text": [
            "0.953\n"
          ],
          "name": "stdout"
        }
      ]
    },
    {
      "metadata": {
        "id": "GWtLNx0lKqC4",
        "colab_type": "code",
        "colab": {},
        "outputId": "eadb59cc-353f-443b-86a4-cc589664a5fd"
      },
      "cell_type": "code",
      "source": [
        "true_mean = 1\n",
        "true_std = 10\n",
        "sample_size = 1000\n",
        "\n",
        "results = []\n",
        "values = []\n",
        "for i in range(1000):\n",
        "    dist = np.random.lognormal(np.log(true_mean),true_std,sample_size)\n",
        "    log_dist = np.log(dist)\n",
        "    mul_CI = np.exp(log_dist.std()*1.96)\n",
        "    gmean = np.exp(np.random.choice(log_dist))\n",
        "    values.append(gmean)\n",
        "    results.append((true_mean > gmean/mul_CI) and (true_mean < gmean*mul_CI))\n",
        "\n",
        "results = np.stack(results)\n",
        "values = np.stack(values)\n",
        "print(results.sum()/1000)"
      ],
      "execution_count": 0,
      "outputs": [
        {
          "output_type": "stream",
          "text": [
            "0.945\n"
          ],
          "name": "stdout"
        }
      ]
    },
    {
      "metadata": {
        "id": "9HIIvAhsKqDA",
        "colab_type": "code",
        "colab": {},
        "outputId": "2a0ee936-a953-42f8-e215-9c12dd1fcab1"
      },
      "cell_type": "code",
      "source": [
        "plt.hist(values)"
      ],
      "execution_count": 0,
      "outputs": [
        {
          "output_type": "execute_result",
          "data": {
            "text/plain": [
              "(array([ 999.,    0.,    0.,    0.,    0.,    0.,    0.,    0.,    0.,    1.]),\n",
              " array([  6.04718851e-15,   1.97883927e+16,   3.95767855e+16,\n",
              "          5.93651782e+16,   7.91535709e+16,   9.89419637e+16,\n",
              "          1.18730356e+17,   1.38518749e+17,   1.58307142e+17,\n",
              "          1.78095535e+17,   1.97883927e+17]),\n",
              " <a list of 10 Patch objects>)"
            ]
          },
          "metadata": {
            "tags": []
          },
          "execution_count": 12
        },
        {
          "output_type": "display_data",
          "data": {
            "image/png": "[encoded data removed]",
            "text/plain": [
              "<Figure size 432x288 with 1 Axes>"
            ]
          },
          "metadata": {
            "tags": []
          }
        }
      ]
    }
  ]
}