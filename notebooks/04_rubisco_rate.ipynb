{
 "cells": [
  {
   "cell_type": "code",
   "execution_count": 3,
   "metadata": {},
   "outputs": [],
   "source": [
    "# Import dependencies\n",
    "import pandas as pd\n",
    "import numpy as np\n",
    "%matplotlib inline\n",
    "import matplotlib.pyplot as plt\n",
    "from IPython.display import Markdown, display\n",
    "from stats_helper import *\n",
    "def dis_res(x):\n",
    "    display(Markdown('___\\n##### **Result**: \\n\\n' + x + '\\n___'))"
   ]
  },
  {
   "cell_type": "markdown",
   "metadata": {},
   "source": [
    "# Estimating the average rate of rubisco in the wild\n",
    "After estimating the total mass of rubisco in the notebook [**```03_rubisco_mass_estimate.ipynb```**](03_rubisco_mass_estimate.ipynb), we can use this estimate in order to estimate the average rate of rubisco in the wild, both in the terrestrial and marine environments. We use estimate of the global terrestrial annual rate of carbon fixation, the Gross Primary Productivity (GPP), and convert it to a rate in units of moles of carbon fixed per second. For the terrestrial environment, we our estimate of the global terrestrial GPP is based on [Beer et al.](http://dx.doi.org/10.1126/science.1184984), which estimated it at ≈120 Gt C yr$^{-1}$. We note that the exact value of the global GPP is still debated, it is estimated to be accurate to better than 2 fold (Welp et al. 2011), which for the purposes of our analysis is accurate enough."
   ]
  },
  {
   "cell_type": "code",
   "execution_count": 4,
   "metadata": {},
   "outputs": [],
   "source": [
    "# The GPP estimate in Beer et al.\n",
    "gpp_estimate = 1.2e17 #g C yr^-1\n",
    "sec_in_year = 3600*24*365 #s\n",
    "NA = 6.022e23\n",
    "\n",
    "# Convert GPP to units of moles C per second\n",
    "tot_reactions = (gpp_estimate/sec_in_year/12)"
   ]
  },
  {
   "cell_type": "markdown",
   "metadata": {},
   "source": [
    "We then convert our estimate of the total mass of rubisco into moles of rubisco active sites, and divide the GPP by this number to get the average rate of rubisco in units of reactions per second. To convert the total mass of rubisco into moles, we use a characteristic molecular weight of rubisco per active site of ≈70 kDa (including both the large and small subunits of type 1 rubiscos)."
   ]
  },
  {
   "cell_type": "code",
   "execution_count": 5,
   "metadata": {},
   "outputs": [
    {
     "data": {
      "text/markdown": [
       "___\n",
       "##### **Result**: \n",
       "\n",
       "We estimate the average rate of Rubisco in the terrestrial environment at 0.03 s$^{-1}$\n",
       "___"
      ],
      "text/plain": [
       "<IPython.core.display.Markdown object>"
      ]
     },
     "metadata": {},
     "output_type": "display_data"
    }
   ],
   "source": [
    "# Our estimate for the total mass of rubisco\n",
    "tot_rub_mass = .7e15 #g\n",
    "\n",
    "# The molecular weight of a rubisco per active site\n",
    "rub_mol_w = 7e4 # g/mol\n",
    "\n",
    "# Convert the total mass of rubisco into moles\n",
    "tot_rub_mol = (tot_rub_mass/rub_mol_w)\n",
    "\n",
    "# Calculate the average rate of rubisco\n",
    "av_rate = tot_reactions/tot_rub_mol # s^-1\n",
    "dis_res('We estimate the average rate of Rubisco in the terrestrial environment at %.2f s$^{-1}$' %av_rate)"
   ]
  },
  {
   "cell_type": "markdown",
   "metadata": {},
   "source": [
    "We perform the same kind of procedure to calculate the rate of Rubisco in the marine environment. Our estimate for the global marine GPP is based on estimates of the total marine NPP of ≈50 Gt C yr$^{-1}$ from [Field et al.](http://science.sciencemag.org/content/281/5374/237.short), and an estimate that marine GPP is ≈45% larger than NPP based on [del Giorgio & Duarte](http://dx.doi.org/10.1038/nature01165)"
   ]
  },
  {
   "cell_type": "code",
   "execution_count": 6,
   "metadata": {},
   "outputs": [],
   "source": [
    "marine_gpp = 50e15*2\n",
    "\n",
    "# Convert GPP to units of moles C per second\n",
    "marine_tot_reactions = (marine_gpp/sec_in_year/12)"
   ]
  },
  {
   "cell_type": "markdown",
   "metadata": {},
   "source": [
    "In the notebook [**```03_rubisco_mass_estimate.ipynb```**](03_rubisco_mass_estimate.ipynb) we estimated that marine Rubisco enzymes weight ≈0.03 Gt in total. We convert our estimate of the total mass of into moles of rubisco active sites, and divide the GPP by this number to get the average rate of rubisco in units of reactions per second. To convert the total mass of rubisco into moles, we use a characteristic molecular weight of rubisco per active site of ≈70 kDa (including both the large and small subunits of type 1 rubiscos)."
   ]
  },
  {
   "cell_type": "code",
   "execution_count": 7,
   "metadata": {},
   "outputs": [
    {
     "data": {
      "text/markdown": [
       "___\n",
       "##### **Result**: \n",
       "\n",
       "We estimate the average rate of Rubisco in the marine environment at 0.6 s$^{-1}$\n",
       "___"
      ],
      "text/plain": [
       "<IPython.core.display.Markdown object>"
      ]
     },
     "metadata": {},
     "output_type": "display_data"
    }
   ],
   "source": [
    "tot_marine_rub_mass = 0.03e15\n",
    "\n",
    "tot_marine_rub_mol = (tot_marine_rub_mass/rub_mol_w)\n",
    "\n",
    "# Calculate the average rate of rubisco\n",
    "av_marine_rate = marine_tot_reactions/tot_marine_rub_mol # s^-1\n",
    "dis_res('We estimate the average rate of Rubisco in the marine environment at %.1f s$^{-1}$' %av_marine_rate)"
   ]
  },
  {
   "cell_type": "markdown",
   "metadata": {},
   "source": [
    "# Uncertainty analysis\n",
    "We project the uncertainty associated with our estimates of the time average rates for terrestrial and marine Rubisco.\n",
    "\n",
    "#### Terrestrial Rubisco\n",
    "Our projected uncertainty for our estimate of the total mass of terrestrial Rubisco is about 3-fold. As for the global GPP, estimates range between 120-175 Gt C yr$^{-1}$ ([Beer et al.](http://dx.doi.org/10.1126/science.1184984) and [Welp et al.](https://doi.org/10.1038/nature10421)). We use this range to project the uncertainty associated with the estimate of the global GPP, and then combine it with the uncertainty associated with the mass of terrestrial Rubisco to generate our projection for the unecrtainty associated with the time average rate of terrestrial Rubisco:"
   ]
  },
  {
   "cell_type": "code",
   "execution_count": 6,
   "metadata": {},
   "outputs": [
    {
     "data": {
      "text/markdown": [
       "___\n",
       "##### **Result**: \n",
       "\n",
       "We project the uncertainty associated with our estimate of the average rate of Rubisco in the terrestrial environment at 3.5-fold\n",
       "___"
      ],
      "text/plain": [
       "<IPython.core.display.Markdown object>"
      ]
     },
     "metadata": {},
     "output_type": "display_data"
    }
   ],
   "source": [
    "terr_gpp_CI = mul_CI([120,175])\n",
    "terr_av_rate_CI = CI_prod_prop([3.4,terr_gpp_CI])\n",
    "dis_res('We project the uncertainty associated with our estimate of the average rate of Rubisco in the terrestrial environment at %.1f-fold' %terr_av_rate_CI)"
   ]
  },
  {
   "cell_type": "markdown",
   "metadata": {},
   "source": [
    "#### Marine Rubisco\n",
    "Our projected uncertainty for our estimate of the total mass of marine Rubisco is about 6-fold. As for the global marine GPP, we do not have a good source for estimating the uncertainty associated with it. We use 2-fold uncertianty as our estimate for the uncertainty associated with the estimate of the global marine GPP. We combine the uncertainties associated with our estimate of the total mass of marine Rubisco and the global marine GPP to generate our projection for the uncertainty associated with our estimate of the average rate of marine Rubisco:"
   ]
  },
  {
   "cell_type": "code",
   "execution_count": 7,
   "metadata": {},
   "outputs": [
    {
     "data": {
      "text/markdown": [
       "___\n",
       "##### **Result**: \n",
       "\n",
       "We project the uncertainty associated with our estimate of the average rate of Rubisco in the marine environment at 6.7-fold\n",
       "___"
      ],
      "text/plain": [
       "<IPython.core.display.Markdown object>"
      ]
     },
     "metadata": {},
     "output_type": "display_data"
    }
   ],
   "source": [
    "\n",
    "mar_av_rate_CI = CI_prod_prop([5.9,2])\n",
    "dis_res('We project the uncertainty associated with our estimate of the average rate of Rubisco in the marine environment at %.1f-fold' %mar_av_rate_CI)"
   ]
  }
 ],
 "metadata": {
  "kernelspec": {
   "display_name": "Python 3",
   "language": "python",
   "name": "python3"
  },
  "language_info": {
   "codemirror_mode": {
    "name": "ipython",
    "version": 3
   },
   "file_extension": ".py",
   "mimetype": "text/x-python",
   "name": "python",
   "nbconvert_exporter": "python",
   "pygments_lexer": "ipython3",
   "version": "3.6.7"
  }
 },
 "nbformat": 4,
 "nbformat_minor": 2
}
