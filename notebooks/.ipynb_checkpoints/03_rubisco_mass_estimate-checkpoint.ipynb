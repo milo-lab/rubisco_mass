{
 "cells": [
  {
   "cell_type": "code",
   "execution_count": 20,
   "metadata": {},
   "outputs": [],
   "source": [
    "# Import dependencies\n",
    "import pandas as pd\n",
    "import numpy as np\n",
    "%matplotlib inline\n",
    "import matplotlib.pyplot as plt\n",
    "from IPython.display import Markdown, display\n",
    "from stats_helper import *\n",
    "def dis_res(x):\n",
    "    display(Markdown('___\\n##### **Result**: \\n\\n' + x + '\\n___'))"
   ]
  },
  {
   "cell_type": "markdown",
   "metadata": {},
   "source": [
    "# Estimating the global mass of Rubisco\n",
    "In the notebook  [**```leaf_mass_estimate.ipynb```**](leaf_mass_estimate.ipynb), we estimated the total mass of leaves at ≈10 Gt dry weight. In this notebook we estimate the total mass of Rubisco based on the total mass of leaves and the fraction of Rubisco out of the total mass of leaves.\n",
    "We rely on a recent meta-anaylsis by [Onoda et al.](http://dx.doi.org/10.1111/nph.14496), which measured the leaf nitrogen content per leaf mass (Nmass) as well as the fraction of leaf nitrogen found in Rubisco (Nrub/N), for about a hundred different plant species.\n",
    "Here is a sample of the data:"
   ]
  },
  {
   "cell_type": "code",
   "execution_count": 2,
   "metadata": {},
   "outputs": [
    {
     "data": {
      "text/html": [
       "<div>\n",
       "<style scoped>\n",
       "    .dataframe tbody tr th:only-of-type {\n",
       "        vertical-align: middle;\n",
       "    }\n",
       "\n",
       "    .dataframe tbody tr th {\n",
       "        vertical-align: top;\n",
       "    }\n",
       "\n",
       "    .dataframe thead th {\n",
       "        text-align: right;\n",
       "    }\n",
       "</style>\n",
       "<table border=\"1\" class=\"dataframe\">\n",
       "  <thead>\n",
       "    <tr style=\"text-align: right;\">\n",
       "      <th></th>\n",
       "      <th>no</th>\n",
       "      <th>Dataset</th>\n",
       "      <th>Species</th>\n",
       "      <th>Family</th>\n",
       "      <th>Growth condition</th>\n",
       "      <th>Pot/Field</th>\n",
       "      <th>Location/treatment</th>\n",
       "      <th>GF</th>\n",
       "      <th>EveDec</th>\n",
       "      <th>Aarea</th>\n",
       "      <th>...</th>\n",
       "      <th>Rubisco_area</th>\n",
       "      <th>Nrub/N</th>\n",
       "      <th>CWarea</th>\n",
       "      <th>CWmass</th>\n",
       "      <th>Nconc_in_CW</th>\n",
       "      <th>Ncw_area</th>\n",
       "      <th>Ncw/N</th>\n",
       "      <th>CW extraction</th>\n",
       "      <th>CW-N method</th>\n",
       "      <th>Ref</th>\n",
       "    </tr>\n",
       "  </thead>\n",
       "  <tbody>\n",
       "    <tr>\n",
       "      <th>0</th>\n",
       "      <td>1</td>\n",
       "      <td>Feng et al. (2009)</td>\n",
       "      <td>Ageratina adenophora</td>\n",
       "      <td>Asteraceae</td>\n",
       "      <td>Outdoor</td>\n",
       "      <td>Field</td>\n",
       "      <td>Mexico</td>\n",
       "      <td>H</td>\n",
       "      <td>D</td>\n",
       "      <td>12.72</td>\n",
       "      <td>...</td>\n",
       "      <td>NaN</td>\n",
       "      <td>NaN</td>\n",
       "      <td>NaN</td>\n",
       "      <td>NaN</td>\n",
       "      <td>NaN</td>\n",
       "      <td>0.110</td>\n",
       "      <td>0.093</td>\n",
       "      <td>SDS</td>\n",
       "      <td>Ninhidrin?</td>\n",
       "      <td>Feng, Y.L., Lei, Y.B., Wang, R.F., Callaway, R...</td>\n",
       "    </tr>\n",
       "    <tr>\n",
       "      <th>1</th>\n",
       "      <td>2</td>\n",
       "      <td>Feng et al. (2009)</td>\n",
       "      <td>Ageratina adenophora</td>\n",
       "      <td>Asteraceae</td>\n",
       "      <td>Outdoor</td>\n",
       "      <td>Field</td>\n",
       "      <td>China</td>\n",
       "      <td>H</td>\n",
       "      <td>D</td>\n",
       "      <td>14.91</td>\n",
       "      <td>...</td>\n",
       "      <td>NaN</td>\n",
       "      <td>NaN</td>\n",
       "      <td>NaN</td>\n",
       "      <td>NaN</td>\n",
       "      <td>NaN</td>\n",
       "      <td>0.037</td>\n",
       "      <td>0.035</td>\n",
       "      <td>SDS</td>\n",
       "      <td>Ninhidrin?</td>\n",
       "      <td>Feng, Y.L., Lei, Y.B., Wang, R.F., Callaway, R...</td>\n",
       "    </tr>\n",
       "    <tr>\n",
       "      <th>2</th>\n",
       "      <td>3</td>\n",
       "      <td>Feng et al. (2009)</td>\n",
       "      <td>Ageratina adenophora</td>\n",
       "      <td>Asteraceae</td>\n",
       "      <td>Outdoor</td>\n",
       "      <td>Field</td>\n",
       "      <td>India</td>\n",
       "      <td>H</td>\n",
       "      <td>D</td>\n",
       "      <td>16.63</td>\n",
       "      <td>...</td>\n",
       "      <td>NaN</td>\n",
       "      <td>NaN</td>\n",
       "      <td>NaN</td>\n",
       "      <td>NaN</td>\n",
       "      <td>NaN</td>\n",
       "      <td>0.086</td>\n",
       "      <td>0.064</td>\n",
       "      <td>SDS</td>\n",
       "      <td>Ninhidrin?</td>\n",
       "      <td>Feng, Y.L., Lei, Y.B., Wang, R.F., Callaway, R...</td>\n",
       "    </tr>\n",
       "    <tr>\n",
       "      <th>3</th>\n",
       "      <td>4</td>\n",
       "      <td>Funk et al (2013)</td>\n",
       "      <td>Acacia koa</td>\n",
       "      <td>Fabaceae</td>\n",
       "      <td>Outdoor</td>\n",
       "      <td>Field</td>\n",
       "      <td>Hawaii (native)</td>\n",
       "      <td>W</td>\n",
       "      <td>E</td>\n",
       "      <td>14.30</td>\n",
       "      <td>...</td>\n",
       "      <td>NaN</td>\n",
       "      <td>NaN</td>\n",
       "      <td>NaN</td>\n",
       "      <td>NaN</td>\n",
       "      <td>NaN</td>\n",
       "      <td>0.086</td>\n",
       "      <td>0.036</td>\n",
       "      <td>SDS</td>\n",
       "      <td>Ninhidrin</td>\n",
       "      <td>Funk, J.L., Glenwinkel, L.A. &amp; Sack, L. (2013)...</td>\n",
       "    </tr>\n",
       "    <tr>\n",
       "      <th>4</th>\n",
       "      <td>5</td>\n",
       "      <td>Funk et al (2013)</td>\n",
       "      <td>Dodonaea viscosa</td>\n",
       "      <td>Sapindaceae</td>\n",
       "      <td>Outdoor</td>\n",
       "      <td>Field</td>\n",
       "      <td>Hawaii (native)</td>\n",
       "      <td>W</td>\n",
       "      <td>E</td>\n",
       "      <td>10.90</td>\n",
       "      <td>...</td>\n",
       "      <td>NaN</td>\n",
       "      <td>NaN</td>\n",
       "      <td>NaN</td>\n",
       "      <td>NaN</td>\n",
       "      <td>NaN</td>\n",
       "      <td>0.232</td>\n",
       "      <td>0.100</td>\n",
       "      <td>SDS</td>\n",
       "      <td>Ninhidrin</td>\n",
       "      <td>Funk, J.L., Glenwinkel, L.A. &amp; Sack, L. (2013)...</td>\n",
       "    </tr>\n",
       "  </tbody>\n",
       "</table>\n",
       "<p>5 rows × 31 columns</p>\n",
       "</div>"
      ],
      "text/plain": [
       "   no             Dataset               Species       Family Growth condition  \\\n",
       "0   1  Feng et al. (2009)  Ageratina adenophora   Asteraceae          Outdoor   \n",
       "1   2  Feng et al. (2009)  Ageratina adenophora   Asteraceae          Outdoor   \n",
       "2   3  Feng et al. (2009)  Ageratina adenophora   Asteraceae          Outdoor   \n",
       "3   4   Funk et al (2013)            Acacia koa     Fabaceae          Outdoor   \n",
       "4   5   Funk et al (2013)      Dodonaea viscosa  Sapindaceae          Outdoor   \n",
       "\n",
       "  Pot/Field Location/treatment GF EveDec  Aarea  \\\n",
       "0     Field             Mexico  H      D  12.72   \n",
       "1     Field              China  H      D  14.91   \n",
       "2     Field              India  H      D  16.63   \n",
       "3     Field    Hawaii (native)  W      E  14.30   \n",
       "4     Field    Hawaii (native)  W      E  10.90   \n",
       "\n",
       "                         ...                          Rubisco_area  Nrub/N  \\\n",
       "0                        ...                                   NaN     NaN   \n",
       "1                        ...                                   NaN     NaN   \n",
       "2                        ...                                   NaN     NaN   \n",
       "3                        ...                                   NaN     NaN   \n",
       "4                        ...                                   NaN     NaN   \n",
       "\n",
       "   CWarea  CWmass  Nconc_in_CW  Ncw_area  Ncw/N  CW extraction  CW-N method  \\\n",
       "0     NaN     NaN          NaN     0.110  0.093            SDS   Ninhidrin?   \n",
       "1     NaN     NaN          NaN     0.037  0.035            SDS   Ninhidrin?   \n",
       "2     NaN     NaN          NaN     0.086  0.064            SDS   Ninhidrin?   \n",
       "3     NaN     NaN          NaN     0.086  0.036            SDS    Ninhidrin   \n",
       "4     NaN     NaN          NaN     0.232  0.100            SDS    Ninhidrin   \n",
       "\n",
       "                                                 Ref  \n",
       "0  Feng, Y.L., Lei, Y.B., Wang, R.F., Callaway, R...  \n",
       "1  Feng, Y.L., Lei, Y.B., Wang, R.F., Callaway, R...  \n",
       "2  Feng, Y.L., Lei, Y.B., Wang, R.F., Callaway, R...  \n",
       "3  Funk, J.L., Glenwinkel, L.A. & Sack, L. (2013)...  \n",
       "4  Funk, J.L., Glenwinkel, L.A. & Sack, L. (2013)...  \n",
       "\n",
       "[5 rows x 31 columns]"
      ]
     },
     "execution_count": 2,
     "metadata": {},
     "output_type": "execute_result"
    }
   ],
   "source": [
    "onoda = pd.read_excel('../data/literature_data.xlsx','Onoda')\n",
    "onoda.head()"
   ]
  },
  {
   "cell_type": "markdown",
   "metadata": {},
   "source": [
    "The dataset contains information of species from three different growth forms: woody, herbaceous plants and grasses. For each one of these groups, we calculate mass fraction of rubisco out of the total leaf mass by multiplying the nitrogen content per leaf mass by the fraction of leaf nitrogen in Rubisco. This gives us the total amount of rubisco nitrogen per leaf mass. To convert this result into the mass fraction of rubisco per leaf mass, we use the fact that nitrogen accounts for about a sixth of the mass of rubisco. We plot below the distribution of the mass fraction of rubisco per leaf mass for each growth form:"
   ]
  },
  {
   "cell_type": "code",
   "execution_count": 10,
   "metadata": {},
   "outputs": [
    {
     "data": {
      "image/png": "[encoded data removed]",
      "text/plain": [
       "<Figure size 800x800 with 1 Axes>"
      ]
     },
     "metadata": {},
     "output_type": "display_data"
    }
   ],
   "source": [
    "# Drop data with no Nrub/N and Nmass data\n",
    "filt_onoda = onoda.loc[onoda[['Nrub/N','Nmass']].dropna().index]\n",
    "\n",
    "# Calculate the mass fraction of rubisco per leaf mass\n",
    "filt_onoda['Rub_frac'] = filt_onoda['Nmass']/100*filt_onoda['Nrub/N']*6\n",
    "\n",
    "# Convert mass fraction to log scale for plotting histograms\n",
    "filt_onoda['log_rub_frac'] = np.log10(filt_onoda['Rub_frac'])\n",
    "\n",
    "\n",
    "# Plot the distributions of the mass fraction of rubisco out of the total leaf mass for each growth form\n",
    "plt.figure(figsize=(4,4),dpi=200)\n",
    "h = filt_onoda.loc[filt_onoda['GF']=='W','log_rub_frac'].hist(label='Woody',bins=np.log10([1e-100,0.0025,0.005,0.01,0.02,0.04,0.08,0.16,1e100]),color='#234d20')\n",
    "filt_onoda.loc[filt_onoda['GF']!='W','log_rub_frac'].hist(label='Herbaceous',bins=np.log10([1e-100,0.0025,0.005,0.01,0.02,0.04,0.08,0.16,1e100]),color='#c9df8a')\n",
    "#filt_onoda.loc[filt_onoda['GF']=='H','log_rub_frac'].hist(label='Grasses',bins=np.log10([1e-100,0.0025,0.005,0.01,0.02,0.04,0.08,0.16,1e100]),color='#c9df8a')\n",
    "plt.legend(fontsize=8,bbox_to_anchor=(0.638,1))\n",
    "plt.xlabel('% mass of rubisco out of leaf mass')\n",
    "plt.vlines(filt_onoda.loc[filt_onoda['GF']=='W','log_rub_frac'].mean(),ymin=0,ymax=25,linestyles='dashed',colors='k')\n",
    "plt.ylabel('Number of species')\n",
    "plt.ylim([0,25])\n",
    "plt.xlim(np.log10([0.002,0.2]))\n",
    "\n",
    "ax = plt.gca()\n",
    "\n",
    "ticks = [0.25,0.5,1,2,4,8,16]\n",
    "ax.set_xticks(np.log10([0.0025,0.005,0.01,0.02,0.04,0.08,0.16]))\n",
    "ax.set_xticklabels(ticks)\n",
    "plt.savefig('../figures/figure1_20180920.png',dpi=600)"
   ]
  },
  {
   "cell_type": "markdown",
   "metadata": {},
   "source": [
    "In the red line in the figure above represents the mean mass fraction of rubisco in woddy plants, which we use as representative for calculating the total mass of rubisco. We now use this mean fraction to estimate the total mass of rubisco:"
   ]
  },
  {
   "cell_type": "code",
   "execution_count": 11,
   "metadata": {},
   "outputs": [
    {
     "data": {
      "text/markdown": [
       "___\n",
       "##### **Result**: \n",
       "\n",
       "Our best estimate for the total mass of rubisco is ≈0.4 Gt\n",
       "___"
      ],
      "text/plain": [
       "<IPython.core.display.Markdown object>"
      ]
     },
     "metadata": {},
     "output_type": "display_data"
    }
   ],
   "source": [
    "# Calculate the meas fraction of rubisco out of leaf mass in woody plants\n",
    "rub_frac_mean = 10**(filt_onoda.loc[filt_onoda['GF']=='W','log_rub_frac'].mean())\n",
    "\n",
    "# Our best estimate for the total leaf mass is ≈28 Gt\n",
    "best_leaf_mass = 28e15\n",
    "\n",
    "# Calculate the total mass of rubisco\n",
    "tot_rub_mass = rub_frac_mean*best_leaf_mass\n",
    "\n",
    "dis_res('Our best estimate for the total mass of rubisco is ≈%.1f Gt' %(tot_rub_mass/1e15))"
   ]
  },
  {
   "cell_type": "markdown",
   "metadata": {},
   "source": [
    "## Estimating the total mass of marine rubisco\n",
    "To estimate the total mass of Rubisco proteins in the marine environment, we rely on the estimate made in [Bar-On et al.](https://dx.doi.org/10.1073/pnas.1711842115) for the total mass of marine producers. Bar-On et al. estimate the total mass of marine producers at ≈1 Gt C. We assume carbon accounts for ≈50% of the dry weight of marine producers, and that proteins also account for ≈50% of the dry weight of marine producers, so we estimate the total mass of proteins in marine producers at ≈1 Gt. To estimate the mass of Rubisco out of the total mass of proteins in marine producers, we use data from several different sources on the fraction of Rubisco out of the total proteome of several different marine producer species. Here is a sample of the data:"
   ]
  },
  {
   "cell_type": "code",
   "execution_count": 18,
   "metadata": {},
   "outputs": [
    {
     "data": {
      "text/html": [
       "<div>\n",
       "<style scoped>\n",
       "    .dataframe tbody tr th:only-of-type {\n",
       "        vertical-align: middle;\n",
       "    }\n",
       "\n",
       "    .dataframe tbody tr th {\n",
       "        vertical-align: top;\n",
       "    }\n",
       "\n",
       "    .dataframe thead th {\n",
       "        text-align: right;\n",
       "    }\n",
       "</style>\n",
       "<table border=\"1\" class=\"dataframe\">\n",
       "  <thead>\n",
       "    <tr style=\"text-align: right;\">\n",
       "      <th></th>\n",
       "      <th>Species</th>\n",
       "      <th>Exponential</th>\n",
       "      <th>Stationary</th>\n",
       "      <th>Mean fraction of rubisco out of the proteome (%)</th>\n",
       "      <th>Reference</th>\n",
       "      <th>Remarks</th>\n",
       "    </tr>\n",
       "  </thead>\n",
       "  <tbody>\n",
       "    <tr>\n",
       "      <th>0</th>\n",
       "      <td>Thalassiosira weissflogii</td>\n",
       "      <td>2.5</td>\n",
       "      <td>1.2</td>\n",
       "      <td>1.85</td>\n",
       "      <td>https://doi.org/10.1111/nph.12143</td>\n",
       "      <td>Table 1</td>\n",
       "    </tr>\n",
       "    <tr>\n",
       "      <th>1</th>\n",
       "      <td>Thalassiosira oceanica</td>\n",
       "      <td>2.0</td>\n",
       "      <td>0.6</td>\n",
       "      <td>1.30</td>\n",
       "      <td>https://doi.org/10.1111/nph.12143</td>\n",
       "      <td>Table 1</td>\n",
       "    </tr>\n",
       "    <tr>\n",
       "      <th>2</th>\n",
       "      <td>Skeletonema costatum</td>\n",
       "      <td>1.4</td>\n",
       "      <td>0.8</td>\n",
       "      <td>1.10</td>\n",
       "      <td>https://doi.org/10.1111/nph.12143</td>\n",
       "      <td>Table 1</td>\n",
       "    </tr>\n",
       "    <tr>\n",
       "      <th>3</th>\n",
       "      <td>Chaetocerosmuelleri</td>\n",
       "      <td>3.7</td>\n",
       "      <td>0.5</td>\n",
       "      <td>2.10</td>\n",
       "      <td>https://doi.org/10.1111/nph.12143</td>\n",
       "      <td>Table 1</td>\n",
       "    </tr>\n",
       "    <tr>\n",
       "      <th>4</th>\n",
       "      <td>Phaeodactylum tricornutum</td>\n",
       "      <td>3.2</td>\n",
       "      <td>1.6</td>\n",
       "      <td>2.40</td>\n",
       "      <td>https://doi.org/10.1111/nph.12143</td>\n",
       "      <td>Table 1</td>\n",
       "    </tr>\n",
       "  </tbody>\n",
       "</table>\n",
       "</div>"
      ],
      "text/plain": [
       "                      Species  Exponential  Stationary  \\\n",
       "0   Thalassiosira weissflogii          2.5         1.2   \n",
       "1      Thalassiosira oceanica          2.0         0.6   \n",
       "2        Skeletonema costatum          1.4         0.8   \n",
       "3        Chaetocerosmuelleri           3.7         0.5   \n",
       "4  Phaeodactylum tricornutum           3.2         1.6   \n",
       "\n",
       "   Mean fraction of rubisco out of the proteome (%)  \\\n",
       "0                                              1.85   \n",
       "1                                              1.30   \n",
       "2                                              1.10   \n",
       "3                                              2.10   \n",
       "4                                              2.40   \n",
       "\n",
       "                           Reference  Remarks  \n",
       "0  https://doi.org/10.1111/nph.12143  Table 1  \n",
       "1  https://doi.org/10.1111/nph.12143  Table 1  \n",
       "2  https://doi.org/10.1111/nph.12143  Table 1  \n",
       "3  https://doi.org/10.1111/nph.12143  Table 1  \n",
       "4  https://doi.org/10.1111/nph.12143  Table 1  "
      ]
     },
     "execution_count": 18,
     "metadata": {},
     "output_type": "execute_result"
    }
   ],
   "source": [
    "marine_proteome_mass = 1e15 #Our estimate for the total mass of proteins in marine producers is 1 Gt\n",
    "\n",
    "marine_rubisco_frac = pd.read_excel('../data/literature_data.xlsx','marine_rubisco_content')\n",
    "marine_rubisco_frac.head()"
   ]
  },
  {
   "cell_type": "markdown",
   "metadata": {},
   "source": [
    "We calculate the mean fraction of Rubisco for each species, and them use the median fraction between species as our best estimate for the characteristic fraction of Rubisco out of the proteome of marine producers:"
   ]
  },
  {
   "cell_type": "code",
   "execution_count": 17,
   "metadata": {},
   "outputs": [
    {
     "data": {
      "text/markdown": [
       "___\n",
       "##### **Result**: \n",
       "\n",
       "Our best estimate for the fraction of Rubisco out of the proteome of marine producers is 3%\n",
       "___"
      ],
      "text/plain": [
       "<IPython.core.display.Markdown object>"
      ]
     },
     "metadata": {},
     "output_type": "display_data"
    }
   ],
   "source": [
    "best_marine_rubisco_frac = marine_rubisco_frac.groupby('Species').mean()['Mean fraction of rubisco out of the proteome (%)'].median()\n",
    "dis_res('Our best estimate for the fraction of Rubisco out of the proteome of marine producers is %.0f' %best_marine_rubisco_frac + '%')"
   ]
  },
  {
   "cell_type": "markdown",
   "metadata": {},
   "source": [
    "We multiply the total mass of proteins in marine producers by the characteristic fraction of Rubisco out of the total mass of proteins to estimate the total mass of marine Rubisco"
   ]
  },
  {
   "cell_type": "code",
   "execution_count": 21,
   "metadata": {},
   "outputs": [
    {
     "data": {
      "text/markdown": [
       "___\n",
       "##### **Result**: \n",
       "\n",
       "Our best estimate for the total mass of marine Rubisco proteins is ≈0.03 Gt\n",
       "___"
      ],
      "text/plain": [
       "<IPython.core.display.Markdown object>"
      ]
     },
     "metadata": {},
     "output_type": "display_data"
    }
   ],
   "source": [
    "tot_marine_rub_mass = marine_proteome_mass*best_marine_rubisco_frac/100\n",
    "dis_res('Our best estimate for the total mass of marine Rubisco proteins is ≈%.2f Gt' %(tot_marine_rub_mass/1e15))"
   ]
  },
  {
   "cell_type": "markdown",
   "metadata": {},
   "source": [
    "# Uncertainty analysis\n",
    "First, we project the uncertainty associated with our estimate of the total mass fraction of Rubisco out of the total leaf dry mass. Then we combine this uncertainty with our uncertainty associated with our estimate of the total mass of leaves to arrive at our best estimate of the total mass of Uncertainty asso"
   ]
  },
  {
   "cell_type": "code",
   "execution_count": 19,
   "metadata": {},
   "outputs": [
    {
     "data": {
      "text/plain": [
       "2.5255500947850171"
      ]
     },
     "execution_count": 19,
     "metadata": {},
     "output_type": "execute_result"
    }
   ],
   "source": [
    "rub_frac_CI = mul_CI(10**filt_onoda['log_rub_frac'])"
   ]
  }
 ],
 "metadata": {
  "kernelspec": {
   "display_name": "Python 3",
   "language": "python",
   "name": "python3"
  },
  "language_info": {
   "codemirror_mode": {
    "name": "ipython",
    "version": 3
   },
   "file_extension": ".py",
   "mimetype": "text/x-python",
   "name": "python",
   "nbconvert_exporter": "python",
   "pygments_lexer": "ipython3",
   "version": "3.6.5"
  }
 },
 "nbformat": 4,
 "nbformat_minor": 2
}
