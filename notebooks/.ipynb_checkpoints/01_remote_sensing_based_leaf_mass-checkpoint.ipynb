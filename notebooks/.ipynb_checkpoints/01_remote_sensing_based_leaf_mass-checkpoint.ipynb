{
 "cells": [
  {
   "cell_type": "code",
   "execution_count": 36,
   "metadata": {},
   "outputs": [],
   "source": [
    "# Import dependencies\n",
    "library(rgdal)\n",
    "library(raster)\n",
    "library(gdalUtils)\n",
    "library(\"readxl\")\n",
    "library(viridis)\n",
    "library(plyr)\n",
    "library(sp)\n",
    "library(ggplot2)\n",
    "\n",
    "# Define function to adjust two rasters\n",
    "adj_raster = function(x,y,crop_extent=NULL){\n",
    "    # Decide which raster has lower resolution\n",
    "    if(res(x)[1] < res(y)[1]){\n",
    "        low_res = y\n",
    "        high_res = x\n",
    "    } else {\n",
    "        low_res = x\n",
    "        high_res = y\n",
    "    }\n",
    "    if(is.null(crop_extent)){       \n",
    "        # Calculate the shared extent between the rasters\n",
    "        crop_ext = intersect(extent(low_res),extent(high_res))\n",
    "        # Crop both rasters to the shared extent\n",
    "        crop_low_res = crop(low_res,crop_ext)\n",
    "        crop_high_res = crop(high_res,crop_ext)\n",
    "    } else {\n",
    "        crop_low_res = crop(low_res,crop_extent)\n",
    "        crop_high_res = crop(high_res,crop_extent)\n",
    "    }\n",
    "    # Create a new raster to resample the high resolution raster into\n",
    "    resample_high_res = raster(nrow=nrow(crop_high_res)*(res(crop_high_res)/res(crop_low_res))[1],\n",
    "                                    ncol=ncol(crop_high_res)*(res(crop_high_res)/res(crop_low_res))[1],\n",
    "                                   xmn=extent(crop_high_res)[1],\n",
    "                                   xmx=extent(crop_high_res)[2],\n",
    "                                   ymn=extent(crop_high_res)[3],\n",
    "                                   ymx=extent(crop_high_res)[4])\n",
    "    # Resample the high resolution raster\n",
    "    resample_high_res = resample(crop_high_res,resample_high_res)\n",
    "    \n",
    "    # Return results in the correct order\n",
    "    if(res(x)[1] < res(y)[1]){\n",
    "        return(list(resample_high_res,crop_low_res))\n",
    "    } else {\n",
    "        return(list(crop_low_res,resample_high_res))\n",
    "    }\n",
    "\n",
    "}\n",
    "\n",
    "# Define a function that calculates the geometric mean\n",
    "gmean = function(x,y){\n",
    "    return(exp(mean(log(c(x,y)))))\n",
    "}\n",
    "\n",
    "# Define a function to calculate the multiplicative 95% confidence interval of a list of measurements\n",
    "mul_CI = function(vals){\n",
    "    sem = 10^(sd(log10(vals))/sqrt(length(vals))*1.96)\n",
    "    std = 10^(sd(log10(vals))*1.96)\n",
    "    return(gmean(sem,std))\n",
    "}\n",
    "\n",
    "# Define a function to propagate uncertainties through a product\n",
    "CI_prod_prop = function(mul_CIs){\n",
    "    return(10^sqrt(sum(log10(mul_CIs)^2)))\n",
    "}"
   ]
  },
  {
   "cell_type": "markdown",
   "metadata": {},
   "source": [
    "# Estimating the total leaf mass\n",
    "\n",
    "In order to estimate the total leaf area we rely on two procedures. The first is based on remotely sensed measurement of the leaf area index (LAI), which measures the total area of leaves per unit surface area. The second is based on ground based measurements of LAI.\n",
    "\n",
    "## Remotely sensed LAI\n",
    "We rely on the GLASS Leaf Area Index (LAI) product for this estimate (http://glcf.umd.edu/data/lai/ ). We use 8-day composites taken throughout 2015 and calculate the total leaf area per sample:"
   ]
  },
  {
   "cell_type": "code",
   "execution_count": 2,
   "metadata": {},
   "outputs": [
    {
     "data": {
      "text/html": [
       "'We estimate the total leaf area based on GLASS LAI product at: 1.8e+14 m^2'"
      ],
      "text/latex": [
       "'We estimate the total leaf area based on GLASS LAI product at: 1.8e+14 m\\textasciicircum{}2'"
      ],
      "text/markdown": [
       "'We estimate the total leaf area based on GLASS LAI product at: 1.8e+14 m^2'"
      ],
      "text/plain": [
       "[1] \"We estimate the total leaf area based on GLASS LAI product at: 1.8e+14 m^2\""
      ]
     },
     "metadata": {},
     "output_type": "display_data"
    }
   ],
   "source": [
    "# Create results file\n",
    "result_MODIS = data.frame(file_name=character(), day=numeric(), lai = numeric())\n",
    "\n",
    "# CRS with equal area\n",
    "moll = '+proj=moll +lon_0=0 +x_0=0 +y_0=0 +datum=WGS84 +units=m +no_defs'\n",
    "\n",
    "# Try loading the results of the analysis. If The results are not found, run the analysis\n",
    "tryCatch({result_MODIS = read.csv('../data/MODIS_LAI_sum.csv'); }, error = function(err){\n",
    "    # Find all HDF files in the MODIS dataset\n",
    "    files = list.files('../data/GLASS_LAI_data/MODIS/')\n",
    "    for(file in files){\n",
    "        print(file)\n",
    "        # Load raster\n",
    "        glass_data =  get_subdatasets(paste('data/GLASS_LAI_data/MODIS/',file,sep=''))\n",
    "        lai = readGDAL(glass_data[1])\n",
    "        lai_raster = raster(lai)\n",
    "        # Reproject the raster to equal area projection\n",
    "        molllai <- projectRaster(lai_raster, crs=moll)\n",
    "        # Calculate the total leaf area\n",
    "        total_leaf_area = cellStats(molllai,stat = 'sum')*prod(res(molllai))\n",
    "        # Store results\n",
    "        result_MODIS = rbind(result_MODIS,data.frame(file_name=file,day=substr(unlist(strsplit(file,'\\\\.'))[3],6,10),lai=total_leaf_area))\n",
    "        }\n",
    "    # Save results\n",
    "    write.csv(result_MODIS,'../data/MODIS_LAI_sum.csv')\n",
    "    }\n",
    ")\n",
    "\n",
    "# Find the raster with a total area closest to the annual mean\n",
    "best_file = result_MODIS[which.min(abs(result_MODIS$lai-mean(result_MODIS$lai))),2]\n",
    "\n",
    "sprintf('We estimate the total leaf area based on GLASS LAI product at: %.1e m^2',mean(result_MODIS$lai))"
   ]
  },
  {
   "cell_type": "code",
   "execution_count": 3,
   "metadata": {},
   "outputs": [],
   "source": [
    "# Open the raster with total leaf area closest to the mean\n",
    "best_lai_raster =  raster(get_subdatasets(paste('../data/GLASS_LAI_data/MODIS/',best_file,sep=''))[1])"
   ]
  },
  {
   "cell_type": "markdown",
   "metadata": {},
   "source": [
    "### Ground sensed LAI\n",
    "\n",
    "Our second method for estimating the total leaf area is based on field measurement of LAI in different biomes. This data takes into account only places which have vegetation in them, and thus we need aditional data on the percent coverage of surface area by vegetation in each biome. For the field measured LAI data we use [Asner et al.](http://dx.doi.org/10.1046/j.1466-822X.2003.00026.x)."
   ]
  },
  {
   "cell_type": "code",
   "execution_count": 4,
   "metadata": {},
   "outputs": [
    {
     "data": {
      "text/html": [
       "<table>\n",
       "<thead><tr><th scope=col>Value</th><th scope=col>Label</th><th scope=col>Biome in asner</th><th scope=col>LAI [m^2 m^-2]</th></tr></thead>\n",
       "<tbody>\n",
       "\t<tr><td>  0                                                  </td><td>Water                                                </td><td>NA                                                   </td><td>      NA                                             </td></tr>\n",
       "\t<tr><td>  1                                                  </td><td>Evergreen Needleleaf forest                          </td><td>Average of Boreal DBL and Temperate ENL              </td><td>4.100000                                             </td></tr>\n",
       "\t<tr><td>  2                                                  </td><td>Evergreen Broadleaf forest                           </td><td>Average of Tropical EBL and Temperate EBL            </td><td>5.250000                                             </td></tr>\n",
       "\t<tr><td>  3                                                  </td><td>Deciduous Needleleaf forest                          </td><td>Boreal/Temperate DNL                                 </td><td>4.600000                                             </td></tr>\n",
       "\t<tr><td>  4                                                  </td><td>Deciduous Broadleaf forest                           </td><td>Average of Boreal DBL, Tropical DBL and Temperate DBL</td><td>3.866667                                             </td></tr>\n",
       "\t<tr><td>  5                                                  </td><td>Mixed forest                                         </td><td>Average of all forests                               </td><td>4.362500                                             </td></tr>\n",
       "\t<tr><td>  6                                                  </td><td>Closed shrublands                                    </td><td>Shrubland                                            </td><td>2.100000                                             </td></tr>\n",
       "\t<tr><td>  7                                                  </td><td>Open shrublands                                      </td><td>Shrubland                                            </td><td>2.100000                                             </td></tr>\n",
       "\t<tr><td>  8                                                  </td><td>Woody savannas                                       </td><td>Shrubland                                            </td><td>2.100000                                             </td></tr>\n",
       "\t<tr><td>  9                                                  </td><td>Savannas                                             </td><td>Shrubland                                            </td><td>2.100000                                             </td></tr>\n",
       "\t<tr><td> 10                                                  </td><td>Grasslands                                           </td><td>Grassland                                            </td><td>1.700000                                             </td></tr>\n",
       "\t<tr><td> 11                                                  </td><td>Permanent wetlands                                   </td><td>Wetlands                                             </td><td>6.300000                                             </td></tr>\n",
       "\t<tr><td> 12                                                  </td><td>Croplands                                            </td><td>Crops                                                </td><td>3.600000                                             </td></tr>\n",
       "\t<tr><td> 13                                                  </td><td>Urban and built-up                                   </td><td>NA                                                   </td><td>      NA                                             </td></tr>\n",
       "\t<tr><td> 14                                                  </td><td>Cropland/Natural vegetation mosaic                   </td><td>Crops                                                </td><td>3.600000                                             </td></tr>\n",
       "\t<tr><td> 15                                                  </td><td>Snow and ice                                         </td><td>NA                                                   </td><td>      NA                                             </td></tr>\n",
       "\t<tr><td> 16                                                  </td><td>Barren or sparsely vegetated                         </td><td>Desert                                               </td><td>1.300000                                             </td></tr>\n",
       "\t<tr><td>254                                                  </td><td>Unclassified                                         </td><td>NA                                                   </td><td>      NA                                             </td></tr>\n",
       "\t<tr><td>255                                                  </td><td>Fill Value                                           </td><td>NA                                                   </td><td>      NA                                             </td></tr>\n",
       "</tbody>\n",
       "</table>\n"
      ],
      "text/latex": [
       "\\begin{tabular}{r|llll}\n",
       " Value & Label & Biome in asner & LAI {[}m\\textasciicircum{}2 m\\textasciicircum{}-2{]}\\\\\n",
       "\\hline\n",
       "\t   0                                                   & Water                                                 & NA                                                    &       NA                                             \\\\\n",
       "\t   1                                                   & Evergreen Needleleaf forest                           & Average of Boreal DBL and Temperate ENL               & 4.100000                                             \\\\\n",
       "\t   2                                                   & Evergreen Broadleaf forest                            & Average of Tropical EBL and Temperate EBL             & 5.250000                                             \\\\\n",
       "\t   3                                                   & Deciduous Needleleaf forest                           & Boreal/Temperate DNL                                  & 4.600000                                             \\\\\n",
       "\t   4                                                   & Deciduous Broadleaf forest                            & Average of Boreal DBL, Tropical DBL and Temperate DBL & 3.866667                                             \\\\\n",
       "\t   5                                                   & Mixed forest                                          & Average of all forests                                & 4.362500                                             \\\\\n",
       "\t   6                                                   & Closed shrublands                                     & Shrubland                                             & 2.100000                                             \\\\\n",
       "\t   7                                                   & Open shrublands                                       & Shrubland                                             & 2.100000                                             \\\\\n",
       "\t   8                                                   & Woody savannas                                        & Shrubland                                             & 2.100000                                             \\\\\n",
       "\t   9                                                   & Savannas                                              & Shrubland                                             & 2.100000                                             \\\\\n",
       "\t  10                                                   & Grasslands                                            & Grassland                                             & 1.700000                                             \\\\\n",
       "\t  11                                                   & Permanent wetlands                                    & Wetlands                                              & 6.300000                                             \\\\\n",
       "\t  12                                                   & Croplands                                             & Crops                                                 & 3.600000                                             \\\\\n",
       "\t  13                                                   & Urban and built-up                                    & NA                                                    &       NA                                             \\\\\n",
       "\t  14                                                   & Cropland/Natural vegetation mosaic                    & Crops                                                 & 3.600000                                             \\\\\n",
       "\t  15                                                   & Snow and ice                                          & NA                                                    &       NA                                             \\\\\n",
       "\t  16                                                   & Barren or sparsely vegetated                          & Desert                                                & 1.300000                                             \\\\\n",
       "\t 254                                                   & Unclassified                                          & NA                                                    &       NA                                             \\\\\n",
       "\t 255                                                   & Fill Value                                            & NA                                                    &       NA                                             \\\\\n",
       "\\end{tabular}\n"
      ],
      "text/markdown": [
       "\n",
       "Value | Label | Biome in asner | LAI [m^2 m^-2] | \n",
       "|---|---|---|---|---|---|---|---|---|---|---|---|---|---|---|---|---|---|---|\n",
       "|   0                                                   | Water                                                 | NA                                                    |       NA                                              | \n",
       "|   1                                                   | Evergreen Needleleaf forest                           | Average of Boreal DBL and Temperate ENL               | 4.100000                                              | \n",
       "|   2                                                   | Evergreen Broadleaf forest                            | Average of Tropical EBL and Temperate EBL             | 5.250000                                              | \n",
       "|   3                                                   | Deciduous Needleleaf forest                           | Boreal/Temperate DNL                                  | 4.600000                                              | \n",
       "|   4                                                   | Deciduous Broadleaf forest                            | Average of Boreal DBL, Tropical DBL and Temperate DBL | 3.866667                                              | \n",
       "|   5                                                   | Mixed forest                                          | Average of all forests                                | 4.362500                                              | \n",
       "|   6                                                   | Closed shrublands                                     | Shrubland                                             | 2.100000                                              | \n",
       "|   7                                                   | Open shrublands                                       | Shrubland                                             | 2.100000                                              | \n",
       "|   8                                                   | Woody savannas                                        | Shrubland                                             | 2.100000                                              | \n",
       "|   9                                                   | Savannas                                              | Shrubland                                             | 2.100000                                              | \n",
       "|  10                                                   | Grasslands                                            | Grassland                                             | 1.700000                                              | \n",
       "|  11                                                   | Permanent wetlands                                    | Wetlands                                              | 6.300000                                              | \n",
       "|  12                                                   | Croplands                                             | Crops                                                 | 3.600000                                              | \n",
       "|  13                                                   | Urban and built-up                                    | NA                                                    |       NA                                              | \n",
       "|  14                                                   | Cropland/Natural vegetation mosaic                    | Crops                                                 | 3.600000                                              | \n",
       "|  15                                                   | Snow and ice                                          | NA                                                    |       NA                                              | \n",
       "|  16                                                   | Barren or sparsely vegetated                          | Desert                                                | 1.300000                                              | \n",
       "| 254                                                   | Unclassified                                          | NA                                                    |       NA                                              | \n",
       "| 255                                                   | Fill Value                                            | NA                                                    |       NA                                              | \n",
       "\n",
       "\n"
      ],
      "text/plain": [
       "   Value Label                             \n",
       "1    0   Water                             \n",
       "2    1   Evergreen Needleleaf forest       \n",
       "3    2   Evergreen Broadleaf forest        \n",
       "4    3   Deciduous Needleleaf forest       \n",
       "5    4   Deciduous Broadleaf forest        \n",
       "6    5   Mixed forest                      \n",
       "7    6   Closed shrublands                 \n",
       "8    7   Open shrublands                   \n",
       "9    8   Woody savannas                    \n",
       "10   9   Savannas                          \n",
       "11  10   Grasslands                        \n",
       "12  11   Permanent wetlands                \n",
       "13  12   Croplands                         \n",
       "14  13   Urban and built-up                \n",
       "15  14   Cropland/Natural vegetation mosaic\n",
       "16  15   Snow and ice                      \n",
       "17  16   Barren or sparsely vegetated      \n",
       "18 254   Unclassified                      \n",
       "19 255   Fill Value                        \n",
       "   Biome in asner                                        LAI [m^2 m^-2]\n",
       "1  NA                                                          NA      \n",
       "2  Average of Boreal DBL and Temperate ENL               4.100000      \n",
       "3  Average of Tropical EBL and Temperate EBL             5.250000      \n",
       "4  Boreal/Temperate DNL                                  4.600000      \n",
       "5  Average of Boreal DBL, Tropical DBL and Temperate DBL 3.866667      \n",
       "6  Average of all forests                                4.362500      \n",
       "7  Shrubland                                             2.100000      \n",
       "8  Shrubland                                             2.100000      \n",
       "9  Shrubland                                             2.100000      \n",
       "10 Shrubland                                             2.100000      \n",
       "11 Grassland                                             1.700000      \n",
       "12 Wetlands                                              6.300000      \n",
       "13 Crops                                                 3.600000      \n",
       "14 NA                                                          NA      \n",
       "15 Crops                                                 3.600000      \n",
       "16 NA                                                          NA      \n",
       "17 Desert                                                1.300000      \n",
       "18 NA                                                          NA      \n",
       "19 NA                                                          NA      "
      ]
     },
     "metadata": {},
     "output_type": "display_data"
    }
   ],
   "source": [
    "asner_LAI_data = read_excel('../data/literature_data.xlsx','MODIS_land_use',skip = 1)\n",
    "\n",
    "asner_LAI_data"
   ]
  },
  {
   "cell_type": "markdown",
   "metadata": {},
   "source": [
    "We use biome data from MODIS land cover product (http://glcf.umd.edu/data/lc/). For each biome, we replace all the pixels whithin the biome with the mean LAI measured in the biome based on the table produced by Asner et al."
   ]
  },
  {
   "cell_type": "code",
   "execution_count": 5,
   "metadata": {},
   "outputs": [
    {
     "name": "stderr",
     "output_type": "stream",
     "text": [
      "The following `from` values were not present in `x`: 254, 255\n"
     ]
    }
   ],
   "source": [
    "# Load biome map raster\n",
    "biome_data = raster('../data/LC_5min_global_2012.tif')\n",
    "\n",
    "# Map the biome codes in the map to the mean LAI measured by Asner et al.\n",
    "asner_lai_map = mapvalues(as.matrix(biome_data),from = asner_LAI_data$Value, to = asner_LAI_data$`LAI [m^2 m^-2]`)"
   ]
  },
  {
   "cell_type": "markdown",
   "metadata": {},
   "source": [
    "Not all locations on in each biome contain vegetation. To take this factor into account, we use data on the tree cover and short vegetation conver in each location in the world, taken from [Song et al.](https://doi.org/10.1038/s41586-018-0411-9)."
   ]
  },
  {
   "cell_type": "code",
   "execution_count": 6,
   "metadata": {},
   "outputs": [],
   "source": [
    "# Load tree cover data\n",
    "TG_data = raster('../data/VCF5KYR_2016001_001_2018224210310.tif',band=1)/100\n",
    "# Load short vegetation cover data\n",
    "SV_data = raster('../data/VCF5KYR_2016001_001_2018224210310.tif',band=2)/100\n",
    "\n",
    "# Calculate the fraction of land covered by vegetation\n",
    "plant_frac_data = (SV_data+TG_data)"
   ]
  },
  {
   "cell_type": "code",
   "execution_count": 7,
   "metadata": {},
   "outputs": [],
   "source": [
    "asner_lai_raster = raster(asner_lai_map)\n",
    "\n",
    "# Convert data to raster\n",
    "extent(asner_lai_raster) = extent(biome_data)\n",
    "res(asner_lai_raster) = res(biome_data)\n",
    "crs(asner_lai_raster) = crs(biome_data)"
   ]
  },
  {
   "cell_type": "code",
   "execution_count": 8,
   "metadata": {},
   "outputs": [
    {
     "name": "stderr",
     "output_type": "stream",
     "text": [
      "Warning message in rgdal::rawTransform(projto_int, projfrom, nrow(xy), xy[, 1], :\n",
      "“1161417 projected point(s) not finite”"
     ]
    },
    {
     "data": {
      "text/html": [
       "'We estimate the total leaf area based on field measurements at: 3.1e+14 m^2'"
      ],
      "text/latex": [
       "'We estimate the total leaf area based on field measurements at: 3.1e+14 m\\textasciicircum{}2'"
      ],
      "text/markdown": [
       "'We estimate the total leaf area based on field measurements at: 3.1e+14 m^2'"
      ],
      "text/plain": [
       "[1] \"We estimate the total leaf area based on field measurements at: 3.1e+14 m^2\""
      ]
     },
     "metadata": {},
     "output_type": "display_data"
    }
   ],
   "source": [
    "# Adjust the two rasters\n",
    "tmp = adj_raster(plant_frac_data,asner_lai_raster)\n",
    "res_plant_frac_data = tmp[[1]]\n",
    "res_asner_lai_raster = tmp[[2]]\n",
    "\n",
    "# Multiply the values of the two rasters in each point\n",
    "tot_leaf_area_raster = overlay(res_plant_frac_data,res_asner_lai_raster, fun=function(x,y){x*y})\n",
    "\n",
    "# Reproject data to equal area projection\n",
    "tot_leaf_area_raster_moll = projectRaster(tot_leaf_area_raster,crs=moll)\n",
    "\n",
    "#Calculate the total leaf area\n",
    "asner_total_leaf_area = cellStats(tot_leaf_area_raster_moll, stat = 'sum')*prod(res(tot_leaf_area_raster_moll))\n",
    "sprintf('We estimate the total leaf area based on field measurements at: %.1e m^2',asner_total_leaf_area) "
   ]
  },
  {
   "cell_type": "markdown",
   "metadata": {},
   "source": [
    "As our best estimate for the total leaf area, we use the geometric mean of the estimates based on remote sensing and field measurements:"
   ]
  },
  {
   "cell_type": "code",
   "execution_count": 9,
   "metadata": {},
   "outputs": [
    {
     "data": {
      "text/html": [
       "'Our best estimate for the total leaf area is 2.4e+14 m^2'"
      ],
      "text/latex": [
       "'Our best estimate for the total leaf area is 2.4e+14 m\\textasciicircum{}2'"
      ],
      "text/markdown": [
       "'Our best estimate for the total leaf area is 2.4e+14 m^2'"
      ],
      "text/plain": [
       "[1] \"Our best estimate for the total leaf area is 2.4e+14 m^2\""
      ]
     },
     "metadata": {},
     "output_type": "display_data"
    }
   ],
   "source": [
    "# Calculate the geometric mean of the estimates based on remote sensing nad ground measurements\n",
    "best_global_leaf_area = gmean(asner_total_leaf_area,mean(result_MODIS$lai))\n",
    "sprintf('Our best estimate for the total leaf area is %.1e m^2',best_global_leaf_area) "
   ]
  },
  {
   "cell_type": "markdown",
   "metadata": {},
   "source": [
    "# Converting leaf area to leaf mass\n",
    "In order to convert leaf area to leaf mass, we rely on two methods. The first is based on the Glopnet database (http://bio.mq.edu.au/~iwright/glopian.htm). We use the geometric mean of leaf mass per area (LMA) in g per m^2, and multiply it by the our best estimate for the total leaf area"
   ]
  },
  {
   "cell_type": "code",
   "execution_count": 27,
   "metadata": {},
   "outputs": [
    {
     "ename": "ERROR",
     "evalue": "Error in gmean(10^(glopnet_data$`log LMA`), na.rm = TRUE): unused argument (na.rm = TRUE)\n",
     "output_type": "error",
     "traceback": [
      "Error in gmean(10^(glopnet_data$`log LMA`), na.rm = TRUE): unused argument (na.rm = TRUE)\nTraceback:\n"
     ]
    }
   ],
   "source": [
    "# Load glopnet data\n",
    "glopnet_data = read_excel('../data/literature_data.xlsx','glopnet_data',skip = 1)\n",
    "\n",
    "# calculate the geometric mean of the LMA\n",
    "glopnet_mean = gmean(10^(glopnet_data$`log LMA`), na.rm = TRUE)\n",
    "\n",
    "# Multiply our best estimate of the total leaf area by the mean LMA to get the total mass of leaves\n",
    "method1_mean = best_global_leaf_area*glopnet_mean\n",
    "sprintf('Our estimate for the total leaf mass based on glopnet is %.0f Gt',method1_mean/1e15)"
   ]
  },
  {
   "cell_type": "markdown",
   "metadata": {},
   "source": [
    "The second method we use is a recent global mapping of plant traits [Butler et al.](http://dx.doi.org/10.1073/pnas.1708984114). We use a map of the specific leaf area (SLA), which is measured in m$^2$ per kg of dry leaf mass. We convert the SLA into units of gram dry leaf mass per m$^2$:"
   ]
  },
  {
   "cell_type": "code",
   "execution_count": 13,
   "metadata": {},
   "outputs": [
    {
     "name": "stderr",
     "output_type": "stream",
     "text": [
      "Warning message in points2grid(points, tolerance, round):\n",
      "“grid has empty column/rows in dimension 1”"
     ]
    }
   ],
   "source": [
    "# Load SMA data\n",
    "SLA_data = read.csv('../data/spat_1_superpft_sla_large.csv')\n",
    "\n",
    "# Convert units from m^2 per kg to g per m^2\n",
    "SLA_data$mean = 1000/SLA_data$mean\n",
    "\n",
    "# Convert the coordinate data into coordinates\n",
    "SLA_df = data.frame(lat=SLA_data$lat, lon=SLA_data$lon,mean=SLA_data$mean)\n",
    "coordinates(SLA_df) <- ~lon+lat\n",
    "\n",
    "# Set the projection of the SLA map to lat-lon\n",
    "proj4string(SLA_df)=CRS(\"+init=epsg:4326\")\n",
    "\n",
    "# Create a raster of SLA\n",
    "gridded(SLA_df) = TRUE\n",
    "SLA_raster = raster(SLA_df)"
   ]
  },
  {
   "cell_type": "markdown",
   "metadata": {},
   "source": [
    "We apply the map of leaf mass per area on both the maps of leaf area we constructed in the previous section (based on remote sensing or ground measuremetns)"
   ]
  },
  {
   "cell_type": "code",
   "execution_count": 14,
   "metadata": {},
   "outputs": [
    {
     "name": "stderr",
     "output_type": "stream",
     "text": [
      "Warning message in rgdal::rawTransform(projto_int, projfrom, nrow(xy), xy[, 1], :\n",
      "“35086 projected point(s) not finite”"
     ]
    }
   ],
   "source": [
    "# Calculate the leaf mass based on ground measurements of LAI\n",
    "\n",
    "# Adjust the two rasters\n",
    "tmp = adj_raster(tot_leaf_area_raster,SLA_raster)\n",
    "res_asner_leaf_area = tmp[[1]]\n",
    "res_SLA_raster = tmp[[2]]\n",
    "\n",
    "# Multiply the values in the two maps to generate the leaf mass map\n",
    "asner_leaf_mass_raster = overlay(res_asner_leaf_area,res_SLA_raster,fun=function(x,y){x*y})\n",
    "\n",
    "# Project to an equal area projection\n",
    "asner_leaf_mass_raster_moll = projectRaster(asner_leaf_mass_raster,crs=moll)\n",
    "\n",
    "#Calculate the total leaf mass\n",
    "asner_total_leaf_mass = cellStats(asner_leaf_mass_raster_moll, stat = 'sum')*prod(res(asner_leaf_mass_raster_moll))"
   ]
  },
  {
   "cell_type": "code",
   "execution_count": 15,
   "metadata": {},
   "outputs": [
    {
     "name": "stderr",
     "output_type": "stream",
     "text": [
      "Warning message in rgdal::rawTransform(projto_int, projfrom, nrow(xy), xy[, 1], :\n",
      "“35086 projected point(s) not finite”"
     ]
    }
   ],
   "source": [
    "# Calculate the leaf mass based on remote sensing measurements of LAI\n",
    "\n",
    "# Adjust the two rasters\n",
    "tmp = adj_raster(best_lai_raster,SLA_raster)\n",
    "res_best_lai_raster = tmp[[1]]\n",
    "res_SLA_raster = tmp[[2]]\n",
    "\n",
    "# Multiply the values in the two maps to generate the leaf mass map\n",
    "glass_leaf_mass_raster = overlay(res_best_lai_raster,res_SLA_raster,fun=function(x,y){x*y})\n",
    "\n",
    "# Project to an equal area projection\n",
    "glass_leaf_mass_raster_moll = projectRaster(glass_leaf_mass_raster,crs=moll)\n",
    "\n",
    "#Calculate the total leaf mass\n",
    "glass_total_leaf_mass = cellStats(glass_leaf_mass_raster_moll, stat = 'sum')*prod(res(glass_leaf_mass_raster_moll))"
   ]
  },
  {
   "cell_type": "code",
   "execution_count": 16,
   "metadata": {},
   "outputs": [
    {
     "data": {
      "text/html": [
       "'Our best estimate for the total mass of leaves based on a map of leaf mass per unit area is 19 Gt'"
      ],
      "text/latex": [
       "'Our best estimate for the total mass of leaves based on a map of leaf mass per unit area is 19 Gt'"
      ],
      "text/markdown": [
       "'Our best estimate for the total mass of leaves based on a map of leaf mass per unit area is 19 Gt'"
      ],
      "text/plain": [
       "[1] \"Our best estimate for the total mass of leaves based on a map of leaf mass per unit area is 19 Gt\""
      ]
     },
     "metadata": {},
     "output_type": "display_data"
    }
   ],
   "source": [
    "# Calculate the geometric mean of the two estimates for the global mass of leaves\n",
    "method2_mean = gmean(glass_total_leaf_mass,asner_total_leaf_mass)\n",
    "\n",
    "sprintf('Our best estimate for the total mass of leaves based on a map of leaf mass per unit area is %.0f Gt', method2_mean/1e15)"
   ]
  },
  {
   "cell_type": "markdown",
   "metadata": {},
   "source": [
    "As our best estimate for the global leaf mass based on remote sensing, we use the geometric mean of the our estimates based on values from the glopenet database and the map of the specific leaf area"
   ]
  },
  {
   "cell_type": "code",
   "execution_count": 17,
   "metadata": {},
   "outputs": [
    {
     "data": {
      "text/html": [
       "'Our best estimate for the total mass of leaves is 21 Gt'"
      ],
      "text/latex": [
       "'Our best estimate for the total mass of leaves is 21 Gt'"
      ],
      "text/markdown": [
       "'Our best estimate for the total mass of leaves is 21 Gt'"
      ],
      "text/plain": [
       "[1] \"Our best estimate for the total mass of leaves is 21 Gt\""
      ]
     },
     "metadata": {},
     "output_type": "display_data"
    }
   ],
   "source": [
    "# Calculate the geometric mean of the estimates for leaf mass based on glopnet and the map of leaf mass\n",
    "best_leaf_meass_remote_sensing = gmean(method1_mean,method2_mean)\n",
    "sprintf('Our best estimate for the total mass of leaves is %.0f Gt', best_leaf_meass_remote_sensing/1e15)"
   ]
  },
  {
   "cell_type": "markdown",
   "metadata": {},
   "source": [
    "# Uncertainty analysis\n",
    "\n",
    "We calculate an uncetainty projection for our estimate of the total mass of leaves based on remote sensing. This is a multiplicative uncertainty akin to a 95% confidence interval. We start with estimating the uncertainty around our estimate of the total area of leaves:"
   ]
  },
  {
   "cell_type": "code",
   "execution_count": 41,
   "metadata": {},
   "outputs": [
    {
     "data": {
      "text/html": [
       "'Our best projection for the uncertainty associated with our estimate of the total leaf area is 1.9-fold'"
      ],
      "text/latex": [
       "'Our best projection for the uncertainty associated with our estimate of the total leaf area is 1.9-fold'"
      ],
      "text/markdown": [
       "'Our best projection for the uncertainty associated with our estimate of the total leaf area is 1.9-fold'"
      ],
      "text/plain": [
       "[1] \"Our best projection for the uncertainty associated with our estimate of the total leaf area is 1.9-fold\""
      ]
     },
     "metadata": {},
     "output_type": "display_data"
    },
    {
     "data": {
      "text/html": [
       "1.87289305646055"
      ],
      "text/latex": [
       "1.87289305646055"
      ],
      "text/markdown": [
       "1.87289305646055"
      ],
      "text/plain": [
       "[1] 1.872893"
      ]
     },
     "metadata": {},
     "output_type": "display_data"
    }
   ],
   "source": [
    "leaf_area_CI = mul_CI(c(asner_total_leaf_area,mean(result_MODIS$lai)))\n",
    "sprintf('Our best projection for the uncertainty associated with our estimate of the total leaf area is %.1f-fold', leaf_area_CI)\n",
    "leaf_area_CI"
   ]
  },
  {
   "cell_type": "markdown",
   "metadata": {},
   "source": [
    "In order to calculate the total mass of leaves based on remote sensing, we multiply the total leaf mass by the leaf mass per unit leaf area. Next, we calculate the uncertainty associated with our estimate of the leaf mass per unit leaf area. To calculate the characteristic leaf mass per unit leaf area, we relied on an estimate based on a database of plant traits in ≈2000 plant species, and a map of plant traits. For each estimate, we calculate the uncertainty associated with it.\n",
    "\n",
    "### leaf mass per unit leaf area based on species database\n",
    "Our estimate was based on the geomteric mean across plant species. As an estimate of the uncertainty associated with this estimate, we calculate the 95% confidence interval of around the geometric mean of the leaf mass per unit leaf area across all species:"
   ]
  },
  {
   "cell_type": "code",
   "execution_count": 39,
   "metadata": {},
   "outputs": [
    {
     "data": {
      "text/html": [
       "'Our best projection for the uncertainty associated with our estimate of the leaf mass per unit leaf area based on the species database is 1.2-fold'"
      ],
      "text/latex": [
       "'Our best projection for the uncertainty associated with our estimate of the leaf mass per unit leaf area based on the species database is 1.2-fold'"
      ],
      "text/markdown": [
       "'Our best projection for the uncertainty associated with our estimate of the leaf mass per unit leaf area based on the species database is 1.2-fold'"
      ],
      "text/plain": [
       "[1] \"Our best projection for the uncertainty associated with our estimate of the leaf mass per unit leaf area based on the species database is 1.2-fold\""
      ]
     },
     "metadata": {},
     "output_type": "display_data"
    }
   ],
   "source": [
    "glopnet_CI = mul_CI(na.exclude(glopnet_data$`log LMA`))\n",
    "sprintf('Our best projection for the uncertainty associated with our estimate of the leaf mass per unit leaf area based on the species database is %.1f-fold', glopnet_CI)"
   ]
  },
  {
   "cell_type": "markdown",
   "metadata": {},
   "source": [
    "The uncertainty of 1.2-fold in the estimate of the leaf mass is larger than the uncertainty between our different methodologies (the species based database and the trait maps). Therefore, we use this uncertainty as our best projection of the uncertainty associated with the characteristic mass of leaves per unit leaf area.\n",
    "\n",
    "Combining the uncertainty associated with the total area of leaves with the uncertainty associated with our estimate for leaf mass per unit leaf area, we get a projection for the uncertainty associated with the estimate of the total mass of leaves based on remote sensing:"
   ]
  },
  {
   "cell_type": "code",
   "execution_count": 48,
   "metadata": {},
   "outputs": [
    {
     "data": {
      "text/html": [
       "'Our best projection for the uncertainty associated with our estimate of the total leaf mass based on remote sensing is 1.9-fold'"
      ],
      "text/latex": [
       "'Our best projection for the uncertainty associated with our estimate of the total leaf mass based on remote sensing is 1.9-fold'"
      ],
      "text/markdown": [
       "'Our best projection for the uncertainty associated with our estimate of the total leaf mass based on remote sensing is 1.9-fold'"
      ],
      "text/plain": [
       "[1] \"Our best projection for the uncertainty associated with our estimate of the total leaf mass based on remote sensing is 1.9-fold\""
      ]
     },
     "metadata": {},
     "output_type": "display_data"
    }
   ],
   "source": [
    "rs_leaf_mass_CI = CI_prod_prop(c(glopnet_CI,leaf_area_CI))\n",
    "sprintf('Our best projection for the uncertainty associated with our estimate of the total leaf mass based on remote sensing is %.1f-fold', rs_leaf_mass_CI)"
   ]
  }
 ],
 "metadata": {
  "kernelspec": {
   "display_name": "R",
   "language": "R",
   "name": "ir"
  },
  "language_info": {
   "codemirror_mode": "r",
   "file_extension": ".r",
   "mimetype": "text/x-r-source",
   "name": "R",
   "pygments_lexer": "r",
   "version": "3.4.4"
  }
 },
 "nbformat": 4,
 "nbformat_minor": 2
}
