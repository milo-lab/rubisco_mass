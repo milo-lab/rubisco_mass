{
 "cells": [
  {
   "cell_type": "code",
   "execution_count": 1,
   "metadata": {},
   "outputs": [],
   "source": [
    "# Import dependencies\n",
    "import pandas as pd\n",
    "import numpy as np\n",
    "%matplotlib inline\n",
    "import matplotlib.pyplot as plt\n",
    "from IPython.display import Markdown, display\n",
    "from stats_helper import *\n",
    "def dis_res(x):\n",
    "    display(Markdown('___\\n##### **Result**: \\n\\n' + x + '\\n___'))"
   ]
  },
  {
   "cell_type": "markdown",
   "metadata": {},
   "source": [
    "# SI Notebook - Validation of our estimates for the time-averaged rate of Rubisco in the terrestrial and marine environments\n",
    "In this section, we validate our estimates for the time-averaged rate of Rubisco in the terrestrial and marine environment by comparing our global estimate with estimates of the rate of Rubisco from smaller scale studies. We first discuss terrestrial Rubiscos and then move forward to discuss marine Rubiscos.\n",
    "\n",
    "## Terrestrial Rubiscos\n",
    "For the terrestrial environment, we used data from 18 different Fluxnet sites, located in different biomes. Here is a list of the sites used for validating our estimate:"
   ]
  },
  {
   "cell_type": "code",
   "execution_count": 2,
   "metadata": {},
   "outputs": [
    {
     "data": {
      "text/html": [
       "<div>\n",
       "<style scoped>\n",
       "    .dataframe tbody tr th:only-of-type {\n",
       "        vertical-align: middle;\n",
       "    }\n",
       "\n",
       "    .dataframe tbody tr th {\n",
       "        vertical-align: top;\n",
       "    }\n",
       "\n",
       "    .dataframe thead th {\n",
       "        text-align: right;\n",
       "    }\n",
       "</style>\n",
       "<table border=\"1\" class=\"dataframe\">\n",
       "  <thead>\n",
       "    <tr style=\"text-align: right;\">\n",
       "      <th></th>\n",
       "      <th>Site code</th>\n",
       "      <th>Biome</th>\n",
       "      <th>Latitude</th>\n",
       "      <th>Longitude</th>\n",
       "      <th>Canopy N, per unit area [g N m^-2]</th>\n",
       "      <th>Canopy N, per unit area [g N m^-2] ref</th>\n",
       "      <th>Annual mean LAI</th>\n",
       "      <th>Annual mean LAI ref</th>\n",
       "      <th>Annual mean GPP [g C m^-2 d^-1]</th>\n",
       "    </tr>\n",
       "  </thead>\n",
       "  <tbody>\n",
       "    <tr>\n",
       "      <th>0</th>\n",
       "      <td>US-Ha1</td>\n",
       "      <td>DBF</td>\n",
       "      <td>42°32′</td>\n",
       "      <td>-72°10′</td>\n",
       "      <td>1.384267</td>\n",
       "      <td>https://doi.org/10.1073/pnas.0810021105 - Calc...</td>\n",
       "      <td>1.339365</td>\n",
       "      <td>https://doi.org/10.1016/j.agrformet.2014.09.019</td>\n",
       "      <td>3.655773</td>\n",
       "    </tr>\n",
       "    <tr>\n",
       "      <th>1</th>\n",
       "      <td>US-MMS</td>\n",
       "      <td>DBF</td>\n",
       "      <td>39°19′</td>\n",
       "      <td>-86°24′</td>\n",
       "      <td>1.357505</td>\n",
       "      <td>https://doi.org/10.1073/pnas.0810021105 - Calc...</td>\n",
       "      <td>2.028335</td>\n",
       "      <td>https://doi.org/10.1016/j.agrformet.2014.09.019</td>\n",
       "      <td>4.612724</td>\n",
       "    </tr>\n",
       "    <tr>\n",
       "      <th>2</th>\n",
       "      <td>US-NR1</td>\n",
       "      <td>ENF</td>\n",
       "      <td>40°01′</td>\n",
       "      <td>-105°32′</td>\n",
       "      <td>2.292038</td>\n",
       "      <td>https://doi.org/10.1073/pnas.0810021105 - Calc...</td>\n",
       "      <td>4.000000</td>\n",
       "      <td>https://doi.org/10.1073/pnas.0810021105 – Ever...</td>\n",
       "      <td>2.402802</td>\n",
       "    </tr>\n",
       "    <tr>\n",
       "      <th>3</th>\n",
       "      <td>US-WCr</td>\n",
       "      <td>DBF</td>\n",
       "      <td>45°48′</td>\n",
       "      <td>-90°04′</td>\n",
       "      <td>1.187647</td>\n",
       "      <td>https://doi.org/10.1073/pnas.0810021105 - Calc...</td>\n",
       "      <td>1.940000</td>\n",
       "      <td>https://doi.org/10.1016/j.agrformet.2014.09.019</td>\n",
       "      <td>3.062149</td>\n",
       "    </tr>\n",
       "    <tr>\n",
       "      <th>4</th>\n",
       "      <td>AT-Neu</td>\n",
       "      <td>GRA</td>\n",
       "      <td>47° 7'</td>\n",
       "      <td>11° 19'</td>\n",
       "      <td>1.200615</td>\n",
       "      <td>https://doi.org/10.1002/ece3.2479</td>\n",
       "      <td>3.200000</td>\n",
       "      <td>https://doi.org/10.1029/2007JD009286</td>\n",
       "      <td>5.597917</td>\n",
       "    </tr>\n",
       "    <tr>\n",
       "      <th>5</th>\n",
       "      <td>BR-Sa1</td>\n",
       "      <td>EBF</td>\n",
       "      <td>-2° 51'</td>\n",
       "      <td>-54° 57'</td>\n",
       "      <td>2.347107</td>\n",
       "      <td>https://doi.org/10.1002/ece3.2479</td>\n",
       "      <td>5.841036</td>\n",
       "      <td>https://doi.org/10.1126/science.aad5068 - Figu...</td>\n",
       "      <td>8.836161</td>\n",
       "    </tr>\n",
       "    <tr>\n",
       "      <th>6</th>\n",
       "      <td>CA-Qfo</td>\n",
       "      <td>ENF</td>\n",
       "      <td>49° 41'</td>\n",
       "      <td>-74° 20'</td>\n",
       "      <td>2.182860</td>\n",
       "      <td>https://doi.org/10.1002/ece3.2479</td>\n",
       "      <td>3.700000</td>\n",
       "      <td>https://doi.org/10.1016/j.agrformet.2006.08.00...</td>\n",
       "      <td>1.949459</td>\n",
       "    </tr>\n",
       "    <tr>\n",
       "      <th>7</th>\n",
       "      <td>CZ-BK1</td>\n",
       "      <td>ENF</td>\n",
       "      <td>49° 30'</td>\n",
       "      <td>18° 32'</td>\n",
       "      <td>2.957086</td>\n",
       "      <td>https://doi.org/10.1002/ece3.2479</td>\n",
       "      <td>4.500000</td>\n",
       "      <td>https://doi.org/10.5194/acp-11-2703-2011 - Eve...</td>\n",
       "      <td>4.376957</td>\n",
       "    </tr>\n",
       "    <tr>\n",
       "      <th>8</th>\n",
       "      <td>DE-Hai</td>\n",
       "      <td>DBF</td>\n",
       "      <td>51° 4'</td>\n",
       "      <td>10° 27'</td>\n",
       "      <td>1.417043</td>\n",
       "      <td>https://doi.org/10.1002/ece3.2479</td>\n",
       "      <td>2.380000</td>\n",
       "      <td>https://doi.org/10.1016/j.agrformet.2010.01.014</td>\n",
       "      <td>4.488397</td>\n",
       "    </tr>\n",
       "    <tr>\n",
       "      <th>9</th>\n",
       "      <td>ES-ES2</td>\n",
       "      <td>CRO</td>\n",
       "      <td>39° 16'</td>\n",
       "      <td>-0° 18'</td>\n",
       "      <td>5.820197</td>\n",
       "      <td>https://doi.org/10.1002/ece3.2479</td>\n",
       "      <td>2.824350</td>\n",
       "      <td>https://doi.org/10.3390/rs9010020</td>\n",
       "      <td>3.653958</td>\n",
       "    </tr>\n",
       "    <tr>\n",
       "      <th>10</th>\n",
       "      <td>FI-Hyy</td>\n",
       "      <td>ENF</td>\n",
       "      <td>61° 50'</td>\n",
       "      <td>24° 17'</td>\n",
       "      <td>2.532181</td>\n",
       "      <td>https://doi.org/10.1002/ece3.2479</td>\n",
       "      <td>3.300000</td>\n",
       "      <td>https://www.tandfonline.com/doi/abs/10.1111/j....</td>\n",
       "      <td>3.627955</td>\n",
       "    </tr>\n",
       "    <tr>\n",
       "      <th>11</th>\n",
       "      <td>FR-Lq1</td>\n",
       "      <td>GRA</td>\n",
       "      <td>45° 38'</td>\n",
       "      <td>2° 44'</td>\n",
       "      <td>1.515371</td>\n",
       "      <td>https://doi.org/10.1002/ece3.2479</td>\n",
       "      <td>0.624768</td>\n",
       "      <td>https://doi.org/10.5194/gmd-6-2165-2013+http:/...</td>\n",
       "      <td>5.047917</td>\n",
       "    </tr>\n",
       "    <tr>\n",
       "      <th>12</th>\n",
       "      <td>IL-Yat</td>\n",
       "      <td>ENF</td>\n",
       "      <td>31° 20'</td>\n",
       "      <td>35° 3'</td>\n",
       "      <td>2.211249</td>\n",
       "      <td>https://doi.org/10.1002/ece3.2479</td>\n",
       "      <td>1.700000</td>\n",
       "      <td>https://doi.org/10.1080/01431160903032885</td>\n",
       "      <td>1.442500</td>\n",
       "    </tr>\n",
       "    <tr>\n",
       "      <th>13</th>\n",
       "      <td>IT-Lav</td>\n",
       "      <td>ENF</td>\n",
       "      <td>45° 57'</td>\n",
       "      <td>11° 16'</td>\n",
       "      <td>2.178390</td>\n",
       "      <td>https://doi.org/10.1002/ece3.2479</td>\n",
       "      <td>9.600000</td>\n",
       "      <td>https://doi.org/10.1016/j.agrformet.2003.08.02...</td>\n",
       "      <td>5.584167</td>\n",
       "    </tr>\n",
       "    <tr>\n",
       "      <th>14</th>\n",
       "      <td>IT-MBo</td>\n",
       "      <td>GRA</td>\n",
       "      <td>46° 0'</td>\n",
       "      <td>11° 2'</td>\n",
       "      <td>1.219707</td>\n",
       "      <td>https://doi.org/10.1002/ece3.2479</td>\n",
       "      <td>0.969062</td>\n",
       "      <td>https://doi.org/10.1080/01431160802314855</td>\n",
       "      <td>4.252708</td>\n",
       "    </tr>\n",
       "    <tr>\n",
       "      <th>15</th>\n",
       "      <td>IT-Ren</td>\n",
       "      <td>ENF</td>\n",
       "      <td>46° 35'</td>\n",
       "      <td>11° 26'</td>\n",
       "      <td>3.564986</td>\n",
       "      <td>https://doi.org/10.1002/ece3.2479</td>\n",
       "      <td>5.500000</td>\n",
       "      <td>https://doi.org/10.1016/j.agrformet.2003.08.02...</td>\n",
       "      <td>3.192810</td>\n",
       "    </tr>\n",
       "    <tr>\n",
       "      <th>16</th>\n",
       "      <td>NL-Loo</td>\n",
       "      <td>ENF</td>\n",
       "      <td>52° 9'</td>\n",
       "      <td>5° 44'</td>\n",
       "      <td>3.919266</td>\n",
       "      <td>https://doi.org/10.1002/ece3.2479</td>\n",
       "      <td>2.000000</td>\n",
       "      <td>https://doi.org/10.1016/S0168-1923(02)00024-2 ...</td>\n",
       "      <td>4.430625</td>\n",
       "    </tr>\n",
       "    <tr>\n",
       "      <th>17</th>\n",
       "      <td>RU-Fyo</td>\n",
       "      <td>ENF</td>\n",
       "      <td>56° 27'</td>\n",
       "      <td>32° 55'</td>\n",
       "      <td>1.947685</td>\n",
       "      <td>https://doi.org/10.1002/ece3.2479</td>\n",
       "      <td>3.000000</td>\n",
       "      <td>https://doi.org/10.5194/acp-11-2703-2011 - Eve...</td>\n",
       "      <td>4.018575</td>\n",
       "    </tr>\n",
       "  </tbody>\n",
       "</table>\n",
       "</div>"
      ],
      "text/plain": [
       "   Site code Biome Latitude Longitude  Canopy N, per unit area [g N m^-2]  \\\n",
       "0     US-Ha1   DBF   42°32′   -72°10′                            1.384267   \n",
       "1     US-MMS   DBF   39°19′   -86°24′                            1.357505   \n",
       "2     US-NR1   ENF   40°01′  -105°32′                            2.292038   \n",
       "3     US-WCr   DBF   45°48′   -90°04′                            1.187647   \n",
       "4     AT-Neu   GRA   47° 7'   11° 19'                            1.200615   \n",
       "5     BR-Sa1   EBF  -2° 51'  -54° 57'                            2.347107   \n",
       "6     CA-Qfo   ENF  49° 41'  -74° 20'                            2.182860   \n",
       "7     CZ-BK1   ENF  49° 30'   18° 32'                            2.957086   \n",
       "8     DE-Hai   DBF   51° 4'   10° 27'                            1.417043   \n",
       "9     ES-ES2   CRO  39° 16'   -0° 18'                            5.820197   \n",
       "10    FI-Hyy   ENF  61° 50'   24° 17'                            2.532181   \n",
       "11    FR-Lq1   GRA  45° 38'    2° 44'                            1.515371   \n",
       "12    IL-Yat   ENF  31° 20'    35° 3'                            2.211249   \n",
       "13    IT-Lav   ENF  45° 57'   11° 16'                            2.178390   \n",
       "14    IT-MBo   GRA   46° 0'    11° 2'                            1.219707   \n",
       "15    IT-Ren   ENF  46° 35'   11° 26'                            3.564986   \n",
       "16    NL-Loo   ENF   52° 9'    5° 44'                            3.919266   \n",
       "17    RU-Fyo   ENF  56° 27'   32° 55'                            1.947685   \n",
       "\n",
       "               Canopy N, per unit area [g N m^-2] ref  Annual mean LAI  \\\n",
       "0   https://doi.org/10.1073/pnas.0810021105 - Calc...         1.339365   \n",
       "1   https://doi.org/10.1073/pnas.0810021105 - Calc...         2.028335   \n",
       "2   https://doi.org/10.1073/pnas.0810021105 - Calc...         4.000000   \n",
       "3   https://doi.org/10.1073/pnas.0810021105 - Calc...         1.940000   \n",
       "4                   https://doi.org/10.1002/ece3.2479         3.200000   \n",
       "5                   https://doi.org/10.1002/ece3.2479         5.841036   \n",
       "6                   https://doi.org/10.1002/ece3.2479         3.700000   \n",
       "7                   https://doi.org/10.1002/ece3.2479         4.500000   \n",
       "8                   https://doi.org/10.1002/ece3.2479         2.380000   \n",
       "9                   https://doi.org/10.1002/ece3.2479         2.824350   \n",
       "10                  https://doi.org/10.1002/ece3.2479         3.300000   \n",
       "11                  https://doi.org/10.1002/ece3.2479         0.624768   \n",
       "12                  https://doi.org/10.1002/ece3.2479         1.700000   \n",
       "13                  https://doi.org/10.1002/ece3.2479         9.600000   \n",
       "14                  https://doi.org/10.1002/ece3.2479         0.969062   \n",
       "15                  https://doi.org/10.1002/ece3.2479         5.500000   \n",
       "16                  https://doi.org/10.1002/ece3.2479         2.000000   \n",
       "17                  https://doi.org/10.1002/ece3.2479         3.000000   \n",
       "\n",
       "                                  Annual mean LAI ref  \\\n",
       "0     https://doi.org/10.1016/j.agrformet.2014.09.019   \n",
       "1     https://doi.org/10.1016/j.agrformet.2014.09.019   \n",
       "2   https://doi.org/10.1073/pnas.0810021105 – Ever...   \n",
       "3     https://doi.org/10.1016/j.agrformet.2014.09.019   \n",
       "4                https://doi.org/10.1029/2007JD009286   \n",
       "5   https://doi.org/10.1126/science.aad5068 - Figu...   \n",
       "6   https://doi.org/10.1016/j.agrformet.2006.08.00...   \n",
       "7   https://doi.org/10.5194/acp-11-2703-2011 - Eve...   \n",
       "8     https://doi.org/10.1016/j.agrformet.2010.01.014   \n",
       "9                   https://doi.org/10.3390/rs9010020   \n",
       "10  https://www.tandfonline.com/doi/abs/10.1111/j....   \n",
       "11  https://doi.org/10.5194/gmd-6-2165-2013+http:/...   \n",
       "12          https://doi.org/10.1080/01431160903032885   \n",
       "13  https://doi.org/10.1016/j.agrformet.2003.08.02...   \n",
       "14          https://doi.org/10.1080/01431160802314855   \n",
       "15  https://doi.org/10.1016/j.agrformet.2003.08.02...   \n",
       "16  https://doi.org/10.1016/S0168-1923(02)00024-2 ...   \n",
       "17  https://doi.org/10.5194/acp-11-2703-2011 - Eve...   \n",
       "\n",
       "    Annual mean GPP [g C m^-2 d^-1]  \n",
       "0                          3.655773  \n",
       "1                          4.612724  \n",
       "2                          2.402802  \n",
       "3                          3.062149  \n",
       "4                          5.597917  \n",
       "5                          8.836161  \n",
       "6                          1.949459  \n",
       "7                          4.376957  \n",
       "8                          4.488397  \n",
       "9                          3.653958  \n",
       "10                         3.627955  \n",
       "11                         5.047917  \n",
       "12                         1.442500  \n",
       "13                         5.584167  \n",
       "14                         4.252708  \n",
       "15                         3.192810  \n",
       "16                         4.430625  \n",
       "17                         4.018575  "
      ]
     },
     "execution_count": 2,
     "metadata": {},
     "output_type": "execute_result"
    }
   ],
   "source": [
    "land_data = pd.read_excel('../data/validation_data_land.xlsx','site_info')\n",
    "land_data"
   ]
  },
  {
   "cell_type": "markdown",
   "metadata": {},
   "source": [
    "For each site, we calculate the total mass of nitrogen per unit land area by multiplying the mean leaf area index by the nitrogen content per unit leaf area:"
   ]
  },
  {
   "cell_type": "code",
   "execution_count": 3,
   "metadata": {},
   "outputs": [],
   "source": [
    "land_data['N per land area'] = land_data['Annual mean LAI']*land_data['Canopy N, per unit area [g N m^-2]']"
   ]
  },
  {
   "cell_type": "markdown",
   "metadata": {},
   "source": [
    "In order to convert the mass of nitrogen per unit land area into the mass of Rubisco per unit land area, we rely on a recent dataset which recorded the fraction of nitrogen in Rubisco out of the total leaf nitrogen [Onoda et al.](http://dx.doi.org/10.1111/nph.14496). To convert the mass of nitrogen in Rubisco to the total mass of Rubisco, we use the fact that nitrogen accounts for about a sixth of the mass of rubisco. We thus calculate the ratio between the mass of Rubisco and the mass of leaf nitrogen for three main plant types: deciduous woody plants, evengreen woody plants, and herbaceous plants:"
   ]
  },
  {
   "cell_type": "code",
   "execution_count": 4,
   "metadata": {},
   "outputs": [],
   "source": [
    "onoda = pd.read_excel('../data/literature_data.xlsx','Onoda')\n",
    "\n",
    "filt_onoda = onoda.loc[onoda['Nrub/N'].dropna().index,['GF','EveDec','Nrub/N']]\n",
    "\n",
    "# Calculate the mean ratio between the mass of rubisco and leaf N for each growth form\n",
    "rub_to_N = (filt_onoda.groupby(['GF','EveDec']).mean()*6).reset_index()\n",
    "\n",
    "# For herbaceous plants, clculate the mean of the growth forms 'H' and 'G' (herbs and grasses)\n",
    "rub_to_N.loc[rub_to_N['GF'] == 'H','Nrub/N'] = filt_onoda.loc[filt_onoda['GF'].isin(['H','G']),'Nrub/N'].mean()*6\n",
    "\n",
    "# Keep only the three relevant growth forms\n",
    "rub_to_N.loc[3,'GF'] = 'WD'\n",
    "rub_to_N.loc[4,'GF'] = 'WE'\n",
    "rub_to_N = rub_to_N.loc[2:,['GF','Nrub/N']]\n",
    "rub_to_N.set_index('GF',inplace=True)"
   ]
  },
  {
   "cell_type": "markdown",
   "metadata": {},
   "source": [
    "For each biome, we apply the relevant Rubisco content based on the dominant growth form in that biome:"
   ]
  },
  {
   "cell_type": "code",
   "execution_count": 5,
   "metadata": {},
   "outputs": [],
   "source": [
    "# Define the mapping between biomes and growth forms\n",
    "mapping = {'DBF':'WD', 'ENF':'WE', 'GRA':'H', 'EBF':'WE', 'CRO':'H'}\n",
    "\n",
    "# Multiply the conversion ratio to calculate the total mass of Rubisco per unit land area\n",
    "land_data['Rub per land area'] = land_data['N per land area']*rub_to_N.loc[land_data.Biome.map(mapping)].reset_index()['Nrub/N']"
   ]
  },
  {
   "cell_type": "markdown",
   "metadata": {},
   "source": [
    "Now that we have calculated the total mass of Rubisco per unit land area and we have the GPP per unit land area, we can divide the two and convert units to attain the average rate of Rubisco at each site:"
   ]
  },
  {
   "cell_type": "code",
   "execution_count": 6,
   "metadata": {},
   "outputs": [],
   "source": [
    "sec_in_day = 3600*24 #s\n",
    "\n",
    "# Convert GPP to units of moles C per second\n",
    "tot_reactions = (land_data['Annual mean GPP [g C m^-2 d^-1]']/sec_in_day/12)\n",
    "\n",
    "# The molecular weight of a rubisco per active site\n",
    "rub_mol_w = 7e4 # g/mol\n",
    "\n",
    "# Convert the total mass of rubisco into moles\n",
    "tot_rub_mol = (land_data['Rub per land area']/rub_mol_w)\n",
    "\n",
    "# Calculate the average rate of rubisco\n",
    "land_data['Average rate [s^-1]'] = tot_reactions/tot_rub_mol # s^-1"
   ]
  },
  {
   "cell_type": "markdown",
   "metadata": {},
   "source": [
    "Next, we calculate the average rate of rubisco across sites in the same biome:"
   ]
  },
  {
   "cell_type": "code",
   "execution_count": 7,
   "metadata": {},
   "outputs": [
    {
     "data": {
      "text/plain": [
       "Biome\n",
       "CRO    0.011781\n",
       "DBF    0.083973\n",
       "EBF    0.049176\n",
       "ENF    0.028257\n",
       "GRA    0.183501\n",
       "Name: Average rate [s^-1], dtype: float64"
      ]
     },
     "execution_count": 7,
     "metadata": {},
     "output_type": "execute_result"
    }
   ],
   "source": [
    "biome_rate = land_data.groupby('Biome').mean()['Average rate [s^-1]']\n",
    "biome_rate"
   ]
  },
  {
   "cell_type": "markdown",
   "metadata": {},
   "source": [
    "Finally, to calculate a global average rate for Rubisco based on Fluxnet sites, we calculate a weighted average of the rates of Rubisco at each biome. We use the mass of Rubisco at each biome as the weights for our weighted average. To calculate a proxy for the mass of Rubisco at each biome, we use the global GPP at each biome based on [Beer et al.](http://dx.doi.org/10.1126/science.1184984) and divide it by the average rate at each biome."
   ]
  },
  {
   "cell_type": "code",
   "execution_count": 8,
   "metadata": {},
   "outputs": [
    {
     "data": {
      "text/markdown": [
       "___\n",
       "##### **Result**: \n",
       "\n",
       "Our best estimate for the average rate of Rubisco on land based on Flxunet sites is 0.04 s^-1\n",
       "___"
      ],
      "text/plain": [
       "<IPython.core.display.Markdown object>"
      ]
     },
     "metadata": {},
     "output_type": "display_data"
    }
   ],
   "source": [
    "biome_gpp = pd.read_excel('../data/validation_data_land.xlsx','global_gpp',skiprows=1,index_col=0)\n",
    "global_average_rate = np.average(biome_rate,weights=biome_gpp['Global GPP [Gt C yr^-1]']/biome_rate)\n",
    "dis_res('Our best estimate for the average rate of Rubisco on land based on Flxunet sites is %.2f s^-1' %global_average_rate)"
   ]
  },
  {
   "cell_type": "markdown",
   "metadata": {},
   "source": [
    "Our result is very close to our best estimate of 0.03 s$^{-1}$.\n",
    "\n",
    "## Marine Rubiscos\n",
    "For marine Rubiscos, we rely of continuous time series from two sites - one is the ALOHA site near Hawaii and the second is the BATS site near Bermuda.\n",
    "For each one, we collected data on primary productivity from $^{14}$C incorporation experiments, as well data on the concentration of three different phtoplankton groups - *Prochlorococcus*, *Synechococcus* and Picoeukaryotes. We suplement the measured phytoplankton data with measurements of eukaryotic phytoplankton from [Pasulka et al.](https://doi.org/10.1016/j.dsr2.2013.01.007) for the ALOHA site and from [DuRand et al.](https://doi.org/10.1016/S0967-0645(00)00166-1) for the BATS site. For each site, we follow a similar analysis which includes the following steps:\n",
    "1. Conversion of cell population density into carbon density\n",
    "2. Averaging over the entire time-series\n",
    "3. Integration over the entire depth column for biomass and primary productivity\n",
    "4. Conversion of biomass into the mass of Rubisco\n",
    "\n",
    "The data on the biomass of eukaryotic phytoplankton at the ALOHA site come from measurements between the years 2004 and 2009, whereas the measurements of the phytoplankton biomass at the BATS site come from measurements between the years 1992 and 1993. We use the relevant time-series data for primary productivity in order to calculate the average rate of Rubisco at the same time period.\n",
    "\n",
    "#### Conversion of population density into carbon density\n",
    "For the BATS site, we already have a depth integrated measurement of the carbon mass of phytoplankton, so we skip steps 1 and 3. For the ALOHA site, we have measurements of the cell population density for *Prochlorococcus* and *Synechococcus*, which we convert to carbon mass using values from [Buitenhuis et al.](http://dx.doi.org/10.5194/essd-4-37-2012) of 48 fg C cell^-1 for *Prochlorococcus* and 204 fg cell^-1 for *Synechococcus*. The carbon mass of the other eukaryotic phytoplankton was already calculated by [Pasulka et al.](https://doi.org/10.1016/j.dsr2.2013.01.007)."
   ]
  },
  {
   "cell_type": "code",
   "execution_count": 9,
   "metadata": {},
   "outputs": [],
   "source": [
    "# load data\n",
    "aloha_data = pd.read_excel('../data/validation_data_marine.xlsx','hot_data',skiprows=1)\n",
    "bats_data = pd.read_excel('../data/validation_data_marine.xlsx','bats_data',skiprows=1)\n",
    "aloha_phyto_euk = pd.read_excel('../data/validation_data_marine.xlsx','hots_euks',skiprows=1,index_col=0)\n",
    "bats_phyto = pd.read_excel('../data/validation_data_marine.xlsx','bats_phytoplankton',skiprows=1,index_col=0)\n",
    "\n",
    "# average productivity measurements in ALOHA from the three replicates\n",
    "aloha_data['NPP [mg C m^-3]'] = aloha_data[['14C PP light #3 [mg C/m3]','14C PP light #2 [mg C/m3]','14C PP light #1 [mg C/m3]']].mean(axis=1)\n",
    "\n",
    "\n",
    "# Choose only the relevant data from the ALOHA site\n",
    "aloha_data = aloha_data[['Depth [m]','Prochl [#/ml]','Synecho [#/ml]','NPP [mg C m^-3]']].dropna()\n",
    "\n",
    "# Convert to carbon biomass for Prochlorococcus and Synechococcus at the ALOHA site\n",
    "aloha_data['Pro C [mg C m^-3]'] = aloha_data['Prochl [#/ml]']*48e-12*1e6\n",
    "aloha_data['Syn C [mg C m^-3]'] = aloha_data['Synecho [#/ml]']*204e-12*1e6"
   ]
  },
  {
   "cell_type": "markdown",
   "metadata": {},
   "source": [
    "### Averaging over the entire time-series\n",
    "We use the relevate time period for the ALOHA and BATS sites as discussed above. We average across all measurements at the same depth."
   ]
  },
  {
   "cell_type": "code",
   "execution_count": 10,
   "metadata": {},
   "outputs": [],
   "source": [
    "# Average ALOHA data\n",
    "avg_aloha = aloha_data.groupby('Depth [m]').mean()\n",
    "\n",
    "# Average BATS data\n",
    "avg_bats = bats_data.groupby('Depth [m]').mean()\n",
    "\n",
    "# Average ALOHA eukaryotic phytoplankton biomass\n",
    "avg_aloha_euk = aloha_phyto_euk.mean(axis=1)\n",
    "\n",
    "# Average BATS phytoplankton biomass\n",
    "avg_bats_phyto = bats_phyto.mean()"
   ]
  },
  {
   "cell_type": "markdown",
   "metadata": {},
   "source": [
    "#### Integration over the water column\n",
    "For the phytoplankton biomass data of the BATS site, measurements are already depth integrated. For the other measurements, we integrated measurements across the water column by multiplying the values by the volume of water in each water depth."
   ]
  },
  {
   "cell_type": "code",
   "execution_count": 11,
   "metadata": {},
   "outputs": [],
   "source": [
    "int_aloha = avg_aloha.mul(np.diff(np.append(0,avg_aloha.index)),axis=0).sum()\n",
    "int_bats = avg_bats.mul(np.diff(np.append(0,avg_bats.index)),axis=0).sum()\n",
    "int_aloha_euk = avg_aloha_euk.mul(np.diff(np.append(0,avg_aloha_euk.index)),axis=0).sum()"
   ]
  },
  {
   "cell_type": "markdown",
   "metadata": {},
   "source": [
    "#### Conversion of biomass to Rubisco mass\n",
    "First, we sum over all the carbon biomass of phytoplankton at the ALOHA site. We assume carbon is 50% of the dry weight of phytoplankton and that protein are also about 50% of the dry weight, so the carbon mass is equal to the protein mass. Then we use the average fraction of Rubisco out the total protein mass of 3%."
   ]
  },
  {
   "cell_type": "code",
   "execution_count": 12,
   "metadata": {},
   "outputs": [],
   "source": [
    "aloha_rub = (int_aloha[3:].sum() + int_aloha_euk)/1000*0.03\n",
    "bats_rub = avg_bats_phyto.sum()*0.03"
   ]
  },
  {
   "cell_type": "markdown",
   "metadata": {},
   "source": [
    "The last part in our analysis is dividing the GPP per unit area in each site by the total mass of Rubisco per unit area to attain the average rate of Rubisco at each site. We assume GPP is 2-fold larger than the measured NPP at each site. "
   ]
  },
  {
   "cell_type": "code",
   "execution_count": 13,
   "metadata": {},
   "outputs": [
    {
     "data": {
      "text/plain": [
       "1.6163237354465911"
      ]
     },
     "execution_count": 13,
     "metadata": {},
     "output_type": "execute_result"
    }
   ],
   "source": [
    "# Convert GPP to units of moles C per second\n",
    "aloha_tot_reactions = (int_aloha.loc['NPP [mg C m^-3]']*2/1000/sec_in_day/12)\n",
    "\n",
    "# The molecular weight of a rubisco per active site\n",
    "rub_mol_w = 7e4 # g/mol\n",
    "\n",
    "# Convert the total mass of rubisco into moles\n",
    "aloha_rub_mol = (aloha_rub/rub_mol_w)\n",
    "\n",
    "# Calculate the average rate of rubisco\n",
    "aloha_rate = aloha_tot_reactions/aloha_rub_mol # s^-1\n",
    "\n",
    "# Convert GPP to units of moles C per second\n",
    "bats_tot_reactions = (int_bats.loc['NPP [mg C m^-3 d^-1]']*2/1000/sec_in_day/12)\n",
    "\n",
    "# The molecular weight of a rubisco per active site\n",
    "rub_mol_w = 7e4 # g/mol\n",
    "\n",
    "# Convert the total mass of rubisco into moles\n",
    "bats_rub_mol = (bats_rub/rub_mol_w)\n",
    "\n",
    "# Calculate the average rate of rubisco\n",
    "bats_rate = bats_tot_reactions/bats_rub_mol # s^-1\n",
    "bats_rate"
   ]
  },
  {
   "cell_type": "markdown",
   "metadata": {},
   "source": [
    "We calculate the average rate between the two sites:"
   ]
  },
  {
   "cell_type": "code",
   "execution_count": 14,
   "metadata": {},
   "outputs": [
    {
     "data": {
      "text/markdown": [
       "___\n",
       "##### **Result**: \n",
       "\n",
       "Our best estimate for the average rate of Rubisco in the ocean based on data from ALOHA and BATS is 1.4 s^-1\n",
       "___"
      ],
      "text/plain": [
       "<IPython.core.display.Markdown object>"
      ]
     },
     "metadata": {},
     "output_type": "display_data"
    }
   ],
   "source": [
    "marine_avg  = np.mean([aloha_rate,bats_rate])\n",
    "dis_res('Our best estimate for the average rate of Rubisco in the ocean based on data from ALOHA and BATS is %.1f s^-1' %marine_avg)"
   ]
  },
  {
   "cell_type": "markdown",
   "metadata": {},
   "source": [
    "This value is about 2-fold higher than our best estimate of 0.6 s$^{-1}$."
   ]
  }
 ],
 "metadata": {
  "kernelspec": {
   "display_name": "Python 3",
   "language": "python",
   "name": "python3"
  },
  "language_info": {
   "codemirror_mode": {
    "name": "ipython",
    "version": 3
   },
   "file_extension": ".py",
   "mimetype": "text/x-python",
   "name": "python",
   "nbconvert_exporter": "python",
   "pygments_lexer": "ipython3",
   "version": "3.6.7"
  }
 },
 "nbformat": 4,
 "nbformat_minor": 2
}
