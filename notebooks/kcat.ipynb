{
 "cells": [
  {
   "cell_type": "code",
   "execution_count": 1,
   "metadata": {},
   "outputs": [
    {
     "name": "stderr",
     "output_type": "stream",
     "text": [
      "Loading required package: sp\n",
      "rgdal: version: 1.3-6, (SVN revision 773)\n",
      " Geospatial Data Abstraction Library extensions to R successfully loaded\n",
      " Loaded GDAL runtime: GDAL 2.3.2, released 2018/09/21\n",
      " Path to GDAL shared files: /usr/share/gdal\n",
      " GDAL binary built with GEOS: TRUE \n",
      " Loaded PROJ.4 runtime: Rel. 5.1.0, June 1st, 2018, [PJ_VERSION: 510]\n",
      " Path to PROJ.4 shared files: (autodetected)\n",
      " Linking to sp version: 1.3-1 \n",
      "Loading required package: viridisLite\n",
      "Loading required package: lattice\n",
      "Loading required package: latticeExtra\n",
      "Loading required package: RColorBrewer\n",
      "\n",
      "Attaching package: ‘latticeExtra’\n",
      "\n",
      "The following object is masked from ‘package:ggplot2’:\n",
      "\n",
      "    layer\n",
      "\n"
     ]
    }
   ],
   "source": [
    "# Import dependencies\n",
    "library(rgdal)\n",
    "library(raster)\n",
    "library(gdalUtils)\n",
    "library(\"readxl\")\n",
    "library(viridis)\n",
    "library(plyr)\n",
    "library(sp)\n",
    "library(ggplot2)\n",
    "library(rasterVis)\n",
    "library(gridExtra)\n",
    "library(grid)\n",
    "library(geosphere)\n",
    "# Define equiarea projection\n",
    "moll = '+proj=moll +lon_0=0 +x_0=0 +y_0=0 +datum=WGS84 +units=m +no_defs'"
   ]
  },
  {
   "cell_type": "markdown",
   "metadata": {},
   "source": [
    "# Estimating the maximal catalytic rate of terrestrial and marine Rubisco"
   ]
  },
  {
   "cell_type": "markdown",
   "metadata": {},
   "source": [
    "To estimate the maximal catalytic rate of Rubisco in the terrestrial and marine environment, we first gather data on the characteristic $k_{cat}$ of Rubisco in terrestrial and marine autotrophs at 25 ℃, and then correct for the average ambient temperature at which Rubisco is working on land or in the ocean.\n",
    "\n",
    "## Estimating the average $k_{cat}$ in the terrestrial and marine environment\n",
    "\n",
    "to estiamte the average $k_{cat}$ of Rubisco, we use a recent compilation of kinetic measurements from a wide array of Rubisco proteins in different species [Flamholz et al.](https://doi.org/10.1101/470021) to calculate the mean $k_{cat}$ of Rubisco in each group of autotrophs. Here is a sample of the data:"
   ]
  },
  {
   "cell_type": "code",
   "execution_count": 2,
   "metadata": {},
   "outputs": [
    {
     "name": "stderr",
     "output_type": "stream",
     "text": [
      "readxl works best with a newer version of the tibble package.\n",
      "You currently have tibble v1.4.2.\n",
      "Falling back to column name repair from tibble <= v1.4.2.\n",
      "Message displays once per session.\n",
      "Warning message in read_fun(path = enc2native(normalizePath(path)), sheet_i = sheet, :\n",
      "“Expecting numeric in T1170 / R1170C20: got 'HCO3-'”Warning message in read_fun(path = enc2native(normalizePath(path)), sheet_i = sheet, :\n",
      "“Expecting numeric in Y1170 / R1170C25: got 'C3 plants'”Warning message in read_fun(path = enc2native(normalizePath(path)), sheet_i = sheet, :\n",
      "“Expecting numeric in Z1170 / R1170C26: got 'Unclear what temperature this is at from the paper.'”Warning message in read_fun(path = enc2native(normalizePath(path)), sheet_i = sheet, :\n",
      "“Expecting numeric in T1171 / R1171C20: got 'HCO3-'”Warning message in read_fun(path = enc2native(normalizePath(path)), sheet_i = sheet, :\n",
      "“Expecting numeric in Y1171 / R1171C25: got 'Cyanobacteria'”Warning message in read_fun(path = enc2native(normalizePath(path)), sheet_i = sheet, :\n",
      "“Expecting numeric in Z1171 / R1171C26: got 'Heterologously expressed in Tobacco. Also data in the paper where rbcX is co-expressed - about the same.'”Warning message in read_fun(path = enc2native(normalizePath(path)), sheet_i = sheet, :\n",
      "“Expecting numeric in AA1171 / R1171C27: got 'Occhialini 2015'”"
     ]
    },
    {
     "data": {
      "text/html": [
       "<table>\n",
       "<thead><tr><th scope=col>species</th><th scope=col>identifier</th><th scope=col>primary</th><th scope=col>mutant</th><th scope=col>heterologous_expression</th><th scope=col>KC</th><th scope=col>KC_SD</th><th scope=col>vC</th><th scope=col>vC_SD</th><th scope=col>S</th><th scope=col>⋯</th><th scope=col>KRuBP</th><th scope=col>KRuBP_SD</th><th scope=col>temp_C</th><th scope=col>pH</th><th scope=col>isoform</th><th scope=col>taxonomy</th><th scope=col>note</th><th scope=col>short_ref</th><th scope=col>pmid_or_doi</th><th scope=col>citation</th></tr></thead>\n",
       "<tbody>\n",
       "\t<tr><td>Methanococcoides burtonii                                                                                                                                                                                                                                                                     </td><td>burtonii_coli_alonso                                                                                                                                                                                                                                                                          </td><td> 1                                                                                                                                                                                                                                                                                            </td><td> 0                                                                                                                                                                                                                                                                                            </td><td>E. coli                                                                                                                                                                                                                                                                                       </td><td>130.0                                                                                                                                                                                                                                                                                         </td><td>4.0                                                                                                                                                                                                                                                                                           </td><td>2.00                                                                                                                                                                                                                                                                                          </td><td>0.10                                                                                                                                                                                                                                                                                          </td><td>  1.18                                                                                                                                                                                                                                                                                        </td><td>⋯                                                                                                                                                                                                                                                                                             </td><td>0.13                                                                                                                                                                                                                                                                                          </td><td>0.02                                                                                                                                                                                                                                                                                          </td><td>25                                                                                                                                                                                                                                                                                            </td><td>7                                                                                                                                                                                                                                                                                             </td><td>2_3                                                                                                                                                                                                                                                                                           </td><td>Archaea                                                                                                                                                                                                                                                                                       </td><td>NA                                                                                                                                                                                                                                                                                            </td><td>Alonso 2009                                                                                                                                                                                                                                                                                   </td><td>19837658                                                                                                                                                                                                                                                                                      </td><td>Alonso, Hern√°n, Michelle J. Blayney, Jennifer L. Beck, and Spencer M. Whitney. 2009. ‚ÄúSubstrate-Induced Assembly of Methanococcoides Burtonii D-Ribulose-1,5-Bisphosphate Carboxylase/oxygenase Dimers into Decamers.‚Äù The Journal of Biological Chemistry 284 (49):33876‚Äì82.          </td></tr>\n",
       "\t<tr><td>Anacystis nidulans                                                                                                                                                                                                                                                                            </td><td>nidulans_bainbridge                                                                                                                                                                                                                                                                           </td><td> 1                                                                                                                                                                                                                                                                                            </td><td> 0                                                                                                                                                                                                                                                                                            </td><td>Unclear                                                                                                                                                                                                                                                                                       </td><td>   NA                                                                                                                                                                                                                                                                                         </td><td> NA                                                                                                                                                                                                                                                                                           </td><td>7.20                                                                                                                                                                                                                                                                                          </td><td>0.15                                                                                                                                                                                                                                                                                          </td><td> 46.30                                                                                                                                                                                                                                                                                        </td><td>⋯                                                                                                                                                                                                                                                                                             </td><td>  NA                                                                                                                                                                                                                                                                                          </td><td>  NA                                                                                                                                                                                                                                                                                          </td><td>25                                                                                                                                                                                                                                                                                            </td><td>8                                                                                                                                                                                                                                                                                             </td><td>1                                                                                                                                                                                                                                                                                             </td><td>Cyanobacteria                                                                                                                                                                                                                                                                                 </td><td>Methods not clear from paper, assumed pH 8 and T = 25 since the data are compared to papers for which that is the case.                                                                                                                                                                       </td><td>Bainbridge 1995                                                                                                                                                                                                                                                                               </td><td>https://doi.org/10.1093/jxb/46.special_issue.1272                                                                                                                                                                                                                                             </td><td>Bainbridge, G. et al. Engineering Rubisco to change its catalytic properties. J. Exp. Bot. 46, 1269‚Äì1276 (1995).                                                                                                                                                                            </td></tr>\n",
       "\t<tr><td>Setaria viridis                                                                                                                                                                                                                                                                               </td><td>viridis_boyd                                                                                                                                                                                                                                                                                  </td><td>NA                                                                                                                                                                                                                                                                                            </td><td>NA                                                                                                                                                                                                                                                                                            </td><td>NA                                                                                                                                                                                                                                                                                            </td><td>   NA                                                                                                                                                                                                                                                                                         </td><td> NA                                                                                                                                                                                                                                                                                           </td><td>5.44                                                                                                                                                                                                                                                                                          </td><td>0.44                                                                                                                                                                                                                                                                                          </td><td>    NA                                                                                                                                                                                                                                                                                        </td><td>⋯                                                                                                                                                                                                                                                                                             </td><td>  NA                                                                                                                                                                                                                                                                                          </td><td>  NA                                                                                                                                                                                                                                                                                          </td><td>25                                                                                                                                                                                                                                                                                            </td><td>7.7                                                                                                                                                                                                                                                                                           </td><td>1                                                                                                                                                                                                                                                                                             </td><td>C4 plants                                                                                                                                                                                                                                                                                     </td><td>CO2 measured directs only MIMS. Can calculate kcatO and KMs from the data here. kcatC is the only thing reported directly.                                                                                                                                                                    </td><td>Boyd 2015                                                                                                                                                                                                                                                                                     </td><td>26373659                                                                                                                                                                                                                                                                                      </td><td>Boyd RA, Gandin A, Cousins AB. 2015. Temperature responses of C4 photosynthesis: biochemical analysis of rubisco, phosphoenolpyruvate carboxylase, and carbonic anhydrase in Setaria viridis. Plant Physiology 169, 1850‚Äì1861.                                                              </td></tr>\n",
       "\t<tr><td>Limonium magallufianum                                                                                                                                                                                                                                                                        </td><td>magallufianum_galmes                                                                                                                                                                                                                                                                          </td><td> 1                                                                                                                                                                                                                                                                                            </td><td> 0                                                                                                                                                                                                                                                                                            </td><td>0                                                                                                                                                                                                                                                                                             </td><td>  7.0                                                                                                                                                                                                                                                                                         </td><td>0.3                                                                                                                                                                                                                                                                                           </td><td>2.60                                                                                                                                                                                                                                                                                          </td><td>0.10                                                                                                                                                                                                                                                                                          </td><td>111.00                                                                                                                                                                                                                                                                                        </td><td>⋯                                                                                                                                                                                                                                                                                             </td><td>  NA                                                                                                                                                                                                                                                                                          </td><td>  NA                                                                                                                                                                                                                                                                                          </td><td>25                                                                                                                                                                                                                                                                                            </td><td>8                                                                                                                                                                                                                                                                                             </td><td>1                                                                                                                                                                                                                                                                                             </td><td>C3 plants                                                                                                                                                                                                                                                                                     </td><td>Cites parry 2007 for S measurement, unclear pKa used...                                                                                                                                                                                                                                       </td><td>Galmes 2014a                                                                                                                                                                                                                                                                                  </td><td>24861241                                                                                                                                                                                                                                                                                      </td><td>Galm√©s, J., Andralojc, P. J., Kapralov, M. V., Flexas, J., Keys, A. J., Molins, A., Parry, M. A. J., and Conesa, M. √Ä. (2014). Environmentally driven evolution of Rubisco and improved photosynthesis and growth within the C3 genus Limonium (Plumbaginaceae). New Phytol. 203, 989‚Äì999.</td></tr>\n",
       "\t<tr><td>Limonium retusum                                                                                                                                                                                                                                                                              </td><td>retusum_galmes                                                                                                                                                                                                                                                                                </td><td> 1                                                                                                                                                                                                                                                                                            </td><td> 0                                                                                                                                                                                                                                                                                            </td><td>0                                                                                                                                                                                                                                                                                             </td><td>  7.1                                                                                                                                                                                                                                                                                         </td><td>0.4                                                                                                                                                                                                                                                                                           </td><td>2.10                                                                                                                                                                                                                                                                                          </td><td>0.10                                                                                                                                                                                                                                                                                          </td><td>121.00                                                                                                                                                                                                                                                                                        </td><td>⋯                                                                                                                                                                                                                                                                                             </td><td>  NA                                                                                                                                                                                                                                                                                          </td><td>  NA                                                                                                                                                                                                                                                                                          </td><td>25                                                                                                                                                                                                                                                                                            </td><td>8                                                                                                                                                                                                                                                                                             </td><td>1                                                                                                                                                                                                                                                                                             </td><td>C3 plants                                                                                                                                                                                                                                                                                     </td><td>Cites parry 2007 for S measurement, unclear pKa used...                                                                                                                                                                                                                                       </td><td>Galmes 2014a                                                                                                                                                                                                                                                                                  </td><td>24861241                                                                                                                                                                                                                                                                                      </td><td>Galm√©s, J., Andralojc, P. J., Kapralov, M. V., Flexas, J., Keys, A. J., Molins, A., Parry, M. A. J., and Conesa, M. √Ä. (2014). Environmentally driven evolution of Rubisco and improved photosynthesis and growth within the C3 genus Limonium (Plumbaginaceae). New Phytol. 203, 989‚Äì999.</td></tr>\n",
       "\t<tr><td>Limonium ejulabilis                                                                                                                                                                                                                                                                           </td><td>ejulabilis_galmes                                                                                                                                                                                                                                                                             </td><td> 1                                                                                                                                                                                                                                                                                            </td><td> 0                                                                                                                                                                                                                                                                                            </td><td>0                                                                                                                                                                                                                                                                                             </td><td>  7.6                                                                                                                                                                                                                                                                                         </td><td>0.2                                                                                                                                                                                                                                                                                           </td><td>2.00                                                                                                                                                                                                                                                                                          </td><td>0.20                                                                                                                                                                                                                                                                                          </td><td>116.00                                                                                                                                                                                                                                                                                        </td><td>⋯                                                                                                                                                                                                                                                                                             </td><td>  NA                                                                                                                                                                                                                                                                                          </td><td>  NA                                                                                                                                                                                                                                                                                          </td><td>25                                                                                                                                                                                                                                                                                            </td><td>8                                                                                                                                                                                                                                                                                             </td><td>1                                                                                                                                                                                                                                                                                             </td><td>C3 plants                                                                                                                                                                                                                                                                                     </td><td>Cites parry 2007 for S measurement, unclear pKa used...                                                                                                                                                                                                                                       </td><td>Galmes 2014a                                                                                                                                                                                                                                                                                  </td><td>24861241                                                                                                                                                                                                                                                                                      </td><td>Galm√©s, J., Andralojc, P. J., Kapralov, M. V., Flexas, J., Keys, A. J., Molins, A., Parry, M. A. J., and Conesa, M. √Ä. (2014). Environmentally driven evolution of Rubisco and improved photosynthesis and growth within the C3 genus Limonium (Plumbaginaceae). New Phytol. 203, 989‚Äì999.</td></tr>\n",
       "</tbody>\n",
       "</table>\n"
      ],
      "text/latex": [
       "\\begin{tabular}{r|llllllllllllllllllllllllllllllllll}\n",
       " species & identifier & primary & mutant & heterologous\\_expression & KC & KC\\_SD & vC & vC\\_SD & S & ⋯ & KRuBP & KRuBP\\_SD & temp\\_C & pH & isoform & taxonomy & note & short\\_ref & pmid\\_or\\_doi & citation\\\\\n",
       "\\hline\n",
       "\t Methanococcoides burtonii                                                                                                                                                                                                                                                                      & burtonii\\_coli\\_alonso                                                                                                                                                                                                                                                                       &  1                                                                                                                                                                                                                                                                                             &  0                                                                                                                                                                                                                                                                                             & E. coli                                                                                                                                                                                                                                                                                        & 130.0                                                                                                                                                                                                                                                                                          & 4.0                                                                                                                                                                                                                                                                                            & 2.00                                                                                                                                                                                                                                                                                           & 0.10                                                                                                                                                                                                                                                                                           &   1.18                                                                                                                                                                                                                                                                                         & ⋯                                                                                                                                                                                                                                                                                              & 0.13                                                                                                                                                                                                                                                                                           & 0.02                                                                                                                                                                                                                                                                                           & 25                                                                                                                                                                                                                                                                                             & 7                                                                                                                                                                                                                                                                                              & 2\\_3                                                                                                                                                                                                                                                                                          & Archaea                                                                                                                                                                                                                                                                                        & NA                                                                                                                                                                                                                                                                                             & Alonso 2009                                                                                                                                                                                                                                                                                    & 19837658                                                                                                                                                                                                                                                                                       & Alonso, Hern√°n, Michelle J. Blayney, Jennifer L. Beck, and Spencer M. Whitney. 2009. ‚ÄúSubstrate-Induced Assembly of Methanococcoides Burtonii D-Ribulose-1,5-Bisphosphate Carboxylase/oxygenase Dimers into Decamers.‚Äù The Journal of Biological Chemistry 284 (49):33876‚Äì82.          \\\\\n",
       "\t Anacystis nidulans                                                                                                                                                                                                                                                                             & nidulans\\_bainbridge                                                                                                                                                                                                                                                                          &  1                                                                                                                                                                                                                                                                                             &  0                                                                                                                                                                                                                                                                                             & Unclear                                                                                                                                                                                                                                                                                        &    NA                                                                                                                                                                                                                                                                                          &  NA                                                                                                                                                                                                                                                                                            & 7.20                                                                                                                                                                                                                                                                                           & 0.15                                                                                                                                                                                                                                                                                           &  46.30                                                                                                                                                                                                                                                                                         & ⋯                                                                                                                                                                                                                                                                                              &   NA                                                                                                                                                                                                                                                                                           &   NA                                                                                                                                                                                                                                                                                           & 25                                                                                                                                                                                                                                                                                             & 8                                                                                                                                                                                                                                                                                              & 1                                                                                                                                                                                                                                                                                              & Cyanobacteria                                                                                                                                                                                                                                                                                  & Methods not clear from paper, assumed pH 8 and T = 25 since the data are compared to papers for which that is the case.                                                                                                                                                                        & Bainbridge 1995                                                                                                                                                                                                                                                                                & https://doi.org/10.1093/jxb/46.special\\_issue.1272                                                                                                                                                                                                                                            & Bainbridge, G. et al. Engineering Rubisco to change its catalytic properties. J. Exp. Bot. 46, 1269‚Äì1276 (1995).                                                                                                                                                                            \\\\\n",
       "\t Setaria viridis                                                                                                                                                                                                                                                                                & viridis\\_boyd                                                                                                                                                                                                                                                                                 & NA                                                                                                                                                                                                                                                                                             & NA                                                                                                                                                                                                                                                                                             & NA                                                                                                                                                                                                                                                                                             &    NA                                                                                                                                                                                                                                                                                          &  NA                                                                                                                                                                                                                                                                                            & 5.44                                                                                                                                                                                                                                                                                           & 0.44                                                                                                                                                                                                                                                                                           &     NA                                                                                                                                                                                                                                                                                         & ⋯                                                                                                                                                                                                                                                                                              &   NA                                                                                                                                                                                                                                                                                           &   NA                                                                                                                                                                                                                                                                                           & 25                                                                                                                                                                                                                                                                                             & 7.7                                                                                                                                                                                                                                                                                            & 1                                                                                                                                                                                                                                                                                              & C4 plants                                                                                                                                                                                                                                                                                      & CO2 measured directs only MIMS. Can calculate kcatO and KMs from the data here. kcatC is the only thing reported directly.                                                                                                                                                                     & Boyd 2015                                                                                                                                                                                                                                                                                      & 26373659                                                                                                                                                                                                                                                                                       & Boyd RA, Gandin A, Cousins AB. 2015. Temperature responses of C4 photosynthesis: biochemical analysis of rubisco, phosphoenolpyruvate carboxylase, and carbonic anhydrase in Setaria viridis. Plant Physiology 169, 1850‚Äì1861.                                                              \\\\\n",
       "\t Limonium magallufianum                                                                                                                                                                                                                                                                         & magallufianum\\_galmes                                                                                                                                                                                                                                                                         &  1                                                                                                                                                                                                                                                                                             &  0                                                                                                                                                                                                                                                                                             & 0                                                                                                                                                                                                                                                                                              &   7.0                                                                                                                                                                                                                                                                                          & 0.3                                                                                                                                                                                                                                                                                            & 2.60                                                                                                                                                                                                                                                                                           & 0.10                                                                                                                                                                                                                                                                                           & 111.00                                                                                                                                                                                                                                                                                         & ⋯                                                                                                                                                                                                                                                                                              &   NA                                                                                                                                                                                                                                                                                           &   NA                                                                                                                                                                                                                                                                                           & 25                                                                                                                                                                                                                                                                                             & 8                                                                                                                                                                                                                                                                                              & 1                                                                                                                                                                                                                                                                                              & C3 plants                                                                                                                                                                                                                                                                                      & Cites parry 2007 for S measurement, unclear pKa used...                                                                                                                                                                                                                                        & Galmes 2014a                                                                                                                                                                                                                                                                                   & 24861241                                                                                                                                                                                                                                                                                       & Galm√©s, J., Andralojc, P. J., Kapralov, M. V., Flexas, J., Keys, A. J., Molins, A., Parry, M. A. J., and Conesa, M. √Ä. (2014). Environmentally driven evolution of Rubisco and improved photosynthesis and growth within the C3 genus Limonium (Plumbaginaceae). New Phytol. 203, 989‚Äì999.\\\\\n",
       "\t Limonium retusum                                                                                                                                                                                                                                                                               & retusum\\_galmes                                                                                                                                                                                                                                                                               &  1                                                                                                                                                                                                                                                                                             &  0                                                                                                                                                                                                                                                                                             & 0                                                                                                                                                                                                                                                                                              &   7.1                                                                                                                                                                                                                                                                                          & 0.4                                                                                                                                                                                                                                                                                            & 2.10                                                                                                                                                                                                                                                                                           & 0.10                                                                                                                                                                                                                                                                                           & 121.00                                                                                                                                                                                                                                                                                         & ⋯                                                                                                                                                                                                                                                                                              &   NA                                                                                                                                                                                                                                                                                           &   NA                                                                                                                                                                                                                                                                                           & 25                                                                                                                                                                                                                                                                                             & 8                                                                                                                                                                                                                                                                                              & 1                                                                                                                                                                                                                                                                                              & C3 plants                                                                                                                                                                                                                                                                                      & Cites parry 2007 for S measurement, unclear pKa used...                                                                                                                                                                                                                                        & Galmes 2014a                                                                                                                                                                                                                                                                                   & 24861241                                                                                                                                                                                                                                                                                       & Galm√©s, J., Andralojc, P. J., Kapralov, M. V., Flexas, J., Keys, A. J., Molins, A., Parry, M. A. J., and Conesa, M. √Ä. (2014). Environmentally driven evolution of Rubisco and improved photosynthesis and growth within the C3 genus Limonium (Plumbaginaceae). New Phytol. 203, 989‚Äì999.\\\\\n",
       "\t Limonium ejulabilis                                                                                                                                                                                                                                                                            & ejulabilis\\_galmes                                                                                                                                                                                                                                                                            &  1                                                                                                                                                                                                                                                                                             &  0                                                                                                                                                                                                                                                                                             & 0                                                                                                                                                                                                                                                                                              &   7.6                                                                                                                                                                                                                                                                                          & 0.2                                                                                                                                                                                                                                                                                            & 2.00                                                                                                                                                                                                                                                                                           & 0.20                                                                                                                                                                                                                                                                                           & 116.00                                                                                                                                                                                                                                                                                         & ⋯                                                                                                                                                                                                                                                                                              &   NA                                                                                                                                                                                                                                                                                           &   NA                                                                                                                                                                                                                                                                                           & 25                                                                                                                                                                                                                                                                                             & 8                                                                                                                                                                                                                                                                                              & 1                                                                                                                                                                                                                                                                                              & C3 plants                                                                                                                                                                                                                                                                                      & Cites parry 2007 for S measurement, unclear pKa used...                                                                                                                                                                                                                                        & Galmes 2014a                                                                                                                                                                                                                                                                                   & 24861241                                                                                                                                                                                                                                                                                       & Galm√©s, J., Andralojc, P. J., Kapralov, M. V., Flexas, J., Keys, A. J., Molins, A., Parry, M. A. J., and Conesa, M. √Ä. (2014). Environmentally driven evolution of Rubisco and improved photosynthesis and growth within the C3 genus Limonium (Plumbaginaceae). New Phytol. 203, 989‚Äì999.\\\\\n",
       "\\end{tabular}\n"
      ],
      "text/markdown": [
       "\n",
       "species | identifier | primary | mutant | heterologous_expression | KC | KC_SD | vC | vC_SD | S | ⋯ | KRuBP | KRuBP_SD | temp_C | pH | isoform | taxonomy | note | short_ref | pmid_or_doi | citation | \n",
       "|---|---|---|---|---|---|\n",
       "| Methanococcoides burtonii                                                                                                                                                                                                                                                                      | burtonii_coli_alonso                                                                                                                                                                                                                                                                           |  1                                                                                                                                                                                                                                                                                             |  0                                                                                                                                                                                                                                                                                             | E. coli                                                                                                                                                                                                                                                                                        | 130.0                                                                                                                                                                                                                                                                                          | 4.0                                                                                                                                                                                                                                                                                            | 2.00                                                                                                                                                                                                                                                                                           | 0.10                                                                                                                                                                                                                                                                                           |   1.18                                                                                                                                                                                                                                                                                         | ⋯                                                                                                                                                                                                                                                                                              | 0.13                                                                                                                                                                                                                                                                                           | 0.02                                                                                                                                                                                                                                                                                           | 25                                                                                                                                                                                                                                                                                             | 7                                                                                                                                                                                                                                                                                              | 2_3                                                                                                                                                                                                                                                                                            | Archaea                                                                                                                                                                                                                                                                                        | NA                                                                                                                                                                                                                                                                                             | Alonso 2009                                                                                                                                                                                                                                                                                    | 19837658                                                                                                                                                                                                                                                                                       | Alonso, Hern√°n, Michelle J. Blayney, Jennifer L. Beck, and Spencer M. Whitney. 2009. ‚ÄúSubstrate-Induced Assembly of Methanococcoides Burtonii D-Ribulose-1,5-Bisphosphate Carboxylase/oxygenase Dimers into Decamers.‚Äù The Journal of Biological Chemistry 284 (49):33876‚Äì82.           | \n",
       "| Anacystis nidulans                                                                                                                                                                                                                                                                             | nidulans_bainbridge                                                                                                                                                                                                                                                                            |  1                                                                                                                                                                                                                                                                                             |  0                                                                                                                                                                                                                                                                                             | Unclear                                                                                                                                                                                                                                                                                        |    NA                                                                                                                                                                                                                                                                                          |  NA                                                                                                                                                                                                                                                                                            | 7.20                                                                                                                                                                                                                                                                                           | 0.15                                                                                                                                                                                                                                                                                           |  46.30                                                                                                                                                                                                                                                                                         | ⋯                                                                                                                                                                                                                                                                                              |   NA                                                                                                                                                                                                                                                                                           |   NA                                                                                                                                                                                                                                                                                           | 25                                                                                                                                                                                                                                                                                             | 8                                                                                                                                                                                                                                                                                              | 1                                                                                                                                                                                                                                                                                              | Cyanobacteria                                                                                                                                                                                                                                                                                  | Methods not clear from paper, assumed pH 8 and T = 25 since the data are compared to papers for which that is the case.                                                                                                                                                                        | Bainbridge 1995                                                                                                                                                                                                                                                                                | https://doi.org/10.1093/jxb/46.special_issue.1272                                                                                                                                                                                                                                              | Bainbridge, G. et al. Engineering Rubisco to change its catalytic properties. J. Exp. Bot. 46, 1269‚Äì1276 (1995).                                                                                                                                                                             | \n",
       "| Setaria viridis                                                                                                                                                                                                                                                                                | viridis_boyd                                                                                                                                                                                                                                                                                   | NA                                                                                                                                                                                                                                                                                             | NA                                                                                                                                                                                                                                                                                             | NA                                                                                                                                                                                                                                                                                             |    NA                                                                                                                                                                                                                                                                                          |  NA                                                                                                                                                                                                                                                                                            | 5.44                                                                                                                                                                                                                                                                                           | 0.44                                                                                                                                                                                                                                                                                           |     NA                                                                                                                                                                                                                                                                                         | ⋯                                                                                                                                                                                                                                                                                              |   NA                                                                                                                                                                                                                                                                                           |   NA                                                                                                                                                                                                                                                                                           | 25                                                                                                                                                                                                                                                                                             | 7.7                                                                                                                                                                                                                                                                                            | 1                                                                                                                                                                                                                                                                                              | C4 plants                                                                                                                                                                                                                                                                                      | CO2 measured directs only MIMS. Can calculate kcatO and KMs from the data here. kcatC is the only thing reported directly.                                                                                                                                                                     | Boyd 2015                                                                                                                                                                                                                                                                                      | 26373659                                                                                                                                                                                                                                                                                       | Boyd RA, Gandin A, Cousins AB. 2015. Temperature responses of C4 photosynthesis: biochemical analysis of rubisco, phosphoenolpyruvate carboxylase, and carbonic anhydrase in Setaria viridis. Plant Physiology 169, 1850‚Äì1861.                                                               | \n",
       "| Limonium magallufianum                                                                                                                                                                                                                                                                         | magallufianum_galmes                                                                                                                                                                                                                                                                           |  1                                                                                                                                                                                                                                                                                             |  0                                                                                                                                                                                                                                                                                             | 0                                                                                                                                                                                                                                                                                              |   7.0                                                                                                                                                                                                                                                                                          | 0.3                                                                                                                                                                                                                                                                                            | 2.60                                                                                                                                                                                                                                                                                           | 0.10                                                                                                                                                                                                                                                                                           | 111.00                                                                                                                                                                                                                                                                                         | ⋯                                                                                                                                                                                                                                                                                              |   NA                                                                                                                                                                                                                                                                                           |   NA                                                                                                                                                                                                                                                                                           | 25                                                                                                                                                                                                                                                                                             | 8                                                                                                                                                                                                                                                                                              | 1                                                                                                                                                                                                                                                                                              | C3 plants                                                                                                                                                                                                                                                                                      | Cites parry 2007 for S measurement, unclear pKa used...                                                                                                                                                                                                                                        | Galmes 2014a                                                                                                                                                                                                                                                                                   | 24861241                                                                                                                                                                                                                                                                                       | Galm√©s, J., Andralojc, P. J., Kapralov, M. V., Flexas, J., Keys, A. J., Molins, A., Parry, M. A. J., and Conesa, M. √Ä. (2014). Environmentally driven evolution of Rubisco and improved photosynthesis and growth within the C3 genus Limonium (Plumbaginaceae). New Phytol. 203, 989‚Äì999. | \n",
       "| Limonium retusum                                                                                                                                                                                                                                                                               | retusum_galmes                                                                                                                                                                                                                                                                                 |  1                                                                                                                                                                                                                                                                                             |  0                                                                                                                                                                                                                                                                                             | 0                                                                                                                                                                                                                                                                                              |   7.1                                                                                                                                                                                                                                                                                          | 0.4                                                                                                                                                                                                                                                                                            | 2.10                                                                                                                                                                                                                                                                                           | 0.10                                                                                                                                                                                                                                                                                           | 121.00                                                                                                                                                                                                                                                                                         | ⋯                                                                                                                                                                                                                                                                                              |   NA                                                                                                                                                                                                                                                                                           |   NA                                                                                                                                                                                                                                                                                           | 25                                                                                                                                                                                                                                                                                             | 8                                                                                                                                                                                                                                                                                              | 1                                                                                                                                                                                                                                                                                              | C3 plants                                                                                                                                                                                                                                                                                      | Cites parry 2007 for S measurement, unclear pKa used...                                                                                                                                                                                                                                        | Galmes 2014a                                                                                                                                                                                                                                                                                   | 24861241                                                                                                                                                                                                                                                                                       | Galm√©s, J., Andralojc, P. J., Kapralov, M. V., Flexas, J., Keys, A. J., Molins, A., Parry, M. A. J., and Conesa, M. √Ä. (2014). Environmentally driven evolution of Rubisco and improved photosynthesis and growth within the C3 genus Limonium (Plumbaginaceae). New Phytol. 203, 989‚Äì999. | \n",
       "| Limonium ejulabilis                                                                                                                                                                                                                                                                            | ejulabilis_galmes                                                                                                                                                                                                                                                                              |  1                                                                                                                                                                                                                                                                                             |  0                                                                                                                                                                                                                                                                                             | 0                                                                                                                                                                                                                                                                                              |   7.6                                                                                                                                                                                                                                                                                          | 0.2                                                                                                                                                                                                                                                                                            | 2.00                                                                                                                                                                                                                                                                                           | 0.20                                                                                                                                                                                                                                                                                           | 116.00                                                                                                                                                                                                                                                                                         | ⋯                                                                                                                                                                                                                                                                                              |   NA                                                                                                                                                                                                                                                                                           |   NA                                                                                                                                                                                                                                                                                           | 25                                                                                                                                                                                                                                                                                             | 8                                                                                                                                                                                                                                                                                              | 1                                                                                                                                                                                                                                                                                              | C3 plants                                                                                                                                                                                                                                                                                      | Cites parry 2007 for S measurement, unclear pKa used...                                                                                                                                                                                                                                        | Galmes 2014a                                                                                                                                                                                                                                                                                   | 24861241                                                                                                                                                                                                                                                                                       | Galm√©s, J., Andralojc, P. J., Kapralov, M. V., Flexas, J., Keys, A. J., Molins, A., Parry, M. A. J., and Conesa, M. √Ä. (2014). Environmentally driven evolution of Rubisco and improved photosynthesis and growth within the C3 genus Limonium (Plumbaginaceae). New Phytol. 203, 989‚Äì999. | \n",
       "\n",
       "\n"
      ],
      "text/plain": [
       "  species                   identifier           primary mutant\n",
       "1 Methanococcoides burtonii burtonii_coli_alonso  1       0    \n",
       "2 Anacystis nidulans        nidulans_bainbridge   1       0    \n",
       "3 Setaria viridis           viridis_boyd         NA      NA    \n",
       "4 Limonium magallufianum    magallufianum_galmes  1       0    \n",
       "5 Limonium retusum          retusum_galmes        1       0    \n",
       "6 Limonium ejulabilis       ejulabilis_galmes     1       0    \n",
       "  heterologous_expression KC    KC_SD vC   vC_SD S      ⋯ KRuBP KRuBP_SD temp_C\n",
       "1 E. coli                 130.0 4.0   2.00 0.10    1.18 ⋯ 0.13  0.02     25    \n",
       "2 Unclear                    NA  NA   7.20 0.15   46.30 ⋯   NA    NA     25    \n",
       "3 NA                         NA  NA   5.44 0.44      NA ⋯   NA    NA     25    \n",
       "4 0                         7.0 0.3   2.60 0.10  111.00 ⋯   NA    NA     25    \n",
       "5 0                         7.1 0.4   2.10 0.10  121.00 ⋯   NA    NA     25    \n",
       "6 0                         7.6 0.2   2.00 0.20  116.00 ⋯   NA    NA     25    \n",
       "  pH  isoform taxonomy     \n",
       "1 7   2_3     Archaea      \n",
       "2 8   1       Cyanobacteria\n",
       "3 7.7 1       C4 plants    \n",
       "4 8   1       C3 plants    \n",
       "5 8   1       C3 plants    \n",
       "6 8   1       C3 plants    \n",
       "  note                                                                                                                      \n",
       "1 NA                                                                                                                        \n",
       "2 Methods not clear from paper, assumed pH 8 and T = 25 since the data are compared to papers for which that is the case.   \n",
       "3 CO2 measured directs only MIMS. Can calculate kcatO and KMs from the data here. kcatC is the only thing reported directly.\n",
       "4 Cites parry 2007 for S measurement, unclear pKa used...                                                                   \n",
       "5 Cites parry 2007 for S measurement, unclear pKa used...                                                                   \n",
       "6 Cites parry 2007 for S measurement, unclear pKa used...                                                                   \n",
       "  short_ref       pmid_or_doi                                      \n",
       "1 Alonso 2009     19837658                                         \n",
       "2 Bainbridge 1995 https://doi.org/10.1093/jxb/46.special_issue.1272\n",
       "3 Boyd 2015       26373659                                         \n",
       "4 Galmes 2014a    24861241                                         \n",
       "5 Galmes 2014a    24861241                                         \n",
       "6 Galmes 2014a    24861241                                         \n",
       "  citation                                                                                                                                                                                                                                                                                      \n",
       "1 Alonso, Hern√°n, Michelle J. Blayney, Jennifer L. Beck, and Spencer M. Whitney. 2009. ‚ÄúSubstrate-Induced Assembly of Methanococcoides Burtonii D-Ribulose-1,5-Bisphosphate Carboxylase/oxygenase Dimers into Decamers.‚Äù The Journal of Biological Chemistry 284 (49):33876‚Äì82.          \n",
       "2 Bainbridge, G. et al. Engineering Rubisco to change its catalytic properties. J. Exp. Bot. 46, 1269‚Äì1276 (1995).                                                                                                                                                                            \n",
       "3 Boyd RA, Gandin A, Cousins AB. 2015. Temperature responses of C4 photosynthesis: biochemical analysis of rubisco, phosphoenolpyruvate carboxylase, and carbonic anhydrase in Setaria viridis. Plant Physiology 169, 1850‚Äì1861.                                                              \n",
       "4 Galm√©s, J., Andralojc, P. J., Kapralov, M. V., Flexas, J., Keys, A. J., Molins, A., Parry, M. A. J., and Conesa, M. √Ä. (2014). Environmentally driven evolution of Rubisco and improved photosynthesis and growth within the C3 genus Limonium (Plumbaginaceae). New Phytol. 203, 989‚Äì999.\n",
       "5 Galm√©s, J., Andralojc, P. J., Kapralov, M. V., Flexas, J., Keys, A. J., Molins, A., Parry, M. A. J., and Conesa, M. √Ä. (2014). Environmentally driven evolution of Rubisco and improved photosynthesis and growth within the C3 genus Limonium (Plumbaginaceae). New Phytol. 203, 989‚Äì999.\n",
       "6 Galm√©s, J., Andralojc, P. J., Kapralov, M. V., Flexas, J., Keys, A. J., Molins, A., Parry, M. A. J., and Conesa, M. √Ä. (2014). Environmentally driven evolution of Rubisco and improved photosynthesis and growth within the C3 genus Limonium (Plumbaginaceae). New Phytol. 203, 989‚Äì999."
      ]
     },
     "metadata": {},
     "output_type": "display_data"
    }
   ],
   "source": [
    "# Load data\n",
    "rubisco_data = read_excel('../data/literature_data.xlsx','kinetic_data',skip=1)\n",
    "\n",
    "# Keep only data with kcat values\n",
    "filt_rub_data = rubisco_data[!is.na(rubisco_data$vC),]\n",
    "head(filt_rub_data)"
   ]
  },
  {
   "cell_type": "markdown",
   "metadata": {},
   "source": [
    "First, we calculate the mean $k_{cat}$ for each taxonomic group:"
   ]
  },
  {
   "cell_type": "code",
   "execution_count": 3,
   "metadata": {},
   "outputs": [],
   "source": [
    "group_mean = aggregate(filt_rub_data$vC, by=list(filt_rub_data$taxonomy), FUN=mean)"
   ]
  },
  {
   "cell_type": "markdown",
   "metadata": {},
   "source": [
    "For the marine environment, we use data on the biomass of each plankton group ([Bar-On et al.](https://dx.doi.org/10.1073/pnas.1711842115)) to estimate the mean $k_{cat}$ in the marine environment:"
   ]
  },
  {
   "cell_type": "code",
   "execution_count": 4,
   "metadata": {},
   "outputs": [
    {
     "data": {
      "text/html": [
       "'We estimate the mean kcat of Rubisco in the marine environment is 4.2 s^-1'"
      ],
      "text/latex": [
       "'We estimate the mean kcat of Rubisco in the marine environment is 4.2 s\\textasciicircum{}-1'"
      ],
      "text/markdown": [
       "'We estimate the mean kcat of Rubisco in the marine environment is 4.2 s^-1'"
      ],
      "text/plain": [
       "[1] \"We estimate the mean kcat of Rubisco in the marine environment is 4.2 s^-1\""
      ]
     },
     "metadata": {},
     "output_type": "display_data"
    }
   ],
   "source": [
    "# Load data on the biomass of each plankton group\n",
    "marine_biomass = read_excel('../data/literature_data.xlsx','marine_phytoplankton_biomass',skip=1)\n",
    "\n",
    "# Group data based on the group of Rubisco in the Rubisco data\n",
    "group_biomass = aggregate(marine_biomass$'Biomass [Gt C]', by=list(marine_biomass$'Rubisco group'), FUN=sum)\n",
    "\n",
    "# Normalize data to fraction out of the total biomass\n",
    "group_biomass$x = group_biomass$x/sum(group_biomass$x)\n",
    "\n",
    "# For the group 'Haptophyte & Dinoflagellate' use data from Haptophytes\n",
    "group_mean[nrow(group_mean) + 1,] = list('Haptophyte & Dinoflagellate',group_mean[group_mean$Group.1 =='Haptophyte',2])\n",
    "\n",
    "# Calculate the weighted mean of the kcat values based on the fraction of the total marine autotrophic biomass\n",
    "mean_marine_kcat = weighted.mean(x = group_mean[group_mean$Group.1 %in% group_biomass$Group.1,'x'], w= group_biomass$x)\n",
    "\n",
    "sprintf('We estimate the mean kcat of Rubisco in the marine environment is %.1f s^-1',mean_marine_kcat)"
   ]
  },
  {
   "cell_type": "markdown",
   "metadata": {},
   "source": [
    "For the terrestrial environment, we use the mean value of all the plant species found in the groups: Bryophyte, C3 plants, C3-C4 plants, C4 plants, C4-like plants, Fern, and Gymnosperm:"
   ]
  },
  {
   "cell_type": "code",
   "execution_count": 5,
   "metadata": {},
   "outputs": [
    {
     "data": {
      "text/html": [
       "'We estimate the mean kcat of Rubisco in the terrestrial environment is 3.3 s^-1'"
      ],
      "text/latex": [
       "'We estimate the mean kcat of Rubisco in the terrestrial environment is 3.3 s\\textasciicircum{}-1'"
      ],
      "text/markdown": [
       "'We estimate the mean kcat of Rubisco in the terrestrial environment is 3.3 s^-1'"
      ],
      "text/plain": [
       "[1] \"We estimate the mean kcat of Rubisco in the terrestrial environment is 3.3 s^-1\""
      ]
     },
     "metadata": {},
     "output_type": "display_data"
    }
   ],
   "source": [
    "# Take only land plant groups\n",
    "land_rub = filt_rub_data[filt_rub_data$taxonomy %in% list('Bryophyte', 'C3 plants', 'C3-C4 plants', 'C4 plants', 'C4-like plants', 'Fern', 'Gymnosperm'),]\n",
    "\n",
    "# Calculate the mean kcat of terrestrial plants\n",
    "mean_terrestrial_kcat = mean(land_rub$vC)\n",
    "\n",
    "sprintf('We estimate the mean kcat of Rubisco in the terrestrial environment is %.1f s^-1',mean_terrestrial_kcat)"
   ]
  },
  {
   "cell_type": "markdown",
   "metadata": {},
   "source": [
    "## Estimating the average ambient temperature of Rubisco in the terrestrial and marine environment\n",
    "To estimate the maximal rate of Rubisco in ambient conditions, we need to estimate the average temperature Rubisco in working in in the marine and terrestrial environment. For that purpose, we rely on remote sensing data. For the terrestrial environment, we rely on data of the a monthly mean of  NPP at each location on the globe [link](https://neo.sci.gsfc.nasa.gov/view.php?datasetId=MOD17A2_M_PSN) as well as data on the monthly mean last surface temperature [link](https://neo.sci.gsfc.nasa.gov/view.php?datasetId=MOD_LSTD_M). For the marine environment, we rely on chlorophyll concentration data as a proxy for productivity in the ocean [link](https://neo.sci.gsfc.nasa.gov/view.php?datasetId=MY1DMM_CHLORA), and on reanalysis data on the sea surface temperature at different depths [link](ftp://ecco.jpl.nasa.gov/Version4/Release3/interp_monthly/THETA/). Please note that the data file for the reanalysis of the sea surface temperature is not found in the github of this paper, but needs to be downloaded from ftp://ecco.jpl.nasa.gov/Version4/Release3/interp_monthly/THETA/THETA.2015.nc and placed in the `data/temperature/ocean/SST/` folder.\n",
    "\n",
    "Both for the marine and terrestrial environments, we calculate the annual average temperature, weighted by the productivity at each location (NPP in the case of terrestrial productivity, or chlorophyll in the case of marine productivity).\n",
    "\n",
    "First, we calculate the ambient temperature at which carbon fixation occurs in the ocean. We calculate the integrated mean temperature at the first 100 m of the ocean:"
   ]
  },
  {
   "cell_type": "code",
   "execution_count": 6,
   "metadata": {},
   "outputs": [
    {
     "name": "stderr",
     "output_type": "stream",
     "text": [
      "Loading required namespace: ncdf4\n",
      "Warning message in rgdal::rawTransform(projto_int, projfrom, nrow(xy), xy[, 1], :\n",
      "“55946 projected point(s) not finite”Warning message in rgdal::rawTransform(projto_int, projfrom, nrow(xy), xy[, 1], :\n",
      "“55946 projected point(s) not finite”Warning message in rgdal::rawTransform(projto_int, projfrom, nrow(xy), xy[, 1], :\n",
      "“55946 projected point(s) not finite”Warning message in rgdal::rawTransform(projto_int, projfrom, nrow(xy), xy[, 1], :\n",
      "“55946 projected point(s) not finite”Warning message in rgdal::rawTransform(projto_int, projfrom, nrow(xy), xy[, 1], :\n",
      "“55946 projected point(s) not finite”Warning message in rgdal::rawTransform(projto_int, projfrom, nrow(xy), xy[, 1], :\n",
      "“55946 projected point(s) not finite”Warning message in rgdal::rawTransform(projto_int, projfrom, nrow(xy), xy[, 1], :\n",
      "“55946 projected point(s) not finite”Warning message in rgdal::rawTransform(projto_int, projfrom, nrow(xy), xy[, 1], :\n",
      "“55946 projected point(s) not finite”Warning message in rgdal::rawTransform(projto_int, projfrom, nrow(xy), xy[, 1], :\n",
      "“55946 projected point(s) not finite”Warning message in rgdal::rawTransform(projto_int, projfrom, nrow(xy), xy[, 1], :\n",
      "“55946 projected point(s) not finite”Warning message in rgdal::rawTransform(projto_int, projfrom, nrow(xy), xy[, 1], :\n",
      "“55946 projected point(s) not finite”Warning message in rgdal::rawTransform(projto_int, projfrom, nrow(xy), xy[, 1], :\n",
      "“55946 projected point(s) not finite”Warning message in rgdal::rawTransform(projto_int, projfrom, nrow(xy), xy[, 1], :\n",
      "“55946 projected point(s) not finite”Warning message in rgdal::rawTransform(projto_int, projfrom, nrow(xy), xy[, 1], :\n",
      "“55946 projected point(s) not finite”Warning message in rgdal::rawTransform(projto_int, projfrom, nrow(xy), xy[, 1], :\n",
      "“55946 projected point(s) not finite”Warning message in rgdal::rawTransform(projto_int, projfrom, nrow(xy), xy[, 1], :\n",
      "“55946 projected point(s) not finite”Warning message in rgdal::rawTransform(projto_int, projfrom, nrow(xy), xy[, 1], :\n",
      "“55946 projected point(s) not finite”Warning message in rgdal::rawTransform(projto_int, projfrom, nrow(xy), xy[, 1], :\n",
      "“55946 projected point(s) not finite”Warning message in rgdal::rawTransform(projto_int, projfrom, nrow(xy), xy[, 1], :\n",
      "“55946 projected point(s) not finite”Warning message in rgdal::rawTransform(projto_int, projfrom, nrow(xy), xy[, 1], :\n",
      "“55946 projected point(s) not finite”Warning message in rgdal::rawTransform(projto_int, projfrom, nrow(xy), xy[, 1], :\n",
      "“55946 projected point(s) not finite”Warning message in rgdal::rawTransform(projto_int, projfrom, nrow(xy), xy[, 1], :\n",
      "“55946 projected point(s) not finite”Warning message in rgdal::rawTransform(projto_int, projfrom, nrow(xy), xy[, 1], :\n",
      "“55946 projected point(s) not finite”Warning message in rgdal::rawTransform(projto_int, projfrom, nrow(xy), xy[, 1], :\n",
      "“55946 projected point(s) not finite”"
     ]
    },
    {
     "data": {
      "text/html": [
       "'We estimate the mean ambient temperature at which Rubisco operates in the marine environment is 11 ℃'"
      ],
      "text/latex": [
       "'We estimate the mean ambient temperature at which Rubisco operates in the marine environment is 11 ℃'"
      ],
      "text/markdown": [
       "'We estimate the mean ambient temperature at which Rubisco operates in the marine environment is 11 ℃'"
      ],
      "text/plain": [
       "[1] \"We estimate the mean ambient temperature at which Rubisco operates in the marine environment is 11 ℃\""
      ]
     },
     "metadata": {},
     "output_type": "display_data"
    }
   ],
   "source": [
    "# Find all data files \n",
    "chl_files = list.files('../data/temperature/ocean/chl/')\n",
    "\n",
    "sst_files = list.files('../data/temperature/ocean/SST/THETA.2015.nc')\n",
    "\n",
    "# Load the first data files\n",
    "chl_tmp = raster(paste('../data/temperature/ocean/chl/',chl_files[1],sep=''))\n",
    "\n",
    "# Load temperature file\n",
    "sst_tmp = raster('../data/temperature/ocean/SST/THETA.2015.nc', band=1,level=1)\n",
    "\n",
    "# Integrate over the first 100 m\n",
    "for(i in 2:10){\n",
    "    sst_tmp = sst_tmp + raster('../data/temperature/ocean/SST/THETA.2015.nc', band=1,level=i)\n",
    "}\n",
    "sst_tmp = sst_tmp/10\n",
    "\n",
    "# Remove NA data\n",
    "NAvalue(chl_tmp) <- 99999\n",
    "\n",
    "# Match extent and crs between chl and sst\n",
    "extent(sst_tmp) = extent(chl_tmp)\n",
    "crs(sst_tmp) = crs(chl_tmp)\n",
    "\n",
    "# Use only chl data which has temperature associated with it\n",
    "chl_masked = mask(chl_tmp,!is.na(sst_tmp))\n",
    "\n",
    "# Reproject data onto an equiarea projection to enable us to calculate means\n",
    "chl_moll = projectRaster(chl_masked, crs=moll)\n",
    "sst_moll = projectRaster(sst_tmp, crs=moll)\n",
    "\n",
    "# Integrate over the entire globe for the product of the temperature and chl\n",
    "nume = cellStats(chl_moll*sst_moll,'sum')\n",
    "\n",
    "# Integrate over the entire globe for chl\n",
    "deno = cellStats(chl_moll,'sum')\n",
    "\n",
    "# Iterate for all data files\n",
    "for(i in 2:length(chl_files)){\n",
    "    # Load data files\n",
    "    chl_tmp = raster(paste('../data/temperature/ocean/chl/',chl_files[i],sep=''))\n",
    "\n",
    "    # Load temperature file\n",
    "    sst_tmp = raster('../data/temperature/ocean/SST/THETA.2015.nc', band=i,level=1)\n",
    "\n",
    "    # Remove NA data\n",
    "    NAvalue(chl_tmp) <- 99999\n",
    "    \n",
    "    # Integrate over the first 100 m\n",
    "    for(j in 2:10){\n",
    "        sst_tmp = sst_tmp + raster('../data/temperature/ocean/SST/THETA.2015.nc', band=i,level=j)\n",
    "    }\n",
    "    sst_tmp = sst_tmp/10\n",
    "\n",
    "    # Match extent and crs between chl and sst\n",
    "    extent(sst_tmp) = extent(chl_tmp)\n",
    "    crs(sst_tmp) = crs(chl_tmp)\n",
    "    \n",
    "    # Use only chl data which has temperature associated with it\n",
    "    chl_masked = mask(chl_tmp,!is.na(sst_tmp))\n",
    "    \n",
    "    # Reproject data onto an equiarea projection to enable us to calculate means\n",
    "    chl_moll = projectRaster(chl_masked, crs=moll)\n",
    "    sst_moll = projectRaster(sst_tmp, crs=moll)\n",
    "    \n",
    "    # Integrate over the entire globe for the product of the temperature and chl and add it to the total sum of this integration\n",
    "    nume = nume + cellStats(chl_moll*sst_moll,'sum')\n",
    "    \n",
    "    # Integrate over the entire globe for chl and add it to the total sum of this integration\n",
    "    deno = deno + cellStats(chl_moll,'sum')\n",
    "}\n",
    "\n",
    "# Calculate the ambient temperature in the ocean\n",
    "marine_amb_temp = nume/deno\n",
    "sprintf('We estimate the mean ambient temperature at which Rubisco operates in the marine environment is %.0f ℃',marine_amb_temp)"
   ]
  },
  {
   "cell_type": "code",
   "execution_count": 7,
   "metadata": {},
   "outputs": [
    {
     "name": "stderr",
     "output_type": "stream",
     "text": [
      "Warning message in rgdal::rawTransform(projto_int, projfrom, nrow(xy), xy[, 1], :\n",
      "“1180623 projected point(s) not finite”Warning message in rgdal::rawTransform(projto_int, projfrom, nrow(xy), xy[, 1], :\n",
      "“1180623 projected point(s) not finite”Warning message in rgdal::rawTransform(projto_int, projfrom, nrow(xy), xy[, 1], :\n",
      "“1180623 projected point(s) not finite”Warning message in rgdal::rawTransform(projto_int, projfrom, nrow(xy), xy[, 1], :\n",
      "“1180623 projected point(s) not finite”Warning message in rgdal::rawTransform(projto_int, projfrom, nrow(xy), xy[, 1], :\n",
      "“1180623 projected point(s) not finite”Warning message in rgdal::rawTransform(projto_int, projfrom, nrow(xy), xy[, 1], :\n",
      "“1180623 projected point(s) not finite”Warning message in rgdal::rawTransform(projto_int, projfrom, nrow(xy), xy[, 1], :\n",
      "“1180623 projected point(s) not finite”Warning message in rgdal::rawTransform(projto_int, projfrom, nrow(xy), xy[, 1], :\n",
      "“1180623 projected point(s) not finite”Warning message in rgdal::rawTransform(projto_int, projfrom, nrow(xy), xy[, 1], :\n",
      "“1180623 projected point(s) not finite”Warning message in rgdal::rawTransform(projto_int, projfrom, nrow(xy), xy[, 1], :\n",
      "“1180623 projected point(s) not finite”Warning message in rgdal::rawTransform(projto_int, projfrom, nrow(xy), xy[, 1], :\n",
      "“1180623 projected point(s) not finite”Warning message in rgdal::rawTransform(projto_int, projfrom, nrow(xy), xy[, 1], :\n",
      "“1180623 projected point(s) not finite”Warning message in rgdal::rawTransform(projto_int, projfrom, nrow(xy), xy[, 1], :\n",
      "“1180623 projected point(s) not finite”Warning message in rgdal::rawTransform(projto_int, projfrom, nrow(xy), xy[, 1], :\n",
      "“1180623 projected point(s) not finite”Warning message in rgdal::rawTransform(projto_int, projfrom, nrow(xy), xy[, 1], :\n",
      "“1180623 projected point(s) not finite”Warning message in rgdal::rawTransform(projto_int, projfrom, nrow(xy), xy[, 1], :\n",
      "“1180623 projected point(s) not finite”Warning message in rgdal::rawTransform(projto_int, projfrom, nrow(xy), xy[, 1], :\n",
      "“1180623 projected point(s) not finite”Warning message in rgdal::rawTransform(projto_int, projfrom, nrow(xy), xy[, 1], :\n",
      "“1180623 projected point(s) not finite”Warning message in rgdal::rawTransform(projto_int, projfrom, nrow(xy), xy[, 1], :\n",
      "“1180623 projected point(s) not finite”Warning message in rgdal::rawTransform(projto_int, projfrom, nrow(xy), xy[, 1], :\n",
      "“1180623 projected point(s) not finite”Warning message in rgdal::rawTransform(projto_int, projfrom, nrow(xy), xy[, 1], :\n",
      "“1180623 projected point(s) not finite”Warning message in rgdal::rawTransform(projto_int, projfrom, nrow(xy), xy[, 1], :\n",
      "“1180623 projected point(s) not finite”Warning message in rgdal::rawTransform(projto_int, projfrom, nrow(xy), xy[, 1], :\n",
      "“1180623 projected point(s) not finite”Warning message in rgdal::rawTransform(projto_int, projfrom, nrow(xy), xy[, 1], :\n",
      "“1180623 projected point(s) not finite”"
     ]
    },
    {
     "data": {
      "text/html": [
       "'We estimate the mean ambient temperature at which Rubisco operates in the terrestrial environment is 24 ℃'"
      ],
      "text/latex": [
       "'We estimate the mean ambient temperature at which Rubisco operates in the terrestrial environment is 24 ℃'"
      ],
      "text/markdown": [
       "'We estimate the mean ambient temperature at which Rubisco operates in the terrestrial environment is 24 ℃'"
      ],
      "text/plain": [
       "[1] \"We estimate the mean ambient temperature at which Rubisco operates in the terrestrial environment is 24 ℃\""
      ]
     },
     "metadata": {},
     "output_type": "display_data"
    }
   ],
   "source": [
    "# Find all data files \n",
    "npp_files = list.files('../data/temperature/land/NPP')\n",
    "lst_files = list.files('../data/temperature/land/LST')\n",
    "\n",
    "# Load the first data files\n",
    "npp_tmp = raster(paste('../data/temperature/land/NPP/',npp_files[1],sep=''))\n",
    "lst_tmp = raster(paste('../data/temperature/land/LST/',lst_files[1],sep=''))\n",
    "\n",
    "# Remove NA data\n",
    "NAvalue(npp_tmp) <- 99999\n",
    "NAvalue(lst_tmp) <- 99999\n",
    "\n",
    "# Use only NPP data which has temperature associated with it\n",
    "npp_masked = mask(npp_tmp,!is.na(lst_tmp))\n",
    "\n",
    "# Reproject data onto an equiarea projection to enable us to calculate means\n",
    "npp_moll = projectRaster(npp_masked, crs=moll)\n",
    "lst_moll = projectRaster(lst_tmp, crs=moll)\n",
    "\n",
    "# Integrate over the entire globe for the product of the temperature and NPP\n",
    "nume = cellStats(npp_moll*lst_moll,'sum')\n",
    "\n",
    "# Integrate over the entire globe for NPP\n",
    "deno = cellStats(npp_moll,'sum')\n",
    "\n",
    "# Iterate for all data files\n",
    "for(i in 2:length(lst_files)){\n",
    "    # Load data files\n",
    "    npp_tmp = raster(paste('../data/temperature/land/NPP/',npp_files[i],sep=''))\n",
    "    lst_tmp = raster(paste('../data/temperature/land/LST/',lst_files[i],sep=''))\n",
    "    \n",
    "    # Remove NA data\n",
    "    NAvalue(npp_tmp) <- 99999\n",
    "    NAvalue(lst_tmp) <- 99999\n",
    "    \n",
    "    # Use only chl data which has temperature associated with it\n",
    "    npp_masked = mask(npp_tmp,!is.na(lst_tmp))\n",
    "    \n",
    "    # Reproject data onto an equiarea projection to enable us to calculate means\n",
    "    npp_moll = projectRaster(npp_masked, crs=moll)\n",
    "    lst_moll = projectRaster(lst_tmp, crs=moll)\n",
    "    \n",
    "    # Integrate over the entire globe for the product of the temperature and NPP and add it to the total sum of this integration\n",
    "    nume = nume + cellStats(npp_moll*lst_moll,'sum')\n",
    "    \n",
    "    # Integrate over the entire globe for NPP and add it to the total sum of this integration\n",
    "    deno = deno + cellStats(npp_moll,'sum')\n",
    "\n",
    "}\n",
    "\n",
    "# Calculate the ambient temperature on land\n",
    "land_amb_temp = nume/deno\n",
    "sprintf('We estimate the mean ambient temperature at which Rubisco operates in the terrestrial environment is %.0f ℃',land_amb_temp)"
   ]
  },
  {
   "cell_type": "markdown",
   "metadata": {},
   "source": [
    "## Temperature sensitivity of Rubisco\n",
    "We can use the difference in the ambient temperature at which Rubisco is operating in the terrestrial or marine environments to estimate the maximal rate of Rubisco at these environments. For this calculation, we rely on data measuring the temperature sensitivty of different Rubiscos ([Young et al.](https://doi.org/10.1111/nph.13021)). In general, the average temperature sensitivity (Q10) is between 2.2-2.9, meaning that for every 10 ℃ decrease in the ambient temperature the rate of Rubisco drops between 2.2-2.9-fold. By using this temperature sensitivity, we now calculate the maximal rate of Rubisco in the terrestrial and marine environment under ambient temperature:"
   ]
  },
  {
   "cell_type": "code",
   "execution_count": 8,
   "metadata": {},
   "outputs": [
    {
     "data": {
      "text/html": [
       "'We estimate the maximal rate of Rubisco in the marine environment at 1.1 s^-1'"
      ],
      "text/latex": [
       "'We estimate the maximal rate of Rubisco in the marine environment at 1.1 s\\textasciicircum{}-1'"
      ],
      "text/markdown": [
       "'We estimate the maximal rate of Rubisco in the marine environment at 1.1 s^-1'"
      ],
      "text/plain": [
       "[1] \"We estimate the maximal rate of Rubisco in the marine environment at 1.1 s^-1\""
      ]
     },
     "metadata": {},
     "output_type": "display_data"
    },
    {
     "data": {
      "text/html": [
       "'We estimate the maximal rate of Rubisco in the terrestrial environment at 3.0 s^-1'"
      ],
      "text/latex": [
       "'We estimate the maximal rate of Rubisco in the terrestrial environment at 3.0 s\\textasciicircum{}-1'"
      ],
      "text/markdown": [
       "'We estimate the maximal rate of Rubisco in the terrestrial environment at 3.0 s^-1'"
      ],
      "text/plain": [
       "[1] \"We estimate the maximal rate of Rubisco in the terrestrial environment at 3.0 s^-1\""
      ]
     },
     "metadata": {},
     "output_type": "display_data"
    }
   ],
   "source": [
    "q10 = sqrt(prod(c(2.2,2.9)))\n",
    "marine_max_rate = mean_marine_kcat/(q10^((25-marine_amb_temp)/10))\n",
    "sprintf('We estimate the maximal rate of Rubisco in the marine environment at %.1f s^-1',marine_max_rate)\n",
    "\n",
    "land_max_rate = mean_terrestrial_kcat/(q10^((25-land_amb_temp)/10))\n",
    "sprintf('We estimate the maximal rate of Rubisco in the terrestrial environment at %.1f s^-1',land_max_rate)"
   ]
  },
  {
   "cell_type": "markdown",
   "metadata": {},
   "source": [
    "## Estimating the average day duration of phytoplankton\n",
    "As Phytoplankton are very dynamic in their global distribution, apprearing and disappearing in rapid blooms, we wondered whether they usually appear in locations with high day durations. To estimate what is the average day duration of the \"average\" phytoplankton cell, we calculated the duration of day at each location at each month of the year, and weighted each location at each time by the amount of chlorophyll present"
   ]
  },
  {
   "cell_type": "code",
   "execution_count": 9,
   "metadata": {},
   "outputs": [
    {
     "name": "stderr",
     "output_type": "stream",
     "text": [
      "Warning message in rgdal::rawTransform(projto_int, projfrom, nrow(xy), xy[, 1], :\n",
      "“55946 projected point(s) not finite”Warning message in rgdal::rawTransform(projto_int, projfrom, nrow(xy), xy[, 1], :\n",
      "“55946 projected point(s) not finite”Warning message in rgdal::rawTransform(projto_int, projfrom, nrow(xy), xy[, 1], :\n",
      "“55946 projected point(s) not finite”Warning message in rgdal::rawTransform(projto_int, projfrom, nrow(xy), xy[, 1], :\n",
      "“55946 projected point(s) not finite”Warning message in rgdal::rawTransform(projto_int, projfrom, nrow(xy), xy[, 1], :\n",
      "“55946 projected point(s) not finite”Warning message in rgdal::rawTransform(projto_int, projfrom, nrow(xy), xy[, 1], :\n",
      "“55946 projected point(s) not finite”Warning message in rgdal::rawTransform(projto_int, projfrom, nrow(xy), xy[, 1], :\n",
      "“55946 projected point(s) not finite”Warning message in rgdal::rawTransform(projto_int, projfrom, nrow(xy), xy[, 1], :\n",
      "“55946 projected point(s) not finite”Warning message in rgdal::rawTransform(projto_int, projfrom, nrow(xy), xy[, 1], :\n",
      "“55946 projected point(s) not finite”Warning message in rgdal::rawTransform(projto_int, projfrom, nrow(xy), xy[, 1], :\n",
      "“55946 projected point(s) not finite”Warning message in rgdal::rawTransform(projto_int, projfrom, nrow(xy), xy[, 1], :\n",
      "“55946 projected point(s) not finite”Warning message in rgdal::rawTransform(projto_int, projfrom, nrow(xy), xy[, 1], :\n",
      "“55946 projected point(s) not finite”Warning message in rgdal::rawTransform(projto_int, projfrom, nrow(xy), xy[, 1], :\n",
      "“55946 projected point(s) not finite”Warning message in rgdal::rawTransform(projto_int, projfrom, nrow(xy), xy[, 1], :\n",
      "“55946 projected point(s) not finite”Warning message in rgdal::rawTransform(projto_int, projfrom, nrow(xy), xy[, 1], :\n",
      "“55946 projected point(s) not finite”Warning message in rgdal::rawTransform(projto_int, projfrom, nrow(xy), xy[, 1], :\n",
      "“55946 projected point(s) not finite”Warning message in rgdal::rawTransform(projto_int, projfrom, nrow(xy), xy[, 1], :\n",
      "“55946 projected point(s) not finite”Warning message in rgdal::rawTransform(projto_int, projfrom, nrow(xy), xy[, 1], :\n",
      "“55946 projected point(s) not finite”Warning message in rgdal::rawTransform(projto_int, projfrom, nrow(xy), xy[, 1], :\n",
      "“55946 projected point(s) not finite”Warning message in rgdal::rawTransform(projto_int, projfrom, nrow(xy), xy[, 1], :\n",
      "“55946 projected point(s) not finite”Warning message in rgdal::rawTransform(projto_int, projfrom, nrow(xy), xy[, 1], :\n",
      "“55946 projected point(s) not finite”Warning message in rgdal::rawTransform(projto_int, projfrom, nrow(xy), xy[, 1], :\n",
      "“55946 projected point(s) not finite”Warning message in rgdal::rawTransform(projto_int, projfrom, nrow(xy), xy[, 1], :\n",
      "“55946 projected point(s) not finite”Warning message in rgdal::rawTransform(projto_int, projfrom, nrow(xy), xy[, 1], :\n",
      "“55946 projected point(s) not finite”"
     ]
    },
    {
     "data": {
      "text/html": [
       "'We estimate the average number of day hours an \"average\" phytoplankton experiences is ≈ 13 hours.'"
      ],
      "text/latex": [
       "'We estimate the average number of day hours an \"average\" phytoplankton experiences is ≈ 13 hours.'"
      ],
      "text/markdown": [
       "'We estimate the average number of day hours an \"average\" phytoplankton experiences is ≈ 13 hours.'"
      ],
      "text/plain": [
       "[1] \"We estimate the average number of day hours an \\\"average\\\" phytoplankton experiences is ≈ 13 hours.\""
      ]
     },
     "metadata": {},
     "output_type": "display_data"
    }
   ],
   "source": [
    "# We take the middle of each month as a representative day for calculating the number of light hours\n",
    "doy =c(1,32,60,91,121,152,182,213,244,274,305,335,365)\n",
    "for (i in 1:length(doy)-1){\n",
    "    doy[i] = ((doy[i]+doy[i+1]-2)/2)\n",
    "}\n",
    "doy = doy[1:12]\n",
    "\n",
    "# Find all data files \n",
    "chl_files = list.files('../data/temperature/ocean/chl/')\n",
    "\n",
    "# Load the first data files\n",
    "chl_tmp = raster(paste('../data/temperature/ocean/chl/',chl_files[1],sep=''))\n",
    "\n",
    "# Remove NA data\n",
    "NAvalue(chl_tmp) <- 99999\n",
    "\n",
    "# Calculate the length of daylight at each location\n",
    "dlength = calc(init(chl_tmp,'y'), fun=function(x){daylength(x,doy[1])})\n",
    "\n",
    "# Reproject data onto an equiarea projection to enable us to calculate means\n",
    "chl_moll = projectRaster(chl_tmp, crs=moll)\n",
    "dlength_moll = projectRaster(dlength, crs=moll)\n",
    "\n",
    "# Integrate over the entire globe for the product of the temperature and chl\n",
    "nume = cellStats(chl_moll*dlength_moll,'sum')\n",
    "\n",
    "# Integrate over the entire globe for chl\n",
    "deno = cellStats(chl_moll,'sum')\n",
    "\n",
    "# Iterate for all data files\n",
    "for(i in 2:length(chl_files)){\n",
    "    # Load data files\n",
    "    chl_tmp = raster(paste('../data/temperature/ocean/chl/',chl_files[i],sep=''))\n",
    "    \n",
    "    # Remove NA data\n",
    "    NAvalue(chl_tmp) <- 99999\n",
    "    \n",
    "    dlength = calc(init(chl_tmp,'y'), fun=function(x){daylength(x,doy[i])})\n",
    "    \n",
    "    # Reproject data onto an equiarea projection to enable us to calculate means\n",
    "    chl_moll = projectRaster(chl_tmp, crs=moll)\n",
    "    dlength_moll = projectRaster(dlength, crs=moll)\n",
    "    \n",
    "    # Integrate over the entire globe for the product of the temperature and chl and add it to the total sum of this integration\n",
    "    nume = nume + cellStats(chl_moll*dlength_moll,'sum')\n",
    "    \n",
    "    #print(nume)\n",
    "    # Integrate over the entire globe for chl and add it to the total sum of this integration\n",
    "    deno = deno + cellStats(chl_moll,'sum')\n",
    "}\n",
    "\n",
    "# Calculate the ambient temperature in the ocean\n",
    "marine_avg_light = nume/deno\n",
    "sprintf('We estimate the average number of day hours an \"average\" phytoplankton experiences is ≈ %.0f hours.',marine_avg_light)"
   ]
  },
  {
   "cell_type": "markdown",
   "metadata": {},
   "source": [
    "This means the fact Rubisco only operates during the day will cause an expected decrease in the time-averaged rate of Rubisco of 24/13 = 1.9-fold."
   ]
  }
 ],
 "metadata": {
  "kernelspec": {
   "display_name": "R",
   "language": "R",
   "name": "ir"
  },
  "language_info": {
   "codemirror_mode": "r",
   "file_extension": ".r",
   "mimetype": "text/x-r-source",
   "name": "R",
   "pygments_lexer": "r",
   "version": "3.5.1"
  }
 },
 "nbformat": 4,
 "nbformat_minor": 2
}
