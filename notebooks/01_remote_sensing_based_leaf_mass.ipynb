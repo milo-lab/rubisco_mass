{
 "cells": [
  {
   "cell_type": "code",
   "execution_count": null,
   "metadata": {},
   "outputs": [],
   "source": [
    "# Import dependencies\n",
    "library(rgdal)\n",
    "library(raster)\n",
    "library(gdalUtils)\n",
    "library(\"readxl\")\n",
    "library(viridis)\n",
    "library(plyr)\n",
    "library(sp)\n",
    "library(ggplot2)\n",
    "library(rasterVis)\n",
    "library(gridExtra)\n",
    "library(grid)\n",
    "\n",
    "# Define function to adjust two rasters\n",
    "adj_raster = function(x,y,crop_extent=NULL){\n",
    "    # Decide which raster has lower resolution\n",
    "    if(res(x)[1] < res(y)[1]){\n",
    "        low_res = y\n",
    "        high_res = x\n",
    "    } else {\n",
    "        low_res = x\n",
    "        high_res = y\n",
    "    }\n",
    "    if(is.null(crop_extent)){       \n",
    "        # Calculate the shared extent between the rasters\n",
    "        crop_ext = intersect(extent(low_res),extent(high_res))\n",
    "        # Crop both rasters to the shared extent\n",
    "        crop_low_res = crop(low_res,crop_ext)\n",
    "        crop_high_res = crop(high_res,crop_ext)\n",
    "    } else {\n",
    "        crop_low_res = crop(low_res,crop_extent)\n",
    "        crop_high_res = crop(high_res,crop_extent)\n",
    "    }\n",
    "    # Create a new raster to resample the high resolution raster into\n",
    "    resample_high_res = raster(nrow=nrow(crop_high_res)*(res(crop_high_res)/res(crop_low_res))[1],\n",
    "                                    ncol=ncol(crop_high_res)*(res(crop_high_res)/res(crop_low_res))[1],\n",
    "                                   xmn=extent(crop_high_res)[1],\n",
    "                                   xmx=extent(crop_high_res)[2],\n",
    "                                   ymn=extent(crop_high_res)[3],\n",
    "                                   ymx=extent(crop_high_res)[4])\n",
    "    # Resample the high resolution raster\n",
    "    resample_high_res = resample(crop_high_res,resample_high_res)\n",
    "    \n",
    "    # Return results in the correct order\n",
    "    if(res(x)[1] < res(y)[1]){\n",
    "        return(list(resample_high_res,crop_low_res))\n",
    "    } else {\n",
    "        return(list(crop_low_res,resample_high_res))\n",
    "    }\n",
    "\n",
    "}\n",
    "\n",
    "# Define a function that calculates the geometric mean\n",
    "gmean = function(x,y){\n",
    "    return(exp(mean(log(c(x,y)))))\n",
    "}\n",
    "\n",
    "# Define a function to calculate the multiplicative 95% confidence interval of a list of measurements\n",
    "mul_CI = function(vals){\n",
    "    sem = 10^(sd(log10(vals))/sqrt(length(vals))*1.96)\n",
    "    std = 10^(sd(log10(vals))*1.96)\n",
    "    return(gmean(sem,std))\n",
    "}\n",
    "\n",
    "# Define a function to propagate uncertainties through a product\n",
    "CI_prod_prop = function(mul_CIs){\n",
    "    return(10^sqrt(sum(log10(mul_CIs)^2)))\n",
    "}\n",
    "\n",
    "# Define a funtion to overlay data in maps that may be in differnt sizes\n",
    "overlay_maps = function(x,y, calc_sum=FALSE,crop_extent=NULL){\n",
    "    # Adjust the two rasters\n",
    "    tmp = adj_raster(x,y,crop_extent=crop_extent)\n",
    "    res_x = tmp[[1]]\n",
    "    res_y = tmp[[2]]\n",
    "\n",
    "    # Multiply the values in the two maps\n",
    "    overlayed_map = overlay(res_x,res_y,fun=function(x,y){x*y})\n",
    "    if(calc_sum){\n",
    "        \n",
    "        moll = '+proj=moll +lon_0=0 +x_0=0 +y_0=0 +datum=WGS84 +units=m +no_defs'\n",
    "        \n",
    "        # Project to an equal area projection\n",
    "        overlayed_moll = projectRaster(overlayed_map,crs=moll)\n",
    "\n",
    "        #Calculate the total leaf mass\n",
    "        tot_sum = cellStats(overlayed_moll, stat = 'sum')*prod(res(overlayed_moll))\n",
    "        return(tot_sum)\n",
    "    }else {\n",
    "        return(overlayed_map)\n",
    "    }\n",
    "}"
   ]
  },
  {
   "cell_type": "markdown",
   "metadata": {},
   "source": [
    "# Estimating the total leaf mass\n",
    "\n",
    "In order to estimate the total leaf area we rely on two procedures. The first is based on remotely sensed measurement of the leaf area index (LAI), which measures the total area of leaves per unit surface area. The second is based on ground based measurements of LAI.\n",
    "\n",
    "## Remotely sensed LAI\n",
    "We rely on the GLASS Leaf Area Index (LAI) product for this estimate (http://glcf.umd.edu/data/lai/ ). We use 8-day composites taken throughout 2015 and calculate the total leaf area per sample:"
   ]
  },
  {
   "cell_type": "code",
   "execution_count": 2,
   "metadata": {},
   "outputs": [
    {
     "data": {
      "text/html": [
       "'We estimate the total leaf area based on GLASS LAI product at: 1.8e+14 m^2'"
      ],
      "text/latex": [
       "'We estimate the total leaf area based on GLASS LAI product at: 1.8e+14 m\\textasciicircum{}2'"
      ],
      "text/markdown": [
       "'We estimate the total leaf area based on GLASS LAI product at: 1.8e+14 m^2'"
      ],
      "text/plain": [
       "[1] \"We estimate the total leaf area based on GLASS LAI product at: 1.8e+14 m^2\""
      ]
     },
     "metadata": {},
     "output_type": "display_data"
    }
   ],
   "source": [
    "# Create results file\n",
    "result_MODIS = data.frame(file_name=character(), day=numeric(), lai = numeric())\n",
    "\n",
    "# CRS with equal area\n",
    "moll = '+proj=moll +lon_0=0 +x_0=0 +y_0=0 +datum=WGS84 +units=m +no_defs'\n",
    "\n",
    "# Try loading the results of the analysis. If The results are not found, run the analysis\n",
    "tryCatch({result_MODIS = read.csv('../data/MODIS_LAI_sum.csv'); }, error = function(err){\n",
    "    # Find all HDF files in the MODIS dataset\n",
    "    files = list.files('../data/GLASS_LAI_data/MODIS/')\n",
    "    for(file in files){\n",
    "        print(file)\n",
    "        # Load raster\n",
    "        glass_data =  get_subdatasets(paste('data/GLASS_LAI_data/MODIS/',file,sep=''))\n",
    "        lai = readGDAL(glass_data[1])\n",
    "        lai_raster = raster(lai)\n",
    "        # Reproject the raster to equal area projection\n",
    "        molllai <- projectRaster(lai_raster, crs=moll)\n",
    "        # Calculate the total leaf area\n",
    "        total_leaf_area = cellStats(molllai,stat = 'sum')*prod(res(molllai))\n",
    "        # Store results\n",
    "        result_MODIS = rbind(result_MODIS,data.frame(file_name=file,day=substr(unlist(strsplit(file,'\\\\.'))[3],6,10),lai=total_leaf_area))\n",
    "        }\n",
    "    # Save results\n",
    "    write.csv(result_MODIS,'../data/MODIS_LAI_sum.csv')\n",
    "    }\n",
    ")\n",
    "\n",
    "# Find the raster with a total area closest to the annual mean\n",
    "best_file = result_MODIS[which.min(abs(result_MODIS$lai-mean(result_MODIS$lai))),2]\n",
    "\n",
    "sprintf('We estimate the total leaf area based on GLASS LAI product at: %.1e m^2',mean(result_MODIS$lai))"
   ]
  },
  {
   "cell_type": "code",
   "execution_count": 3,
   "metadata": {},
   "outputs": [],
   "source": [
    "# Open the raster with total leaf area closest to the mean\n",
    "best_lai_raster =  raster(get_subdatasets(paste('../data/GLASS_LAI_data/MODIS/',best_file,sep=''))[1])"
   ]
  },
  {
   "cell_type": "markdown",
   "metadata": {},
   "source": [
    "### Ground sensed LAI\n",
    "\n",
    "Our second method for estimating the total leaf area is based on field measurement of LAI in different biomes. This data takes into account only places which have vegetation in them, and thus we need aditional data on the percent coverage of surface area by vegetation in each biome. For the field measured LAI data we use [Asner et al.](http://dx.doi.org/10.1046/j.1466-822X.2003.00026.x)."
   ]
  },
  {
   "cell_type": "code",
   "execution_count": 4,
   "metadata": {},
   "outputs": [
    {
     "data": {
      "text/html": [
       "<table>\n",
       "<thead><tr><th scope=col>Value</th><th scope=col>Label</th><th scope=col>Biome in asner</th><th scope=col>LAI [m^2 m^-2]</th></tr></thead>\n",
       "<tbody>\n",
       "\t<tr><td>  0                                                  </td><td>Water                                                </td><td>NA                                                   </td><td>      NA                                             </td></tr>\n",
       "\t<tr><td>  1                                                  </td><td>Evergreen Needleleaf forest                          </td><td>Average of Boreal DBL and Temperate ENL              </td><td>4.100000                                             </td></tr>\n",
       "\t<tr><td>  2                                                  </td><td>Evergreen Broadleaf forest                           </td><td>Average of Tropical EBL and Temperate EBL            </td><td>5.250000                                             </td></tr>\n",
       "\t<tr><td>  3                                                  </td><td>Deciduous Needleleaf forest                          </td><td>Boreal/Temperate DNL                                 </td><td>4.600000                                             </td></tr>\n",
       "\t<tr><td>  4                                                  </td><td>Deciduous Broadleaf forest                           </td><td>Average of Boreal DBL, Tropical DBL and Temperate DBL</td><td>3.866667                                             </td></tr>\n",
       "\t<tr><td>  5                                                  </td><td>Mixed forest                                         </td><td>Average of all forests                               </td><td>4.362500                                             </td></tr>\n",
       "\t<tr><td>  6                                                  </td><td>Closed shrublands                                    </td><td>Shrubland                                            </td><td>2.100000                                             </td></tr>\n",
       "\t<tr><td>  7                                                  </td><td>Open shrublands                                      </td><td>Shrubland                                            </td><td>2.100000                                             </td></tr>\n",
       "\t<tr><td>  8                                                  </td><td>Woody savannas                                       </td><td>Shrubland                                            </td><td>2.100000                                             </td></tr>\n",
       "\t<tr><td>  9                                                  </td><td>Savannas                                             </td><td>Shrubland                                            </td><td>2.100000                                             </td></tr>\n",
       "\t<tr><td> 10                                                  </td><td>Grasslands                                           </td><td>Grassland                                            </td><td>1.700000                                             </td></tr>\n",
       "\t<tr><td> 11                                                  </td><td>Permanent wetlands                                   </td><td>Wetlands                                             </td><td>6.300000                                             </td></tr>\n",
       "\t<tr><td> 12                                                  </td><td>Croplands                                            </td><td>Crops                                                </td><td>3.600000                                             </td></tr>\n",
       "\t<tr><td> 13                                                  </td><td>Urban and built-up                                   </td><td>NA                                                   </td><td>      NA                                             </td></tr>\n",
       "\t<tr><td> 14                                                  </td><td>Cropland/Natural vegetation mosaic                   </td><td>Crops                                                </td><td>3.600000                                             </td></tr>\n",
       "\t<tr><td> 15                                                  </td><td>Snow and ice                                         </td><td>NA                                                   </td><td>      NA                                             </td></tr>\n",
       "\t<tr><td> 16                                                  </td><td>Barren or sparsely vegetated                         </td><td>Desert                                               </td><td>1.300000                                             </td></tr>\n",
       "\t<tr><td>254                                                  </td><td>Unclassified                                         </td><td>NA                                                   </td><td>      NA                                             </td></tr>\n",
       "\t<tr><td>255                                                  </td><td>Fill Value                                           </td><td>NA                                                   </td><td>      NA                                             </td></tr>\n",
       "</tbody>\n",
       "</table>\n"
      ],
      "text/latex": [
       "\\begin{tabular}{r|llll}\n",
       " Value & Label & Biome in asner & LAI {[}m\\textasciicircum{}2 m\\textasciicircum{}-2{]}\\\\\n",
       "\\hline\n",
       "\t   0                                                   & Water                                                 & NA                                                    &       NA                                             \\\\\n",
       "\t   1                                                   & Evergreen Needleleaf forest                           & Average of Boreal DBL and Temperate ENL               & 4.100000                                             \\\\\n",
       "\t   2                                                   & Evergreen Broadleaf forest                            & Average of Tropical EBL and Temperate EBL             & 5.250000                                             \\\\\n",
       "\t   3                                                   & Deciduous Needleleaf forest                           & Boreal/Temperate DNL                                  & 4.600000                                             \\\\\n",
       "\t   4                                                   & Deciduous Broadleaf forest                            & Average of Boreal DBL, Tropical DBL and Temperate DBL & 3.866667                                             \\\\\n",
       "\t   5                                                   & Mixed forest                                          & Average of all forests                                & 4.362500                                             \\\\\n",
       "\t   6                                                   & Closed shrublands                                     & Shrubland                                             & 2.100000                                             \\\\\n",
       "\t   7                                                   & Open shrublands                                       & Shrubland                                             & 2.100000                                             \\\\\n",
       "\t   8                                                   & Woody savannas                                        & Shrubland                                             & 2.100000                                             \\\\\n",
       "\t   9                                                   & Savannas                                              & Shrubland                                             & 2.100000                                             \\\\\n",
       "\t  10                                                   & Grasslands                                            & Grassland                                             & 1.700000                                             \\\\\n",
       "\t  11                                                   & Permanent wetlands                                    & Wetlands                                              & 6.300000                                             \\\\\n",
       "\t  12                                                   & Croplands                                             & Crops                                                 & 3.600000                                             \\\\\n",
       "\t  13                                                   & Urban and built-up                                    & NA                                                    &       NA                                             \\\\\n",
       "\t  14                                                   & Cropland/Natural vegetation mosaic                    & Crops                                                 & 3.600000                                             \\\\\n",
       "\t  15                                                   & Snow and ice                                          & NA                                                    &       NA                                             \\\\\n",
       "\t  16                                                   & Barren or sparsely vegetated                          & Desert                                                & 1.300000                                             \\\\\n",
       "\t 254                                                   & Unclassified                                          & NA                                                    &       NA                                             \\\\\n",
       "\t 255                                                   & Fill Value                                            & NA                                                    &       NA                                             \\\\\n",
       "\\end{tabular}\n"
      ],
      "text/markdown": [
       "\n",
       "Value | Label | Biome in asner | LAI [m^2 m^-2] | \n",
       "|---|---|---|---|---|---|---|---|---|---|---|---|---|---|---|---|---|---|---|\n",
       "|   0                                                   | Water                                                 | NA                                                    |       NA                                              | \n",
       "|   1                                                   | Evergreen Needleleaf forest                           | Average of Boreal DBL and Temperate ENL               | 4.100000                                              | \n",
       "|   2                                                   | Evergreen Broadleaf forest                            | Average of Tropical EBL and Temperate EBL             | 5.250000                                              | \n",
       "|   3                                                   | Deciduous Needleleaf forest                           | Boreal/Temperate DNL                                  | 4.600000                                              | \n",
       "|   4                                                   | Deciduous Broadleaf forest                            | Average of Boreal DBL, Tropical DBL and Temperate DBL | 3.866667                                              | \n",
       "|   5                                                   | Mixed forest                                          | Average of all forests                                | 4.362500                                              | \n",
       "|   6                                                   | Closed shrublands                                     | Shrubland                                             | 2.100000                                              | \n",
       "|   7                                                   | Open shrublands                                       | Shrubland                                             | 2.100000                                              | \n",
       "|   8                                                   | Woody savannas                                        | Shrubland                                             | 2.100000                                              | \n",
       "|   9                                                   | Savannas                                              | Shrubland                                             | 2.100000                                              | \n",
       "|  10                                                   | Grasslands                                            | Grassland                                             | 1.700000                                              | \n",
       "|  11                                                   | Permanent wetlands                                    | Wetlands                                              | 6.300000                                              | \n",
       "|  12                                                   | Croplands                                             | Crops                                                 | 3.600000                                              | \n",
       "|  13                                                   | Urban and built-up                                    | NA                                                    |       NA                                              | \n",
       "|  14                                                   | Cropland/Natural vegetation mosaic                    | Crops                                                 | 3.600000                                              | \n",
       "|  15                                                   | Snow and ice                                          | NA                                                    |       NA                                              | \n",
       "|  16                                                   | Barren or sparsely vegetated                          | Desert                                                | 1.300000                                              | \n",
       "| 254                                                   | Unclassified                                          | NA                                                    |       NA                                              | \n",
       "| 255                                                   | Fill Value                                            | NA                                                    |       NA                                              | \n",
       "\n",
       "\n"
      ],
      "text/plain": [
       "   Value Label                             \n",
       "1    0   Water                             \n",
       "2    1   Evergreen Needleleaf forest       \n",
       "3    2   Evergreen Broadleaf forest        \n",
       "4    3   Deciduous Needleleaf forest       \n",
       "5    4   Deciduous Broadleaf forest        \n",
       "6    5   Mixed forest                      \n",
       "7    6   Closed shrublands                 \n",
       "8    7   Open shrublands                   \n",
       "9    8   Woody savannas                    \n",
       "10   9   Savannas                          \n",
       "11  10   Grasslands                        \n",
       "12  11   Permanent wetlands                \n",
       "13  12   Croplands                         \n",
       "14  13   Urban and built-up                \n",
       "15  14   Cropland/Natural vegetation mosaic\n",
       "16  15   Snow and ice                      \n",
       "17  16   Barren or sparsely vegetated      \n",
       "18 254   Unclassified                      \n",
       "19 255   Fill Value                        \n",
       "   Biome in asner                                        LAI [m^2 m^-2]\n",
       "1  NA                                                          NA      \n",
       "2  Average of Boreal DBL and Temperate ENL               4.100000      \n",
       "3  Average of Tropical EBL and Temperate EBL             5.250000      \n",
       "4  Boreal/Temperate DNL                                  4.600000      \n",
       "5  Average of Boreal DBL, Tropical DBL and Temperate DBL 3.866667      \n",
       "6  Average of all forests                                4.362500      \n",
       "7  Shrubland                                             2.100000      \n",
       "8  Shrubland                                             2.100000      \n",
       "9  Shrubland                                             2.100000      \n",
       "10 Shrubland                                             2.100000      \n",
       "11 Grassland                                             1.700000      \n",
       "12 Wetlands                                              6.300000      \n",
       "13 Crops                                                 3.600000      \n",
       "14 NA                                                          NA      \n",
       "15 Crops                                                 3.600000      \n",
       "16 NA                                                          NA      \n",
       "17 Desert                                                1.300000      \n",
       "18 NA                                                          NA      \n",
       "19 NA                                                          NA      "
      ]
     },
     "metadata": {},
     "output_type": "display_data"
    }
   ],
   "source": [
    "asner_LAI_data = read_excel('../data/literature_data.xlsx','MODIS_land_use',skip = 1)\n",
    "\n",
    "asner_LAI_data"
   ]
  },
  {
   "cell_type": "markdown",
   "metadata": {},
   "source": [
    "We use biome data from MODIS land cover product (http://glcf.umd.edu/data/lc/ ). For each biome, we replace all the pixels whithin the biome with the mean LAI measured in the biome based on the table produced by Asner et al."
   ]
  },
  {
   "cell_type": "code",
   "execution_count": 5,
   "metadata": {},
   "outputs": [
    {
     "name": "stderr",
     "output_type": "stream",
     "text": [
      "The following `from` values were not present in `x`: 254, 255\n"
     ]
    }
   ],
   "source": [
    "# Load biome map raster\n",
    "biome_data = raster('../data/LC_5min_global_2012.tif')\n",
    "\n",
    "# Map the biome codes in the map to the mean LAI measured by Asner et al.\n",
    "asner_lai_map = mapvalues(as.matrix(biome_data),from = asner_LAI_data$Value, to = asner_LAI_data$`LAI [m^2 m^-2]`)"
   ]
  },
  {
   "cell_type": "markdown",
   "metadata": {},
   "source": [
    "Not all locations on in each biome contain vegetation. To take this factor into account, we use data on the tree cover and short vegetation conver in each location in the world, taken from [Song et al.](https://doi.org/10.1038/s41586-018-0411-9)."
   ]
  },
  {
   "cell_type": "code",
   "execution_count": 6,
   "metadata": {},
   "outputs": [],
   "source": [
    "# Load tree cover data\n",
    "TG_data = raster('../data/VCF5KYR_2016001_001_2018224210310.tif',band=1)/100\n",
    "# Load short vegetation cover data\n",
    "SV_data = raster('../data/VCF5KYR_2016001_001_2018224210310.tif',band=2)/100\n",
    "\n",
    "# Calculate the fraction of land covered by vegetation\n",
    "plant_frac_data = (SV_data+TG_data)"
   ]
  },
  {
   "cell_type": "code",
   "execution_count": 7,
   "metadata": {},
   "outputs": [],
   "source": [
    "asner_lai_raster = raster(asner_lai_map)\n",
    "\n",
    "# Convert data to raster\n",
    "extent(asner_lai_raster) = extent(biome_data)\n",
    "res(asner_lai_raster) = res(biome_data)\n",
    "crs(asner_lai_raster) = crs(biome_data)"
   ]
  },
  {
   "cell_type": "code",
   "execution_count": 8,
   "metadata": {},
   "outputs": [
    {
     "name": "stderr",
     "output_type": "stream",
     "text": [
      "Warning message in rgdal::rawTransform(projto_int, projfrom, nrow(xy), xy[, 1], :\n",
      "“1161417 projected point(s) not finite”"
     ]
    },
    {
     "data": {
      "text/html": [
       "'We estimate the total leaf area based on field measurements at: 3.1e+14 m^2'"
      ],
      "text/latex": [
       "'We estimate the total leaf area based on field measurements at: 3.1e+14 m\\textasciicircum{}2'"
      ],
      "text/markdown": [
       "'We estimate the total leaf area based on field measurements at: 3.1e+14 m^2'"
      ],
      "text/plain": [
       "[1] \"We estimate the total leaf area based on field measurements at: 3.1e+14 m^2\""
      ]
     },
     "metadata": {},
     "output_type": "display_data"
    }
   ],
   "source": [
    "# Multiply the map of the fraction of vegetation by the map of the ground based LAI measurements\n",
    "asner_leaf_area_raster = overlay_maps(plant_frac_data,asner_lai_raster)\n",
    "\n",
    "# Project to an equal area projection\n",
    "asner_leaf_area_raster_moll = projectRaster(asner_leaf_area_raster,crs=moll)\n",
    "\n",
    "#Calculate the total leaf area\n",
    "asner_total_leaf_area = cellStats(asner_leaf_area_raster_moll, stat = 'sum')*prod(res(asner_leaf_area_raster_moll))\n",
    "sprintf('We estimate the total leaf area based on field measurements at: %.1e m^2',asner_total_leaf_area) "
   ]
  },
  {
   "cell_type": "markdown",
   "metadata": {},
   "source": [
    "As our best estimate for the total leaf area, we use the geometric mean of the estimates based on remote sensing and field measurements:"
   ]
  },
  {
   "cell_type": "code",
   "execution_count": 9,
   "metadata": {},
   "outputs": [
    {
     "data": {
      "text/html": [
       "'Our best estimate for the total leaf area is 2.4e+14 m^2'"
      ],
      "text/latex": [
       "'Our best estimate for the total leaf area is 2.4e+14 m\\textasciicircum{}2'"
      ],
      "text/markdown": [
       "'Our best estimate for the total leaf area is 2.4e+14 m^2'"
      ],
      "text/plain": [
       "[1] \"Our best estimate for the total leaf area is 2.4e+14 m^2\""
      ]
     },
     "metadata": {},
     "output_type": "display_data"
    }
   ],
   "source": [
    "# Calculate the geometric mean of the estimates based on remote sensing nad ground measurements\n",
    "best_global_leaf_area = gmean(asner_total_leaf_area,mean(result_MODIS$lai))\n",
    "sprintf('Our best estimate for the total leaf area is %.1e m^2',best_global_leaf_area) "
   ]
  },
  {
   "cell_type": "markdown",
   "metadata": {},
   "source": [
    "# Converting leaf area to leaf mass\n",
    "In order to convert leaf area to leaf mass, we rely on two methods. The first is based on the Glopnet database (http://bio.mq.edu.au/~iwright/glopian.htm). We use the geometric mean of leaf mass per area (LMA) in g per m^2, and multiply it by the our best estimate for the total leaf area"
   ]
  },
  {
   "cell_type": "code",
   "execution_count": 11,
   "metadata": {},
   "outputs": [
    {
     "data": {
      "text/html": [
       "'Our estimate for the total leaf mass based on glopnet is 23 Gt'"
      ],
      "text/latex": [
       "'Our estimate for the total leaf mass based on glopnet is 23 Gt'"
      ],
      "text/markdown": [
       "'Our estimate for the total leaf mass based on glopnet is 23 Gt'"
      ],
      "text/plain": [
       "[1] \"Our estimate for the total leaf mass based on glopnet is 23 Gt\""
      ]
     },
     "metadata": {},
     "output_type": "display_data"
    }
   ],
   "source": [
    "# Load glopnet data\n",
    "glopnet_data = read_excel('../data/literature_data.xlsx','glopnet_data',skip = 1)\n",
    "\n",
    "# calculate the geometric mean of the LMA\n",
    "glopnet_mean = 10^mean((glopnet_data$`log LMA`), na.rm = TRUE)\n",
    "\n",
    "# Multiply our best estimate of the total leaf area by the mean LMA to get the total mass of leaves\n",
    "method1_mean = best_global_leaf_area*glopnet_mean\n",
    "sprintf('Our estimate for the total leaf mass based on glopnet is %.0f Gt',method1_mean/1e15)"
   ]
  },
  {
   "cell_type": "markdown",
   "metadata": {},
   "source": [
    "The second method we use is a recent global mapping of plant traits [Butler et al.](http://dx.doi.org/10.1073/pnas.1708984114). We use a map of the specific leaf area (SLA), which is measured in m$^2$ per kg of dry leaf mass. We convert the SLA into units of gram dry leaf mass per m$^2$:"
   ]
  },
  {
   "cell_type": "code",
   "execution_count": 12,
   "metadata": {},
   "outputs": [
    {
     "name": "stderr",
     "output_type": "stream",
     "text": [
      "Warning message in points2grid(points, tolerance, round):\n",
      "“grid has empty column/rows in dimension 1”"
     ]
    }
   ],
   "source": [
    "# Load SMA data\n",
    "SLA_data = read.csv('../data/spat_1_superpft_sla_large.csv')\n",
    "\n",
    "# Convert units from m^2 per kg to g per m^2\n",
    "SLA_data$mean = 1000/SLA_data$mean\n",
    "\n",
    "# Convert the coordinate data into coordinates\n",
    "SLA_df = data.frame(lat=SLA_data$lat, lon=SLA_data$lon,mean=SLA_data$mean)\n",
    "coordinates(SLA_df) <- ~lon+lat\n",
    "\n",
    "# Set the projection of the SLA map to lat-lon\n",
    "proj4string(SLA_df)=CRS(\"+init=epsg:4326\")\n",
    "\n",
    "# Create a raster of SLA\n",
    "gridded(SLA_df) = TRUE\n",
    "SLA_raster = raster(SLA_df)"
   ]
  },
  {
   "cell_type": "markdown",
   "metadata": {},
   "source": [
    "We apply the map of leaf mass per area on both the maps of leaf area we constructed in the previous section (based on remote sensing or ground measuremetns)"
   ]
  },
  {
   "cell_type": "code",
   "execution_count": 13,
   "metadata": {},
   "outputs": [
    {
     "name": "stderr",
     "output_type": "stream",
     "text": [
      "Warning message in rgdal::rawTransform(projto_int, projfrom, nrow(xy), xy[, 1], :\n",
      "“35086 projected point(s) not finite”"
     ]
    }
   ],
   "source": [
    "# Calculate the leaf mass based on ground measurements of LAI\n",
    "# Multiply the mass of the leaf mass per unit area by the map of leaf area\n",
    "asner_leaf_mass_raster = overlay_maps(asner_leaf_area_raster,SLA_raster)\n",
    "\n",
    "# Project to an equal area projection\n",
    "asner_leaf_mass_raster_moll = projectRaster(asner_leaf_mass_raster,crs=moll)\n",
    "\n",
    "#Calculate the total leaf area\n",
    "asner_total_leaf_mass = cellStats(asner_leaf_mass_raster_moll, stat = 'sum')*prod(res(asner_leaf_mass_raster_moll))"
   ]
  },
  {
   "cell_type": "code",
   "execution_count": 14,
   "metadata": {},
   "outputs": [
    {
     "name": "stderr",
     "output_type": "stream",
     "text": [
      "Warning message in rgdal::rawTransform(projto_int, projfrom, nrow(xy), xy[, 1], :\n",
      "“35086 projected point(s) not finite”"
     ]
    }
   ],
   "source": [
    "# Calculate the leaf mass based on remote sensing measurements of LAI\n",
    "# Multiply the mass of the leaf mass per unit area by the map of leaf area\n",
    "glass_leaf_mass_raster = overlay_maps(best_lai_raster,SLA_raster)\n",
    "\n",
    "# Project to an equal area projection\n",
    "glass_leaf_mass_raster_moll = projectRaster(glass_leaf_mass_raster,crs=moll)\n",
    "\n",
    "#Calculate the total leaf mass\n",
    "glass_total_leaf_mass = cellStats(glass_leaf_mass_raster_moll, stat = 'sum')*prod(res(glass_leaf_mass_raster_moll))"
   ]
  },
  {
   "cell_type": "code",
   "execution_count": 15,
   "metadata": {},
   "outputs": [
    {
     "data": {
      "text/html": [
       "'Our best estimate for the total mass of leaves based on a map of leaf mass per unit area is 19 Gt'"
      ],
      "text/latex": [
       "'Our best estimate for the total mass of leaves based on a map of leaf mass per unit area is 19 Gt'"
      ],
      "text/markdown": [
       "'Our best estimate for the total mass of leaves based on a map of leaf mass per unit area is 19 Gt'"
      ],
      "text/plain": [
       "[1] \"Our best estimate for the total mass of leaves based on a map of leaf mass per unit area is 19 Gt\""
      ]
     },
     "metadata": {},
     "output_type": "display_data"
    }
   ],
   "source": [
    "# Calculate the geometric mean of the two estimates for the global mass of leaves\n",
    "method2_mean = gmean(glass_total_leaf_mass,asner_total_leaf_mass)\n",
    "\n",
    "sprintf('Our best estimate for the total mass of leaves based on a map of leaf mass per unit area is %.0f Gt', method2_mean/1e15)"
   ]
  },
  {
   "cell_type": "markdown",
   "metadata": {},
   "source": [
    "As our best estimate for the global leaf mass based on remote sensing, we use the geometric mean of the our estimates based on values from the glopenet database and the map of the specific leaf area"
   ]
  },
  {
   "cell_type": "code",
   "execution_count": 16,
   "metadata": {},
   "outputs": [
    {
     "data": {
      "text/html": [
       "'Our best estimate for the total mass of leaves is 21 Gt'"
      ],
      "text/latex": [
       "'Our best estimate for the total mass of leaves is 21 Gt'"
      ],
      "text/markdown": [
       "'Our best estimate for the total mass of leaves is 21 Gt'"
      ],
      "text/plain": [
       "[1] \"Our best estimate for the total mass of leaves is 21 Gt\""
      ]
     },
     "metadata": {},
     "output_type": "display_data"
    }
   ],
   "source": [
    "# Calculate the geometric mean of the estimates for leaf mass based on glopnet and the map of leaf mass\n",
    "best_leaf_mass_remote_sensing = gmean(method1_mean,method2_mean)\n",
    "sprintf('Our best estimate for the total mass of leaves is %.0f Gt', best_leaf_mass_remote_sensing/1e15)"
   ]
  },
  {
   "cell_type": "markdown",
   "metadata": {},
   "source": [
    "# Estimating the global mass of leaves in woody and herbaceous plants\n",
    "In this section, we estimate the fraction of the global leaf mass that is found in woody plants and herbaceous plants. In order to generate the estimate, we use four different methodologies - with two different leaf area maps (the ground-based LAI map and the remote sensing-based LAI map) and two different conversions from leaf area to leaf mass (one based on glopnet and one based on plant trait maps in Butler et al.)."
   ]
  },
  {
   "cell_type": "code",
   "execution_count": 17,
   "metadata": {},
   "outputs": [
    {
     "name": "stderr",
     "output_type": "stream",
     "text": [
      "Warning message in rgdal::rawTransform(projto_int, projfrom, nrow(xy), xy[, 1], :\n",
      "“1161417 projected point(s) not finite”Warning message in rgdal::rawTransform(projto_int, projfrom, nrow(xy), xy[, 1], :\n",
      "“1161417 projected point(s) not finite”Warning message in rgdal::rawTransform(projto_int, projfrom, nrow(xy), xy[, 1], :\n",
      "“35086 projected point(s) not finite”Warning message in rgdal::rawTransform(projto_int, projfrom, nrow(xy), xy[, 1], :\n",
      "“35086 projected point(s) not finite”"
     ]
    },
    {
     "data": {
      "text/html": [
       "'Our best estimate fraction of leaf mass that is in herbaceous plants is 23 percent'"
      ],
      "text/latex": [
       "'Our best estimate fraction of leaf mass that is in herbaceous plants is 23 percent'"
      ],
      "text/markdown": [
       "'Our best estimate fraction of leaf mass that is in herbaceous plants is 23 percent'"
      ],
      "text/plain": [
       "[1] \"Our best estimate fraction of leaf mass that is in herbaceous plants is 23 percent\""
      ]
     },
     "metadata": {},
     "output_type": "display_data"
    }
   ],
   "source": [
    "# Produce a mask with the surface area that is covered by herbaceous plants\n",
    "# (grasslands, croplands and cropland/Natural vegetation mosaics)\n",
    "herb_raster = (biome_data == 10) | (biome_data == 12) | (biome_data == 14)\n",
    "\n",
    "## Method 1\n",
    "# Estimate the fraction of herbaceous leaf mass using ground-based leaf area map and\n",
    "# a constant leaf mass per unit leaf area based on glopnet\n",
    "\n",
    "#Overlay the maps of herbaceous cover with the ground-based leaf area map\n",
    "ground_constant_herb_mass = overlay_maps(herb_raster,asner_lai_raster, calc_sum=TRUE)\n",
    "\n",
    "# Calculate the fraction of leaf mass in herbaceous plants\n",
    "ground_constant_herb_mass_frac = ground_constant_herb_mass/asner_total_leaf_area\n",
    "\n",
    "\n",
    "## Method 2\n",
    "# Estimate the fraction of herbaceous leaf mass using remote sensing-based leaf area map and\n",
    "# a constant leaf mass per unit leaf area based on glopnet\n",
    "\n",
    "#Overlay the maps of herbaceous cover with the remote sensing-based leaf area map\n",
    "rs_constant_herb_mass = overlay_maps(herb_raster,best_lai_raster, calc_sum=TRUE)\n",
    "\n",
    "# Calculate the fraction of leaf mass in herbaceous plants\n",
    "rs_constant_herb_mass_frac = rs_constant_herb_mass/mean(result_MODIS$lai)\n",
    "\n",
    "## Method 3\n",
    "# Estimate the fraction of herbaceous leaf mass using ground-based leaf mass map based\n",
    "# on a the leaf mass per unit area map\n",
    "\n",
    "#Overlay the maps of herbaceous cover with the ground-based leaf mass map\n",
    "ground_butler_herb_mass = overlay_maps(herb_raster,asner_leaf_mass_raster, calc_sum=TRUE)\n",
    "\n",
    "# Calculate the fraction of leaf mass in herbaceous plants\n",
    "ground_butler_herb_mass_frac = ground_butler_herb_mass/asner_total_leaf_mass\n",
    "\n",
    "## Method 4\n",
    "# Estimate the fraction of herbaceous leaf mass using remote sensing-based leaf mass\n",
    "# map based on a the leaf mass per unit area map\n",
    "\n",
    "#Overlay the maps of herbaceous cover with the remote sensing-based leaf mass map\n",
    "rs_butler_herb_mass = overlay_maps(herb_raster,glass_leaf_mass_raster, calc_sum=TRUE)\n",
    "\n",
    "# Calculate the fraction of leaf mass in herbaceous plants\n",
    "rs_butler_herb_mass_frac = rs_butler_herb_mass/glass_total_leaf_mass\n",
    "\n",
    "\n",
    "# Calculate the geometric mean of all methods\n",
    "best_herb_mass_frac = prod(c(ground_constant_herb_mass_frac,rs_constant_herb_mass_frac,ground_butler_herb_mass_frac,rs_butler_herb_mass_frac))^(1/4)\n",
    "sprintf('Our best estimate fraction of leaf mass that is in herbaceous plants is %.0f percent',best_herb_mass_frac*100)"
   ]
  },
  {
   "cell_type": "markdown",
   "metadata": {},
   "source": [
    "## Estimating the total leaf mass of C4 plants\n",
    "To estimate the total mass of leaves of C4 plants, we estimate seperately the mass leaves of C4 crops and C4 natural vegetation"
   ]
  },
  {
   "cell_type": "markdown",
   "metadata": {},
   "source": [
    "### Crops\n",
    "To estimate the total mass of leaves of C4 crops, we rely on the leaf masss maps we constructed in previous sections, in conjunction with maps of the fraction of area that contains C4 crops from [Monfreda et al.](http://dx.doi.org/10.1029/2007GB002947). We use the dominant C4 crops maize, sorghum and sugarcane as an indicator for the amount of C4 crops at every location."
   ]
  },
  {
   "cell_type": "code",
   "execution_count": 18,
   "metadata": {},
   "outputs": [],
   "source": [
    "# Load data on C4 crops\n",
    "maize = raster('../data/C4_leaf_mass/HarvestedAreaYieldMajorCrops_Geotiff/maize_HarvAreaYield_Geotiff/maize_HarvestedAreaFraction.tif')\n",
    "sorghum = raster('../data/C4_leaf_mass/HarvestedAreaYieldMajorCrops_Geotiff/sorghum_HarvAreaYield_Geotiff/sorghum_HarvestedAreaFraction.tif')\n",
    "sugarcane = raster('../data/C4_leaf_mass/HarvestedAreaYieldMajorCrops_Geotiff/sugarcane_HarvAreaYield_Geotiff/sugarcane_HarvestedAreaFraction.tif')\n",
    "C4_crops = (maize+sorghum+sugarcane)"
   ]
  },
  {
   "cell_type": "markdown",
   "metadata": {},
   "source": [
    "To generate our estimate of the total mass of leaves of C4 crops, we multiply the map of the fraction of surface area covered by C4 crops by our four maps of the total mass of leaves"
   ]
  },
  {
   "cell_type": "code",
   "execution_count": 19,
   "metadata": {},
   "outputs": [
    {
     "name": "stderr",
     "output_type": "stream",
     "text": [
      "Warning message in rgdal::rawTransform(projto_int, projfrom, nrow(xy), xy[, 1], :\n",
      "“1161417 projected point(s) not finite”Warning message in rgdal::rawTransform(projto_int, projfrom, nrow(xy), xy[, 1], :\n",
      "“1686513 projected point(s) not finite”Warning message in rgdal::rawTransform(projto_int, projfrom, nrow(xy), xy[, 1], :\n",
      "“35086 projected point(s) not finite”Warning message in rgdal::rawTransform(projto_int, projfrom, nrow(xy), xy[, 1], :\n",
      "“35086 projected point(s) not finite”"
     ]
    }
   ],
   "source": [
    "total_C4_crop_leaf_mass1 = overlay_maps(C4_crops,asner_lai_raster, calc_sum = TRUE)*100\n",
    "total_C4_crop_leaf_mass2 = overlay_maps(C4_crops,best_lai_raster, calc_sum = TRUE)*100\n",
    "total_C4_crop_leaf_mass3 = overlay_maps(C4_crops,glass_leaf_mass_raster, calc_sum = TRUE)\n",
    "total_C4_crop_leaf_mass4 = overlay_maps(C4_crops,asner_leaf_mass_raster, calc_sum = TRUE)\n",
    "#glass_total_C4_leaf_mass/rs_butler_herb_mass\n",
    "best_tot_C4_crop_leaf_mass = prod(c(total_C4_crop_leaf_mass1,total_C4_crop_leaf_mass2,total_C4_crop_leaf_mass3,total_C4_crop_leaf_mass4))^(1/4)"
   ]
  },
  {
   "cell_type": "markdown",
   "metadata": {},
   "source": [
    "Our best estimate of the total mass of leaves in C4 crops is the geometric mean of the four different estimates:"
   ]
  },
  {
   "cell_type": "code",
   "execution_count": 20,
   "metadata": {},
   "outputs": [
    {
     "data": {
      "text/html": [
       "'Our best esimate for the total mass of leaves of C4 crops is ≈0.4 Gt'"
      ],
      "text/latex": [
       "'Our best esimate for the total mass of leaves of C4 crops is ≈0.4 Gt'"
      ],
      "text/markdown": [
       "'Our best esimate for the total mass of leaves of C4 crops is ≈0.4 Gt'"
      ],
      "text/plain": [
       "[1] \"Our best esimate for the total mass of leaves of C4 crops is ≈0.4 Gt\""
      ]
     },
     "metadata": {},
     "output_type": "display_data"
    }
   ],
   "source": [
    "best_tot_C4_crop_leaf_mass = prod(c(total_C4_crop_leaf_mass1,total_C4_crop_leaf_mass2,total_C4_crop_leaf_mass3,total_C4_crop_leaf_mass4))^(1/4)\n",
    "sprintf('Our best esimate for the total mass of leaves of C4 crops is ≈%.1f Gt', best_tot_C4_crop_leaf_mass/1e15 )"
   ]
  },
  {
   "cell_type": "markdown",
   "metadata": {},
   "source": [
    "### Natural vegetation\n",
    "To estimate the total mass of leaves of natural C4 plants, we rely on a depiction of the fraction of C4 coverage globally ([Still et al.](http://dx.doi.org/10.1029/2001GB001807)). Still et al. includes C4 coverage of biomes that are dominated by woody platns such as savanna and shrublands, because these environments include also herbaceous understory. Currently, there is no procedure to directly estimate the fraction of the understory out of the leaf mass in these biomes. Therefore, we generate two estimates of the fraction of C4 plants out of the global leaf mass - one that takes into account the fraction of C4 plants only out of grasslands, and the other includes also savanna and shrublands.\n",
    "\n",
    "#### Estimate 1 - C4 only in grasslands\n",
    "We generate the a map of C4 area coverage only in grasslands. We use the natural C4 plant coverage map in conjunction with the leaf masss maps we constructed in previous sections to generate an estiamte for the total leaf mass of natural C4 plants."
   ]
  },
  {
   "cell_type": "code",
   "execution_count": 21,
   "metadata": {},
   "outputs": [
    {
     "name": "stderr",
     "output_type": "stream",
     "text": [
      "Warning message in rgdal::rawTransform(projto_int, projfrom, nrow(xy), xy[, 1], :\n",
      "“11822 projected point(s) not finite”Warning message in rgdal::rawTransform(projto_int, projfrom, nrow(xy), xy[, 1], :\n",
      "“11822 projected point(s) not finite”Warning message in rgdal::rawTransform(projto_int, projfrom, nrow(xy), xy[, 1], :\n",
      "“10849 projected point(s) not finite”Warning message in rgdal::rawTransform(projto_int, projfrom, nrow(xy), xy[, 1], :\n",
      "“10849 projected point(s) not finite”"
     ]
    },
    {
     "data": {
      "text/html": [
       "0.241228995404157"
      ],
      "text/latex": [
       "0.241228995404157"
      ],
      "text/markdown": [
       "0.241228995404157"
      ],
      "text/plain": [
       "[1] 0.241229"
      ]
     },
     "metadata": {},
     "output_type": "display_data"
    }
   ],
   "source": [
    "# Load the data from Still et al.\n",
    "natural_c4_frac = read.asciigrid('../data/C4_leaf_mass/ISLSCP_C4_1DEG_932/data/c4_percent_1d.asc')\n",
    "natural_c4_frac = raster(natural_c4_frac)/100\n",
    "natural_c4_frac[natural_c4_frac<0] = 0\n",
    "crs(natural_c4_frac) = CRS(\"+proj=longlat +datum=WGS84\")\n",
    "\n",
    "grasslands_raster = biome_data\n",
    "grasslands_raster = grasslands_raster==10\n",
    "corrected_natural_c4_frac_grassland = overlay_maps(natural_c4_frac,grasslands_raster)\n",
    "\n",
    "nat_c4_mass_frac_grassland1 = overlay_maps(corrected_natural_c4_frac_grassland,asner_lai_raster,calc_sum = TRUE)*100\n",
    "nat_c4_mass_frac_grassland2 = overlay_maps(corrected_natural_c4_frac_grassland,best_lai_raster,calc_sum = TRUE)*100\n",
    "nat_c4_mass_frac_grassland3 = overlay_maps(corrected_natural_c4_frac_grassland,asner_leaf_mass_raster,calc_sum = TRUE,crop_extent = extent(c(-180,180,-56,83)))\n",
    "nat_c4_mass_frac_grassland4 = overlay_maps(corrected_natural_c4_frac_grassland,glass_leaf_mass_raster,calc_sum = TRUE,crop_extent = extent(c(-180,180,-56,83)))\n",
    "best_nat_c4_mass_frac_grassland = prod(nat_c4_mass_frac_grassland1,nat_c4_mass_frac_grassland2,nat_c4_mass_frac_grassland3,nat_c4_mass_frac_grassland4)^(1/4)"
   ]
  },
  {
   "cell_type": "markdown",
   "metadata": {},
   "source": [
    "#### Estimate 2 - C4 in all biomes expect croplands\n",
    "We generate the a map of C4 area coverage in grasslands and also savanna and shrublands. We use the natural C4 plant coverage map in conjunction with the leaf masss maps we constructed in previous sections to generate an estiamte for the total leaf mass of natural C4 plants."
   ]
  },
  {
   "cell_type": "code",
   "execution_count": 22,
   "metadata": {},
   "outputs": [
    {
     "name": "stderr",
     "output_type": "stream",
     "text": [
      "Warning message in rgdal::rawTransform(projto_int, projfrom, nrow(xy), xy[, 1], :\n",
      "“11822 projected point(s) not finite”Warning message in rgdal::rawTransform(projto_int, projfrom, nrow(xy), xy[, 1], :\n",
      "“11822 projected point(s) not finite”Warning message in rgdal::rawTransform(projto_int, projfrom, nrow(xy), xy[, 1], :\n",
      "“10849 projected point(s) not finite”Warning message in rgdal::rawTransform(projto_int, projfrom, nrow(xy), xy[, 1], :\n",
      "“10849 projected point(s) not finite”"
     ]
    }
   ],
   "source": [
    "# Create a mask of land excluding croplands\n",
    "crop_raster = biome_data\n",
    "crop_raster[crop_raster==0] = 12\n",
    "crop_raster[crop_raster!=12] = 1\n",
    "crop_raster[crop_raster==12] = 0\n",
    "\n",
    "\n",
    "corrected_natural_c4_frac = overlay_maps(natural_c4_frac,crop_raster)\n",
    "\n",
    "nat_c4_mass_frac_all1 = overlay_maps(corrected_natural_c4_frac,asner_lai_raster,calc_sum = TRUE)*100\n",
    "nat_c4_mass_frac_all2 = overlay_maps(corrected_natural_c4_frac,best_lai_raster,calc_sum = TRUE)*100\n",
    "nat_c4_mass_frac_all3 = overlay_maps(corrected_natural_c4_frac,asner_leaf_mass_raster,calc_sum = TRUE,crop_extent = extent(c(-180,180,-56,83)))\n",
    "nat_c4_mass_frac_all4 = overlay_maps(corrected_natural_c4_frac,glass_leaf_mass_raster,calc_sum = TRUE,crop_extent = extent(c(-180,180,-56,83)))\n",
    "best_nat_c4_mass_frac_all = prod(nat_c4_mass_frac_all1,nat_c4_mass_frac_all2,nat_c4_mass_frac_all3,nat_c4_mass_frac_all4)^(1/4)"
   ]
  },
  {
   "cell_type": "markdown",
   "metadata": {},
   "source": [
    "Our best estimate for the mass of leaves in C4 plants in natural habitats is the geometric mean of the two estimates using only grasslands or all natural biomes:"
   ]
  },
  {
   "cell_type": "code",
   "execution_count": 23,
   "metadata": {},
   "outputs": [
    {
     "data": {
      "text/html": [
       "'Our best esimate for the total mass of leaves of natural C4 plants is ≈0.9 Gt'"
      ],
      "text/latex": [
       "'Our best esimate for the total mass of leaves of natural C4 plants is ≈0.9 Gt'"
      ],
      "text/markdown": [
       "'Our best esimate for the total mass of leaves of natural C4 plants is ≈0.9 Gt'"
      ],
      "text/plain": [
       "[1] \"Our best esimate for the total mass of leaves of natural C4 plants is ≈0.9 Gt\""
      ]
     },
     "metadata": {},
     "output_type": "display_data"
    }
   ],
   "source": [
    "best_nat_c4_leaf_mass = gmean(best_nat_c4_mass_frac_all,best_nat_c4_mass_frac_grassland)\n",
    "sprintf('Our best esimate for the total mass of leaves of natural C4 plants is ≈%.1f Gt', best_nat_c4_leaf_mass/1e15 )"
   ]
  },
  {
   "cell_type": "markdown",
   "metadata": {},
   "source": [
    "As our best estimate of the total mass of leaves of C4 plants, we sum the our best estimates for the total mass of leaves of C4 crops and natural C4 plants"
   ]
  },
  {
   "cell_type": "code",
   "execution_count": 24,
   "metadata": {},
   "outputs": [
    {
     "data": {
      "text/html": [
       "'Our best esimate for the total mass of leaves of C4 plants is ≈1.2 Gt'"
      ],
      "text/latex": [
       "'Our best esimate for the total mass of leaves of C4 plants is ≈1.2 Gt'"
      ],
      "text/markdown": [
       "'Our best esimate for the total mass of leaves of C4 plants is ≈1.2 Gt'"
      ],
      "text/plain": [
       "[1] \"Our best esimate for the total mass of leaves of C4 plants is ≈1.2 Gt\""
      ]
     },
     "metadata": {},
     "output_type": "display_data"
    }
   ],
   "source": [
    "best_tot_C4_leaf_mass = best_nat_c4_leaf_mass+best_tot_C4_crop_leaf_mass\n",
    "sprintf('Our best esimate for the total mass of leaves of C4 plants is ≈%.1f Gt', best_tot_C4_leaf_mass/1e15 )"
   ]
  },
  {
   "cell_type": "markdown",
   "metadata": {},
   "source": [
    "We also estimate the fraction of the total herbaceous leaf mass that is contributed by C4 plants:"
   ]
  },
  {
   "cell_type": "code",
   "execution_count": 25,
   "metadata": {},
   "outputs": [
    {
     "data": {
      "text/html": [
       "'Our best esimate for the fraction of total mass of leaves of herbaceous plants that is in C4 plants is ≈25 percent'"
      ],
      "text/latex": [
       "'Our best esimate for the fraction of total mass of leaves of herbaceous plants that is in C4 plants is ≈25 percent'"
      ],
      "text/markdown": [
       "'Our best esimate for the fraction of total mass of leaves of herbaceous plants that is in C4 plants is ≈25 percent'"
      ],
      "text/plain": [
       "[1] \"Our best esimate for the fraction of total mass of leaves of herbaceous plants that is in C4 plants is ≈25 percent\""
      ]
     },
     "metadata": {},
     "output_type": "display_data"
    }
   ],
   "source": [
    "tot_herb_leaf_mass = prod(ground_constant_herb_mass*100,rs_constant_herb_mass*100,ground_butler_herb_mass,rs_butler_herb_mass)^(1/4)\n",
    "best_tot_C4_leaf_frac = best_tot_C4_leaf_mass/tot_herb_leaf_mass\n",
    "sprintf('Our best esimate for the fraction of total mass of leaves of herbaceous plants that is in C4 plants is ≈%.0f percent', best_tot_C4_leaf_frac*100 )"
   ]
  },
  {
   "cell_type": "markdown",
   "metadata": {},
   "source": [
    "# Uncertainty analysis\n",
    "\n",
    "We calculate an uncetainty projection for our estimate of the total mass of leaves based on remote sensing. This is a multiplicative uncertainty akin to a 95% confidence interval. We start with estimating the uncertainty around our estimate of the total area of leaves:"
   ]
  },
  {
   "cell_type": "code",
   "execution_count": 26,
   "metadata": {},
   "outputs": [
    {
     "data": {
      "text/html": [
       "'Our best projection for the uncertainty associated with our estimate of the total leaf area is 1.9-fold'"
      ],
      "text/latex": [
       "'Our best projection for the uncertainty associated with our estimate of the total leaf area is 1.9-fold'"
      ],
      "text/markdown": [
       "'Our best projection for the uncertainty associated with our estimate of the total leaf area is 1.9-fold'"
      ],
      "text/plain": [
       "[1] \"Our best projection for the uncertainty associated with our estimate of the total leaf area is 1.9-fold\""
      ]
     },
     "metadata": {},
     "output_type": "display_data"
    }
   ],
   "source": [
    "leaf_area_CI = mul_CI(c(asner_total_leaf_area,mean(result_MODIS$lai)))\n",
    "sprintf('Our best projection for the uncertainty associated with our estimate of the total leaf area is %.1f-fold', leaf_area_CI)"
   ]
  },
  {
   "cell_type": "markdown",
   "metadata": {},
   "source": [
    "In order to calculate the total mass of leaves based on remote sensing, we multiply the total leaf mass by the leaf mass per unit leaf area. Next, we calculate the uncertainty associated with our estimate of the leaf mass per unit leaf area. To calculate the characteristic leaf mass per unit leaf area, we relied on an estimate based on a database of plant traits in ≈2000 plant species, and a map of plant traits. For each estimate, we calculate the uncertainty associated with it.\n",
    "\n",
    "### leaf mass per unit leaf area based on species database\n",
    "Our estimate was based on the geomteric mean across plant species. As an estimate of the uncertainty associated with this estimate, we calculate the 95% confidence interval of around the geometric mean of the leaf mass per unit leaf area across all species:"
   ]
  },
  {
   "cell_type": "code",
   "execution_count": 27,
   "metadata": {},
   "outputs": [
    {
     "data": {
      "text/html": [
       "'Our best projection for the uncertainty associated with our estimate of the leaf mass per unit leaf area based on the species database is 1.2-fold'"
      ],
      "text/latex": [
       "'Our best projection for the uncertainty associated with our estimate of the leaf mass per unit leaf area based on the species database is 1.2-fold'"
      ],
      "text/markdown": [
       "'Our best projection for the uncertainty associated with our estimate of the leaf mass per unit leaf area based on the species database is 1.2-fold'"
      ],
      "text/plain": [
       "[1] \"Our best projection for the uncertainty associated with our estimate of the leaf mass per unit leaf area based on the species database is 1.2-fold\""
      ]
     },
     "metadata": {},
     "output_type": "display_data"
    }
   ],
   "source": [
    "glopnet_CI = mul_CI(na.exclude(glopnet_data$`log LMA`))\n",
    "sprintf('Our best projection for the uncertainty associated with our estimate of the leaf mass per unit leaf area based on the species database is %.1f-fold', glopnet_CI)"
   ]
  },
  {
   "cell_type": "markdown",
   "metadata": {},
   "source": [
    "The uncertainty of 1.2-fold in the estimate of the leaf mass is larger than the uncertainty between our different methodologies (the species based database and the trait maps). Therefore, we use this uncertainty as our best projection of the uncertainty associated with the characteristic mass of leaves per unit leaf area.\n",
    "\n",
    "Combining the uncertainty associated with the total area of leaves with the uncertainty associated with our estimate for leaf mass per unit leaf area, we get a projection for the uncertainty associated with the estimate of the total mass of leaves based on remote sensing:"
   ]
  },
  {
   "cell_type": "code",
   "execution_count": 28,
   "metadata": {},
   "outputs": [
    {
     "data": {
      "text/html": [
       "'Our best projection for the uncertainty associated with our estimate of the total leaf mass based on remote sensing is 1.9-fold'"
      ],
      "text/latex": [
       "'Our best projection for the uncertainty associated with our estimate of the total leaf mass based on remote sensing is 1.9-fold'"
      ],
      "text/markdown": [
       "'Our best projection for the uncertainty associated with our estimate of the total leaf mass based on remote sensing is 1.9-fold'"
      ],
      "text/plain": [
       "[1] \"Our best projection for the uncertainty associated with our estimate of the total leaf mass based on remote sensing is 1.9-fold\""
      ]
     },
     "metadata": {},
     "output_type": "display_data"
    }
   ],
   "source": [
    "rs_leaf_mass_CI = CI_prod_prop(c(glopnet_CI,leaf_area_CI))\n",
    "sprintf('Our best projection for the uncertainty associated with our estimate of the total leaf mass based on remote sensing is %.1f-fold', rs_leaf_mass_CI)"
   ]
  },
  {
   "cell_type": "markdown",
   "metadata": {},
   "source": [
    "### Uncertainty of the mass of herbaceous vegetation\n",
    "In order to evaluate the uncertainty associated with our estimate of the total mass of leaves of herbaceous plants, we calculate the 95% confidence interval of around the geometric mean of the mass of herbaceous leaves out of our four estimates:"
   ]
  },
  {
   "cell_type": "code",
   "execution_count": 29,
   "metadata": {},
   "outputs": [
    {
     "data": {
      "text/html": [
       "'Our best projection for the uncertainty associated with our estimate of the total herbaceous leaf mass is 2.4-fold'"
      ],
      "text/latex": [
       "'Our best projection for the uncertainty associated with our estimate of the total herbaceous leaf mass is 2.4-fold'"
      ],
      "text/markdown": [
       "'Our best projection for the uncertainty associated with our estimate of the total herbaceous leaf mass is 2.4-fold'"
      ],
      "text/plain": [
       "[1] \"Our best projection for the uncertainty associated with our estimate of the total herbaceous leaf mass is 2.4-fold\""
      ]
     },
     "metadata": {},
     "output_type": "display_data"
    }
   ],
   "source": [
    "herb_leaf_mass_CI = mul_CI(c(ground_constant_herb_mass*100,rs_constant_herb_mass*100,ground_butler_herb_mass,rs_butler_herb_mass))\n",
    "sprintf('Our best projection for the uncertainty associated with our estimate of the total herbaceous leaf mass is %.1f-fold', herb_leaf_mass_CI)"
   ]
  },
  {
   "cell_type": "markdown",
   "metadata": {},
   "source": [
    "### Uncertainty of the mass of herbaceous vegetation\n",
    "In order to evaluate the uncertainty associated with our estimate of the total mass of leaves of C4 plants, we calculate the 95% confidence interval of around the geometric mean of the mass of C$ leaves out of our four estimates:"
   ]
  },
  {
   "cell_type": "code",
   "execution_count": 30,
   "metadata": {},
   "outputs": [
    {
     "data": {
      "text/html": [
       "'Our best projection for the uncertainty associated with our estimate of the total C4 leaf mass is 1.8-fold'"
      ],
      "text/latex": [
       "'Our best projection for the uncertainty associated with our estimate of the total C4 leaf mass is 1.8-fold'"
      ],
      "text/markdown": [
       "'Our best projection for the uncertainty associated with our estimate of the total C4 leaf mass is 1.8-fold'"
      ],
      "text/plain": [
       "[1] \"Our best projection for the uncertainty associated with our estimate of the total C4 leaf mass is 1.8-fold\""
      ]
     },
     "metadata": {},
     "output_type": "display_data"
    }
   ],
   "source": [
    "C4_leaf_mass_CI = mul_CI(c(nat_c4_mass_frac_all1,nat_c4_mass_frac_all2,nat_c4_mass_frac_all3,nat_c4_mass_frac_all4))\n",
    "sprintf('Our best projection for the uncertainty associated with our estimate of the total C4 leaf mass is %.1f-fold', C4_leaf_mass_CI)"
   ]
  },
  {
   "cell_type": "markdown",
   "metadata": {},
   "source": [
    "We also estimate the uncertainty associated with our estimate of the fraction of hebaceous leaves that is in C4 plants:"
   ]
  },
  {
   "cell_type": "code",
   "execution_count": 31,
   "metadata": {},
   "outputs": [
    {
     "data": {
      "text/html": [
       "'Our best projection for the uncertainty associated with our estimate of the fraction of the total herbaceous leaf mass that is in C4 plants is 2.8-fold'"
      ],
      "text/latex": [
       "'Our best projection for the uncertainty associated with our estimate of the fraction of the total herbaceous leaf mass that is in C4 plants is 2.8-fold'"
      ],
      "text/markdown": [
       "'Our best projection for the uncertainty associated with our estimate of the fraction of the total herbaceous leaf mass that is in C4 plants is 2.8-fold'"
      ],
      "text/plain": [
       "[1] \"Our best projection for the uncertainty associated with our estimate of the fraction of the total herbaceous leaf mass that is in C4 plants is 2.8-fold\""
      ]
     },
     "metadata": {},
     "output_type": "display_data"
    }
   ],
   "source": [
    "C4_leaf_mass_frac_CI = CI_prod_prop(c(herb_leaf_mass_CI,C4_leaf_mass_CI))\n",
    "sprintf('Our best projection for the uncertainty associated with our estimate of the fraction of the total herbaceous leaf mass that is in C4 plants is %.1f-fold', C4_leaf_mass_frac_CI)"
   ]
  }
 ],
 "metadata": {
  "kernelspec": {
   "display_name": "R",
   "language": "R",
   "name": "ir"
  },
  "language_info": {
   "codemirror_mode": "r",
   "file_extension": ".r",
   "mimetype": "text/x-r-source",
   "name": "R",
   "pygments_lexer": "r",
   "version": "3.5.1"
  }
 },
 "nbformat": 4,
 "nbformat_minor": 2
}
